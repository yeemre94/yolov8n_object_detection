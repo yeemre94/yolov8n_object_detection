{
 "cells": [
  {
   "cell_type": "code",
   "execution_count": 1,
   "id": "093e1e8e-7f79-4003-9b6d-5515812c2525",
   "metadata": {},
   "outputs": [
    {
     "name": "stdout",
     "output_type": "stream",
     "text": [
      "Collecting ultralytics\n",
      "  Downloading ultralytics-8.3.147-py3-none-any.whl (1.0 MB)\n",
      "Collecting opencv-python\n",
      "  Downloading opencv_python-4.11.0.86-cp37-abi3-win_amd64.whl (39.5 MB)\n",
      "Collecting matplotlib\n",
      "  Downloading matplotlib-3.10.3-cp310-cp310-win_amd64.whl (8.1 MB)\n",
      "Collecting pillow>=7.1.2\n",
      "  Downloading pillow-11.2.1-cp310-cp310-win_amd64.whl (2.7 MB)\n",
      "Collecting pandas>=1.1.4\n",
      "  Downloading pandas-2.2.3-cp310-cp310-win_amd64.whl (11.6 MB)\n",
      "Collecting numpy>=1.23.0\n",
      "  Downloading numpy-2.2.6-cp310-cp310-win_amd64.whl (12.9 MB)\n",
      "Collecting ultralytics-thop>=2.0.0\n",
      "  Downloading ultralytics_thop-2.0.14-py3-none-any.whl (26 kB)\n",
      "Collecting tqdm>=4.64.0\n",
      "  Downloading tqdm-4.67.1-py3-none-any.whl (78 kB)\n",
      "Collecting torchvision>=0.9.0\n",
      "  Downloading torchvision-0.22.0-cp310-cp310-win_amd64.whl (1.7 MB)\n",
      "Requirement already satisfied: psutil in d:\\yolo_project\\.venv\\lib\\site-packages (from ultralytics) (7.0.0)\n",
      "Requirement already satisfied: pyyaml>=5.3.1 in d:\\yolo_project\\.venv\\lib\\site-packages (from ultralytics) (6.0.2)\n",
      "Collecting torch!=2.4.0,>=1.8.0\n",
      "  Downloading torch-2.7.0-cp310-cp310-win_amd64.whl (212.5 MB)\n",
      "Requirement already satisfied: requests>=2.23.0 in d:\\yolo_project\\.venv\\lib\\site-packages (from ultralytics) (2.32.3)\n",
      "Collecting scipy>=1.4.1\n",
      "  Downloading scipy-1.15.3-cp310-cp310-win_amd64.whl (41.3 MB)\n",
      "Collecting py-cpuinfo\n",
      "  Downloading py_cpuinfo-9.0.0-py3-none-any.whl (22 kB)\n",
      "Requirement already satisfied: python-dateutil>=2.7 in d:\\yolo_project\\.venv\\lib\\site-packages (from matplotlib) (2.9.0.post0)\n",
      "Collecting contourpy>=1.0.1\n",
      "  Downloading contourpy-1.3.2-cp310-cp310-win_amd64.whl (221 kB)\n",
      "Collecting pyparsing>=2.3.1\n",
      "  Downloading pyparsing-3.2.3-py3-none-any.whl (111 kB)\n",
      "Collecting kiwisolver>=1.3.1\n",
      "  Downloading kiwisolver-1.4.8-cp310-cp310-win_amd64.whl (71 kB)\n",
      "Collecting cycler>=0.10\n",
      "  Downloading cycler-0.12.1-py3-none-any.whl (8.3 kB)\n",
      "Requirement already satisfied: packaging>=20.0 in d:\\yolo_project\\.venv\\lib\\site-packages (from matplotlib) (25.0)\n",
      "Collecting fonttools>=4.22.0\n",
      "  Downloading fonttools-4.58.1-cp310-cp310-win_amd64.whl (2.2 MB)\n",
      "Collecting tzdata>=2022.7\n",
      "  Downloading tzdata-2025.2-py2.py3-none-any.whl (347 kB)\n",
      "Collecting pytz>=2020.1\n",
      "  Downloading pytz-2025.2-py2.py3-none-any.whl (509 kB)\n",
      "Requirement already satisfied: six>=1.5 in d:\\yolo_project\\.venv\\lib\\site-packages (from python-dateutil>=2.7->matplotlib) (1.17.0)\n",
      "Requirement already satisfied: idna<4,>=2.5 in d:\\yolo_project\\.venv\\lib\\site-packages (from requests>=2.23.0->ultralytics) (3.10)\n",
      "Requirement already satisfied: urllib3<3,>=1.21.1 in d:\\yolo_project\\.venv\\lib\\site-packages (from requests>=2.23.0->ultralytics) (2.4.0)\n",
      "Requirement already satisfied: certifi>=2017.4.17 in d:\\yolo_project\\.venv\\lib\\site-packages (from requests>=2.23.0->ultralytics) (2025.4.26)\n",
      "Requirement already satisfied: charset-normalizer<4,>=2 in d:\\yolo_project\\.venv\\lib\\site-packages (from requests>=2.23.0->ultralytics) (3.4.2)\n",
      "Collecting sympy>=1.13.3\n",
      "  Downloading sympy-1.14.0-py3-none-any.whl (6.3 MB)\n",
      "Collecting fsspec\n",
      "  Downloading fsspec-2025.5.1-py3-none-any.whl (199 kB)\n",
      "Requirement already satisfied: jinja2 in d:\\yolo_project\\.venv\\lib\\site-packages (from torch!=2.4.0,>=1.8.0->ultralytics) (3.1.6)\n",
      "Collecting networkx\n",
      "  Downloading networkx-3.4.2-py3-none-any.whl (1.7 MB)\n",
      "Requirement already satisfied: typing-extensions>=4.10.0 in d:\\yolo_project\\.venv\\lib\\site-packages (from torch!=2.4.0,>=1.8.0->ultralytics) (4.13.2)\n",
      "Collecting filelock\n",
      "  Downloading filelock-3.18.0-py3-none-any.whl (16 kB)\n",
      "Collecting mpmath<1.4,>=1.1.0\n",
      "  Downloading mpmath-1.3.0-py3-none-any.whl (536 kB)\n",
      "Requirement already satisfied: colorama in d:\\yolo_project\\.venv\\lib\\site-packages (from tqdm>=4.64.0->ultralytics) (0.4.6)\n",
      "Requirement already satisfied: MarkupSafe>=2.0 in d:\\yolo_project\\.venv\\lib\\site-packages (from jinja2->torch!=2.4.0,>=1.8.0->ultralytics) (3.0.2)\n",
      "Installing collected packages: mpmath, sympy, numpy, networkx, fsspec, filelock, tzdata, torch, pytz, pyparsing, pillow, kiwisolver, fonttools, cycler, contourpy, ultralytics-thop, tqdm, torchvision, scipy, py-cpuinfo, pandas, opencv-python, matplotlib, ultralytics\n",
      "Successfully installed contourpy-1.3.2 cycler-0.12.1 filelock-3.18.0 fonttools-4.58.1 fsspec-2025.5.1 kiwisolver-1.4.8 matplotlib-3.10.3 mpmath-1.3.0 networkx-3.4.2 numpy-2.2.6 opencv-python-4.11.0.86 pandas-2.2.3 pillow-11.2.1 py-cpuinfo-9.0.0 pyparsing-3.2.3 pytz-2025.2 scipy-1.15.3 sympy-1.14.0 torch-2.7.0 torchvision-0.22.0 tqdm-4.67.1 tzdata-2025.2 ultralytics-8.3.147 ultralytics-thop-2.0.14\n"
     ]
    },
    {
     "name": "stderr",
     "output_type": "stream",
     "text": [
      "WARNING: You are using pip version 21.2.3; however, version 25.1.1 is available.\n",
      "You should consider upgrading via the 'D:\\yolo_project\\.venv\\Scripts\\python.exe -m pip install --upgrade pip' command.\n"
     ]
    }
   ],
   "source": [
    "!pip install ultralytics opencv-python matplotlib"
   ]
  },
  {
   "cell_type": "code",
   "execution_count": 2,
   "id": "001fa2a8-7918-46c0-8f94-3eb3b5305d49",
   "metadata": {
    "scrolled": true
   },
   "outputs": [
    {
     "name": "stdout",
     "output_type": "stream",
     "text": [
      "Requirement already satisfied: ultralytics in c:\\users\\csume\\appdata\\local\\programs\\python\\python310\\lib\\site-packages (8.3.147)Note: you may need to restart the kernel to use updated packages.\n",
      "\n",
      "Requirement already satisfied: numpy>=1.23.0 in c:\\users\\csume\\appdata\\local\\programs\\python\\python310\\lib\\site-packages (from ultralytics) (2.2.5)\n",
      "Requirement already satisfied: matplotlib>=3.3.0 in c:\\users\\csume\\appdata\\local\\programs\\python\\python310\\lib\\site-packages (from ultralytics) (3.10.3)\n",
      "Requirement already satisfied: opencv-python>=4.6.0 in c:\\users\\csume\\appdata\\local\\programs\\python\\python310\\lib\\site-packages (from ultralytics) (4.11.0.86)\n",
      "Requirement already satisfied: pillow>=7.1.2 in c:\\users\\csume\\appdata\\local\\programs\\python\\python310\\lib\\site-packages (from ultralytics) (11.2.1)\n",
      "Requirement already satisfied: pyyaml>=5.3.1 in c:\\users\\csume\\appdata\\local\\programs\\python\\python310\\lib\\site-packages (from ultralytics) (6.0.2)\n",
      "Requirement already satisfied: requests>=2.23.0 in c:\\users\\csume\\appdata\\local\\programs\\python\\python310\\lib\\site-packages (from ultralytics) (2.32.3)\n",
      "Requirement already satisfied: scipy>=1.4.1 in c:\\users\\csume\\appdata\\local\\programs\\python\\python310\\lib\\site-packages (from ultralytics) (1.15.3)\n",
      "Requirement already satisfied: torch>=1.8.0 in c:\\users\\csume\\appdata\\local\\programs\\python\\python310\\lib\\site-packages (from ultralytics) (2.7.0)\n",
      "Requirement already satisfied: torchvision>=0.9.0 in c:\\users\\csume\\appdata\\local\\programs\\python\\python310\\lib\\site-packages (from ultralytics) (0.22.0)\n",
      "Requirement already satisfied: tqdm>=4.64.0 in c:\\users\\csume\\appdata\\local\\programs\\python\\python310\\lib\\site-packages (from ultralytics) (4.67.1)\n",
      "Requirement already satisfied: psutil in c:\\users\\csume\\appdata\\roaming\\python\\python310\\site-packages (from ultralytics) (7.0.0)\n",
      "Requirement already satisfied: py-cpuinfo in c:\\users\\csume\\appdata\\local\\programs\\python\\python310\\lib\\site-packages (from ultralytics) (9.0.0)\n",
      "Requirement already satisfied: pandas>=1.1.4 in c:\\users\\csume\\appdata\\local\\programs\\python\\python310\\lib\\site-packages (from ultralytics) (2.2.3)\n",
      "Requirement already satisfied: ultralytics-thop>=2.0.0 in c:\\users\\csume\\appdata\\local\\programs\\python\\python310\\lib\\site-packages (from ultralytics) (2.0.14)\n",
      "Requirement already satisfied: contourpy>=1.0.1 in c:\\users\\csume\\appdata\\local\\programs\\python\\python310\\lib\\site-packages (from matplotlib>=3.3.0->ultralytics) (1.3.2)\n",
      "Requirement already satisfied: cycler>=0.10 in c:\\users\\csume\\appdata\\local\\programs\\python\\python310\\lib\\site-packages (from matplotlib>=3.3.0->ultralytics) (0.12.1)\n",
      "Requirement already satisfied: fonttools>=4.22.0 in c:\\users\\csume\\appdata\\local\\programs\\python\\python310\\lib\\site-packages (from matplotlib>=3.3.0->ultralytics) (4.58.1)\n",
      "Requirement already satisfied: kiwisolver>=1.3.1 in c:\\users\\csume\\appdata\\local\\programs\\python\\python310\\lib\\site-packages (from matplotlib>=3.3.0->ultralytics) (1.4.8)\n",
      "Requirement already satisfied: packaging>=20.0 in c:\\users\\csume\\appdata\\roaming\\python\\python310\\site-packages (from matplotlib>=3.3.0->ultralytics) (24.2)\n",
      "Requirement already satisfied: pyparsing>=2.3.1 in c:\\users\\csume\\appdata\\local\\programs\\python\\python310\\lib\\site-packages (from matplotlib>=3.3.0->ultralytics) (3.2.3)\n",
      "Requirement already satisfied: python-dateutil>=2.7 in c:\\users\\csume\\appdata\\roaming\\python\\python310\\site-packages (from matplotlib>=3.3.0->ultralytics) (2.9.0.post0)\n",
      "Requirement already satisfied: pytz>=2020.1 in c:\\users\\csume\\appdata\\local\\programs\\python\\python310\\lib\\site-packages (from pandas>=1.1.4->ultralytics) (2025.2)\n",
      "Requirement already satisfied: tzdata>=2022.7 in c:\\users\\csume\\appdata\\local\\programs\\python\\python310\\lib\\site-packages (from pandas>=1.1.4->ultralytics) (2025.2)\n",
      "Requirement already satisfied: charset-normalizer<4,>=2 in c:\\users\\csume\\appdata\\local\\programs\\python\\python310\\lib\\site-packages (from requests>=2.23.0->ultralytics) (3.4.1)\n",
      "Requirement already satisfied: idna<4,>=2.5 in c:\\users\\csume\\appdata\\local\\programs\\python\\python310\\lib\\site-packages (from requests>=2.23.0->ultralytics) (3.10)\n",
      "Requirement already satisfied: urllib3<3,>=1.21.1 in c:\\users\\csume\\appdata\\local\\programs\\python\\python310\\lib\\site-packages (from requests>=2.23.0->ultralytics) (2.4.0)\n",
      "Requirement already satisfied: certifi>=2017.4.17 in c:\\users\\csume\\appdata\\local\\programs\\python\\python310\\lib\\site-packages (from requests>=2.23.0->ultralytics) (2025.1.31)\n",
      "Requirement already satisfied: filelock in c:\\users\\csume\\appdata\\local\\programs\\python\\python310\\lib\\site-packages (from torch>=1.8.0->ultralytics) (3.18.0)\n",
      "Requirement already satisfied: typing-extensions>=4.10.0 in c:\\users\\csume\\appdata\\local\\programs\\python\\python310\\lib\\site-packages (from torch>=1.8.0->ultralytics) (4.13.2)\n",
      "Requirement already satisfied: sympy>=1.13.3 in c:\\users\\csume\\appdata\\local\\programs\\python\\python310\\lib\\site-packages (from torch>=1.8.0->ultralytics) (1.14.0)\n",
      "Requirement already satisfied: networkx in c:\\users\\csume\\appdata\\local\\programs\\python\\python310\\lib\\site-packages (from torch>=1.8.0->ultralytics) (3.4.2)\n",
      "Requirement already satisfied: jinja2 in c:\\users\\csume\\appdata\\local\\programs\\python\\python310\\lib\\site-packages (from torch>=1.8.0->ultralytics) (3.1.6)\n",
      "Requirement already satisfied: fsspec in c:\\users\\csume\\appdata\\local\\programs\\python\\python310\\lib\\site-packages (from torch>=1.8.0->ultralytics) (2025.5.1)\n",
      "Requirement already satisfied: colorama in c:\\users\\csume\\appdata\\roaming\\python\\python310\\site-packages (from tqdm>=4.64.0->ultralytics) (0.4.6)\n",
      "Requirement already satisfied: six>=1.5 in c:\\users\\csume\\appdata\\roaming\\python\\python310\\site-packages (from python-dateutil>=2.7->matplotlib>=3.3.0->ultralytics) (1.17.0)\n",
      "Requirement already satisfied: mpmath<1.4,>=1.1.0 in c:\\users\\csume\\appdata\\local\\programs\\python\\python310\\lib\\site-packages (from sympy>=1.13.3->torch>=1.8.0->ultralytics) (1.3.0)\n",
      "Requirement already satisfied: MarkupSafe>=2.0 in c:\\users\\csume\\appdata\\local\\programs\\python\\python310\\lib\\site-packages (from jinja2->torch>=1.8.0->ultralytics) (3.0.2)\n"
     ]
    },
    {
     "name": "stderr",
     "output_type": "stream",
     "text": [
      "\n",
      "[notice] A new release of pip is available: 25.0.1 -> 25.1.1\n",
      "[notice] To update, run: C:\\Users\\csume\\AppData\\Local\\Programs\\Python\\Python310\\python.exe -m pip install --upgrade pip\n"
     ]
    }
   ],
   "source": [
    "pip install ultralytics"
   ]
  },
  {
   "cell_type": "code",
   "execution_count": 1,
   "id": "37f35a1e-54eb-46ce-8075-2cc91c23b462",
   "metadata": {},
   "outputs": [],
   "source": [
    "from ultralytics import YOLO\n",
    "import cv2 "
   ]
  },
  {
   "cell_type": "code",
   "execution_count": 2,
   "id": "f342140c-08fd-45ac-8d26-3bc1c91e8d99",
   "metadata": {},
   "outputs": [],
   "source": [
    "from ultralytics.models.yolo.detect import DetectionPredictor"
   ]
  },
  {
   "cell_type": "code",
   "execution_count": 3,
   "id": "d6723c06-d410-44fa-94c1-d10955ef30be",
   "metadata": {},
   "outputs": [],
   "source": [
    "import numpy as np\n",
    "import matplotlib.pyplot as plt"
   ]
  },
  {
   "cell_type": "code",
   "execution_count": 4,
   "id": "af1bc4da-77f6-4fbf-be0e-b9ac83a23216",
   "metadata": {},
   "outputs": [],
   "source": [
    "model = YOLO(\"yolov8n.pt\")"
   ]
  },
  {
   "cell_type": "markdown",
   "id": "9ab888ce-1df9-4cb5-9c3b-2166d847dd2d",
   "metadata": {},
   "source": [
    "Live detection with webcam:"
   ]
  },
  {
   "cell_type": "code",
   "execution_count": 8,
   "id": "9a3c1e7f-0fe4-49bf-861c-eee818c7be05",
   "metadata": {
    "scrolled": true
   },
   "outputs": [
    {
     "name": "stdout",
     "output_type": "stream",
     "text": [
      "\n",
      "1/1: 0... Success  (inf frames of shape 640x480 at 30.00 FPS)\n",
      "\n",
      "WARNING \n",
      "inference results will accumulate in RAM unless `stream=True` is passed, causing potential out-of-memory\n",
      "errors for large sources or long-running streams and videos. See https://docs.ultralytics.com/modes/predict/ for help.\n",
      "\n",
      "Example:\n",
      "    results = model(source=..., stream=True)  # generator of Results objects\n",
      "    for r in results:\n",
      "        boxes = r.boxes  # Boxes object for bbox outputs\n",
      "        masks = r.masks  # Masks object for segment masks outputs\n",
      "        probs = r.probs  # Class probabilities for classification outputs\n",
      "\n",
      "0: 480x640 (no detections), 295.9ms\n",
      "0: 480x640 (no detections), 218.7ms\n",
      "0: 480x640 (no detections), 229.9ms\n",
      "0: 480x640 (no detections), 187.0ms\n",
      "0: 480x640 (no detections), 197.3ms\n",
      "0: 480x640 (no detections), 192.4ms\n",
      "0: 480x640 (no detections), 184.5ms\n",
      "0: 480x640 (no detections), 190.6ms\n",
      "0: 480x640 (no detections), 193.8ms\n",
      "0: 480x640 (no detections), 187.9ms\n",
      "0: 480x640 (no detections), 192.8ms\n",
      "0: 480x640 (no detections), 196.0ms\n",
      "0: 480x640 (no detections), 194.5ms\n",
      "0: 480x640 (no detections), 184.6ms\n",
      "0: 480x640 (no detections), 222.1ms\n",
      "0: 480x640 (no detections), 194.2ms\n",
      "0: 480x640 (no detections), 202.5ms\n",
      "0: 480x640 (no detections), 234.1ms\n",
      "0: 480x640 (no detections), 188.1ms\n",
      "0: 480x640 (no detections), 187.1ms\n",
      "0: 480x640 (no detections), 199.1ms\n",
      "0: 480x640 (no detections), 207.6ms\n",
      "0: 480x640 (no detections), 203.1ms\n",
      "0: 480x640 (no detections), 194.6ms\n",
      "0: 480x640 (no detections), 221.1ms\n",
      "0: 480x640 (no detections), 245.9ms\n",
      "0: 480x640 (no detections), 233.5ms\n",
      "0: 480x640 (no detections), 203.4ms\n",
      "0: 480x640 (no detections), 219.9ms\n",
      "0: 480x640 (no detections), 223.8ms\n",
      "0: 480x640 (no detections), 213.3ms\n",
      "0: 480x640 (no detections), 200.0ms\n",
      "0: 480x640 (no detections), 247.9ms\n",
      "0: 480x640 (no detections), 207.7ms\n",
      "0: 480x640 (no detections), 196.3ms\n",
      "0: 480x640 (no detections), 225.4ms\n",
      "0: 480x640 (no detections), 189.7ms\n",
      "0: 480x640 (no detections), 193.1ms\n",
      "0: 480x640 (no detections), 197.4ms\n",
      "0: 480x640 (no detections), 328.7ms\n",
      "0: 480x640 (no detections), 254.0ms\n",
      "0: 480x640 (no detections), 187.9ms\n",
      "0: 480x640 (no detections), 271.6ms\n",
      "0: 480x640 (no detections), 218.4ms\n",
      "0: 480x640 (no detections), 193.1ms\n",
      "0: 480x640 (no detections), 192.0ms\n",
      "0: 480x640 (no detections), 212.8ms\n",
      "0: 480x640 (no detections), 195.6ms\n",
      "0: 480x640 (no detections), 202.7ms\n",
      "0: 480x640 (no detections), 190.6ms\n",
      "0: 480x640 (no detections), 183.7ms\n",
      "0: 480x640 (no detections), 190.1ms\n",
      "0: 480x640 (no detections), 190.2ms\n",
      "0: 480x640 (no detections), 199.8ms\n",
      "0: 480x640 (no detections), 192.6ms\n",
      "0: 480x640 (no detections), 217.3ms\n",
      "0: 480x640 (no detections), 189.2ms\n",
      "0: 480x640 (no detections), 191.0ms\n",
      "0: 480x640 (no detections), 196.4ms\n",
      "0: 480x640 (no detections), 186.1ms\n",
      "0: 480x640 (no detections), 188.2ms\n",
      "0: 480x640 (no detections), 177.6ms\n",
      "0: 480x640 (no detections), 195.4ms\n",
      "0: 480x640 (no detections), 200.3ms\n",
      "0: 480x640 (no detections), 194.3ms\n",
      "0: 480x640 (no detections), 224.0ms\n",
      "0: 480x640 (no detections), 202.0ms\n",
      "0: 480x640 (no detections), 267.4ms\n",
      "0: 480x640 (no detections), 189.9ms\n",
      "0: 480x640 (no detections), 197.1ms\n",
      "0: 480x640 (no detections), 192.7ms\n",
      "0: 480x640 (no detections), 273.8ms\n",
      "0: 480x640 (no detections), 238.3ms\n",
      "0: 480x640 (no detections), 219.3ms\n",
      "0: 480x640 (no detections), 196.7ms\n",
      "0: 480x640 (no detections), 202.1ms\n",
      "0: 480x640 (no detections), 205.7ms\n",
      "0: 480x640 (no detections), 189.2ms\n",
      "0: 480x640 (no detections), 189.3ms\n",
      "0: 480x640 (no detections), 189.2ms\n",
      "0: 480x640 (no detections), 183.5ms\n",
      "0: 480x640 (no detections), 244.9ms\n",
      "0: 480x640 (no detections), 198.4ms\n",
      "0: 480x640 (no detections), 210.9ms\n",
      "0: 480x640 (no detections), 188.5ms\n",
      "0: 480x640 (no detections), 190.7ms\n",
      "0: 480x640 (no detections), 199.6ms\n",
      "0: 480x640 (no detections), 192.2ms\n",
      "0: 480x640 (no detections), 196.4ms\n",
      "0: 480x640 (no detections), 266.2ms\n",
      "0: 480x640 (no detections), 215.3ms\n",
      "0: 480x640 (no detections), 203.3ms\n",
      "0: 480x640 (no detections), 219.5ms\n",
      "0: 480x640 (no detections), 286.6ms\n",
      "0: 480x640 (no detections), 226.5ms\n",
      "0: 480x640 (no detections), 312.0ms\n",
      "0: 480x640 (no detections), 337.4ms\n",
      "0: 480x640 (no detections), 309.9ms\n",
      "0: 480x640 (no detections), 256.1ms\n",
      "0: 480x640 (no detections), 287.7ms\n",
      "0: 480x640 (no detections), 214.1ms\n",
      "0: 480x640 (no detections), 223.2ms\n",
      "0: 480x640 (no detections), 204.7ms\n",
      "0: 480x640 (no detections), 206.5ms\n",
      "0: 480x640 (no detections), 220.0ms\n",
      "0: 480x640 (no detections), 204.1ms\n",
      "0: 480x640 (no detections), 204.5ms\n",
      "0: 480x640 (no detections), 232.3ms\n",
      "0: 480x640 (no detections), 285.9ms\n",
      "0: 480x640 (no detections), 228.5ms\n",
      "0: 480x640 (no detections), 220.6ms\n",
      "0: 480x640 (no detections), 202.2ms\n",
      "0: 480x640 (no detections), 426.4ms\n",
      "0: 480x640 (no detections), 271.4ms\n",
      "0: 480x640 (no detections), 456.2ms\n",
      "0: 480x640 (no detections), 465.0ms\n",
      "0: 480x640 (no detections), 311.6ms\n",
      "0: 480x640 (no detections), 321.9ms\n",
      "0: 480x640 (no detections), 302.9ms\n",
      "0: 480x640 (no detections), 290.3ms\n",
      "0: 480x640 (no detections), 381.5ms\n",
      "0: 480x640 (no detections), 252.0ms\n",
      "0: 480x640 (no detections), 253.9ms\n",
      "0: 480x640 (no detections), 249.0ms\n",
      "0: 480x640 (no detections), 273.7ms\n",
      "0: 480x640 (no detections), 238.5ms\n",
      "0: 480x640 (no detections), 254.3ms\n",
      "0: 480x640 (no detections), 247.2ms\n",
      "0: 480x640 (no detections), 205.2ms\n",
      "0: 480x640 (no detections), 258.1ms\n",
      "0: 480x640 (no detections), 221.8ms\n",
      "0: 480x640 (no detections), 229.8ms\n",
      "0: 480x640 (no detections), 191.4ms\n",
      "0: 480x640 (no detections), 192.2ms\n",
      "0: 480x640 (no detections), 232.6ms\n",
      "0: 480x640 (no detections), 221.7ms\n",
      "0: 480x640 (no detections), 192.1ms\n",
      "0: 480x640 (no detections), 192.8ms\n",
      "0: 480x640 (no detections), 212.9ms\n",
      "0: 480x640 (no detections), 229.7ms\n",
      "0: 480x640 (no detections), 190.5ms\n",
      "0: 480x640 (no detections), 211.6ms\n",
      "0: 480x640 (no detections), 420.8ms\n",
      "0: 480x640 (no detections), 227.0ms\n",
      "0: 480x640 (no detections), 200.1ms\n",
      "0: 480x640 (no detections), 221.3ms\n",
      "0: 480x640 (no detections), 193.1ms\n",
      "0: 480x640 (no detections), 192.9ms\n",
      "0: 480x640 (no detections), 183.0ms\n",
      "0: 480x640 (no detections), 223.9ms\n",
      "0: 480x640 (no detections), 245.3ms\n",
      "0: 480x640 (no detections), 287.6ms\n",
      "0: 480x640 (no detections), 203.7ms\n",
      "0: 480x640 (no detections), 198.5ms\n",
      "0: 480x640 (no detections), 201.3ms\n",
      "0: 480x640 (no detections), 220.0ms\n",
      "0: 480x640 (no detections), 194.8ms\n",
      "0: 480x640 (no detections), 215.0ms\n",
      "0: 480x640 (no detections), 193.2ms\n",
      "0: 480x640 (no detections), 184.2ms\n",
      "0: 480x640 (no detections), 205.6ms\n",
      "0: 480x640 (no detections), 239.2ms\n",
      "0: 480x640 (no detections), 178.6ms\n",
      "0: 480x640 (no detections), 191.8ms\n",
      "0: 480x640 (no detections), 179.5ms\n",
      "0: 480x640 (no detections), 201.1ms\n",
      "0: 480x640 (no detections), 184.3ms\n",
      "0: 480x640 (no detections), 192.9ms\n",
      "0: 480x640 (no detections), 232.2ms\n",
      "0: 480x640 (no detections), 202.7ms\n",
      "0: 480x640 (no detections), 236.5ms\n",
      "0: 480x640 (no detections), 195.9ms\n",
      "0: 480x640 (no detections), 204.0ms\n",
      "0: 480x640 (no detections), 193.7ms\n",
      "0: 480x640 (no detections), 213.8ms\n",
      "0: 480x640 (no detections), 211.9ms\n",
      "0: 480x640 (no detections), 201.4ms\n",
      "0: 480x640 (no detections), 187.8ms\n",
      "0: 480x640 (no detections), 214.7ms\n",
      "0: 480x640 (no detections), 187.0ms\n",
      "0: 480x640 (no detections), 179.8ms\n",
      "0: 480x640 (no detections), 188.1ms\n",
      "0: 480x640 (no detections), 200.6ms\n",
      "0: 480x640 (no detections), 192.8ms\n",
      "0: 480x640 (no detections), 184.8ms\n",
      "0: 480x640 (no detections), 189.1ms\n",
      "0: 480x640 (no detections), 225.8ms\n",
      "0: 480x640 (no detections), 189.4ms\n",
      "0: 480x640 (no detections), 190.3ms\n",
      "0: 480x640 (no detections), 178.4ms\n",
      "0: 480x640 (no detections), 186.1ms\n",
      "0: 480x640 (no detections), 187.5ms\n",
      "0: 480x640 (no detections), 194.8ms\n",
      "0: 480x640 (no detections), 216.5ms\n",
      "0: 480x640 (no detections), 252.1ms\n",
      "0: 480x640 (no detections), 235.9ms\n",
      "0: 480x640 (no detections), 215.9ms\n",
      "0: 480x640 (no detections), 222.3ms\n",
      "0: 480x640 (no detections), 211.6ms\n",
      "0: 480x640 (no detections), 243.0ms\n",
      "0: 480x640 (no detections), 190.0ms\n",
      "0: 480x640 (no detections), 214.8ms\n",
      "0: 480x640 (no detections), 244.9ms\n",
      "0: 480x640 (no detections), 180.8ms\n",
      "0: 480x640 (no detections), 189.6ms\n",
      "0: 480x640 (no detections), 185.6ms\n",
      "0: 480x640 (no detections), 187.7ms\n",
      "0: 480x640 (no detections), 197.6ms\n",
      "0: 480x640 (no detections), 200.7ms\n",
      "0: 480x640 (no detections), 209.2ms\n",
      "0: 480x640 (no detections), 230.0ms\n",
      "0: 480x640 (no detections), 194.2ms\n",
      "0: 480x640 (no detections), 220.8ms\n",
      "0: 480x640 (no detections), 215.7ms\n",
      "0: 480x640 (no detections), 211.6ms\n",
      "0: 480x640 (no detections), 196.8ms\n",
      "0: 480x640 (no detections), 218.4ms\n",
      "0: 480x640 (no detections), 185.9ms\n",
      "0: 480x640 (no detections), 189.2ms\n",
      "0: 480x640 (no detections), 203.7ms\n",
      "0: 480x640 (no detections), 201.4ms\n",
      "0: 480x640 (no detections), 205.0ms\n",
      "0: 480x640 (no detections), 198.5ms\n",
      "0: 480x640 (no detections), 181.0ms\n",
      "0: 480x640 (no detections), 187.3ms\n",
      "0: 480x640 (no detections), 226.6ms\n",
      "0: 480x640 (no detections), 191.8ms\n",
      "0: 480x640 (no detections), 215.0ms\n",
      "0: 480x640 (no detections), 197.2ms\n",
      "0: 480x640 (no detections), 184.4ms\n",
      "0: 480x640 (no detections), 189.3ms\n",
      "0: 480x640 (no detections), 183.0ms\n",
      "0: 480x640 (no detections), 193.1ms\n",
      "0: 480x640 (no detections), 206.8ms\n",
      "0: 480x640 (no detections), 215.0ms\n",
      "0: 480x640 (no detections), 199.6ms\n",
      "0: 480x640 (no detections), 189.1ms\n",
      "0: 480x640 (no detections), 186.2ms\n",
      "0: 480x640 (no detections), 192.8ms\n",
      "0: 480x640 (no detections), 204.7ms\n",
      "0: 480x640 (no detections), 199.7ms\n",
      "0: 480x640 (no detections), 204.5ms\n",
      "0: 480x640 (no detections), 183.8ms\n",
      "0: 480x640 (no detections), 183.3ms\n",
      "0: 480x640 (no detections), 186.5ms\n",
      "0: 480x640 (no detections), 188.1ms\n",
      "0: 480x640 (no detections), 177.5ms\n",
      "0: 480x640 (no detections), 248.8ms\n",
      "0: 480x640 (no detections), 188.5ms\n",
      "0: 480x640 (no detections), 202.9ms\n",
      "0: 480x640 (no detections), 194.0ms\n",
      "0: 480x640 (no detections), 220.1ms\n",
      "0: 480x640 (no detections), 238.2ms\n",
      "0: 480x640 (no detections), 212.0ms\n",
      "0: 480x640 (no detections), 225.3ms\n",
      "0: 480x640 (no detections), 202.6ms\n",
      "0: 480x640 (no detections), 198.3ms\n",
      "0: 480x640 (no detections), 180.2ms\n",
      "0: 480x640 (no detections), 189.9ms\n",
      "0: 480x640 (no detections), 230.2ms\n",
      "0: 480x640 (no detections), 177.5ms\n",
      "0: 480x640 (no detections), 188.5ms\n",
      "0: 480x640 (no detections), 182.9ms\n",
      "0: 480x640 (no detections), 192.8ms\n",
      "0: 480x640 (no detections), 211.3ms\n",
      "0: 480x640 (no detections), 177.1ms\n",
      "0: 480x640 (no detections), 214.3ms\n",
      "0: 480x640 (no detections), 275.2ms\n",
      "0: 480x640 (no detections), 196.6ms\n",
      "0: 480x640 (no detections), 211.1ms\n",
      "0: 480x640 (no detections), 234.1ms\n",
      "0: 480x640 (no detections), 184.1ms\n",
      "0: 480x640 (no detections), 247.6ms\n",
      "0: 480x640 (no detections), 295.2ms\n",
      "0: 480x640 (no detections), 219.0ms\n",
      "0: 480x640 (no detections), 223.1ms\n",
      "0: 480x640 (no detections), 223.7ms\n",
      "0: 480x640 (no detections), 201.4ms\n",
      "0: 480x640 (no detections), 218.0ms\n",
      "0: 480x640 (no detections), 215.9ms\n",
      "0: 480x640 (no detections), 195.8ms\n",
      "0: 480x640 (no detections), 424.6ms\n",
      "0: 480x640 (no detections), 451.9ms\n",
      "0: 480x640 (no detections), 265.3ms\n",
      "0: 480x640 (no detections), 325.0ms\n",
      "0: 480x640 (no detections), 287.0ms\n",
      "0: 480x640 (no detections), 259.1ms\n",
      "0: 480x640 (no detections), 246.4ms\n",
      "0: 480x640 (no detections), 249.1ms\n",
      "0: 480x640 (no detections), 278.6ms\n",
      "0: 480x640 (no detections), 242.4ms\n",
      "0: 480x640 (no detections), 242.4ms\n",
      "0: 480x640 (no detections), 205.5ms\n",
      "0: 480x640 (no detections), 216.8ms\n",
      "0: 480x640 (no detections), 178.7ms\n",
      "0: 480x640 (no detections), 207.3ms\n",
      "0: 480x640 (no detections), 198.1ms\n",
      "0: 480x640 (no detections), 223.9ms\n",
      "0: 480x640 (no detections), 266.0ms\n",
      "0: 480x640 (no detections), 186.7ms\n",
      "0: 480x640 (no detections), 225.5ms\n",
      "0: 480x640 (no detections), 198.8ms\n",
      "0: 480x640 (no detections), 187.0ms\n",
      "0: 480x640 (no detections), 195.6ms\n",
      "0: 480x640 (no detections), 192.8ms\n",
      "0: 480x640 (no detections), 242.2ms\n",
      "0: 480x640 (no detections), 203.4ms\n",
      "0: 480x640 (no detections), 205.9ms\n",
      "0: 480x640 (no detections), 207.5ms\n",
      "0: 480x640 (no detections), 195.1ms\n",
      "0: 480x640 (no detections), 179.6ms\n",
      "0: 480x640 (no detections), 194.2ms\n",
      "0: 480x640 (no detections), 208.0ms\n",
      "0: 480x640 (no detections), 239.0ms\n",
      "0: 480x640 (no detections), 216.4ms\n",
      "0: 480x640 (no detections), 280.1ms\n",
      "0: 480x640 (no detections), 191.8ms\n",
      "0: 480x640 (no detections), 253.7ms\n",
      "0: 480x640 (no detections), 190.5ms\n",
      "0: 480x640 (no detections), 231.4ms\n",
      "0: 480x640 (no detections), 192.4ms\n",
      "0: 480x640 (no detections), 182.0ms\n",
      "0: 480x640 (no detections), 188.0ms\n",
      "0: 480x640 (no detections), 179.3ms\n",
      "0: 480x640 (no detections), 207.5ms\n",
      "0: 480x640 (no detections), 221.2ms\n",
      "0: 480x640 (no detections), 216.2ms\n",
      "0: 480x640 (no detections), 225.1ms\n",
      "0: 480x640 (no detections), 223.3ms\n",
      "0: 480x640 (no detections), 210.1ms\n",
      "0: 480x640 (no detections), 278.0ms\n",
      "0: 480x640 (no detections), 219.6ms\n",
      "0: 480x640 (no detections), 273.5ms\n",
      "0: 480x640 (no detections), 248.5ms\n",
      "0: 480x640 (no detections), 193.8ms\n",
      "0: 480x640 (no detections), 199.1ms\n",
      "0: 480x640 (no detections), 193.4ms\n",
      "0: 480x640 (no detections), 220.2ms\n",
      "0: 480x640 (no detections), 203.4ms\n",
      "0: 480x640 (no detections), 214.2ms\n",
      "0: 480x640 (no detections), 197.5ms\n",
      "0: 480x640 (no detections), 263.6ms\n",
      "0: 480x640 (no detections), 194.6ms\n",
      "0: 480x640 (no detections), 272.6ms\n",
      "0: 480x640 (no detections), 216.0ms\n",
      "0: 480x640 (no detections), 261.8ms\n",
      "0: 480x640 (no detections), 203.2ms\n",
      "0: 480x640 (no detections), 246.8ms\n",
      "0: 480x640 (no detections), 209.9ms\n",
      "0: 480x640 (no detections), 207.3ms\n",
      "0: 480x640 (no detections), 224.3ms\n",
      "0: 480x640 (no detections), 269.2ms\n",
      "0: 480x640 (no detections), 209.6ms\n",
      "0: 480x640 (no detections), 195.8ms\n",
      "0: 480x640 (no detections), 249.5ms\n",
      "0: 480x640 (no detections), 224.5ms\n",
      "0: 480x640 (no detections), 254.4ms\n",
      "0: 480x640 (no detections), 226.7ms\n",
      "0: 480x640 (no detections), 233.9ms\n",
      "0: 480x640 (no detections), 202.3ms\n",
      "0: 480x640 (no detections), 203.8ms\n",
      "0: 480x640 (no detections), 193.5ms\n",
      "0: 480x640 (no detections), 218.9ms\n",
      "0: 480x640 (no detections), 195.3ms\n",
      "0: 480x640 (no detections), 201.0ms\n",
      "0: 480x640 (no detections), 191.2ms\n",
      "0: 480x640 (no detections), 197.8ms\n",
      "0: 480x640 (no detections), 248.4ms\n",
      "0: 480x640 (no detections), 280.7ms\n",
      "0: 480x640 (no detections), 287.5ms\n",
      "0: 480x640 (no detections), 317.7ms\n",
      "0: 480x640 (no detections), 253.6ms\n",
      "0: 480x640 (no detections), 247.2ms\n",
      "0: 480x640 (no detections), 250.4ms\n",
      "0: 480x640 (no detections), 255.8ms\n",
      "0: 480x640 (no detections), 284.6ms\n",
      "0: 480x640 (no detections), 257.2ms\n",
      "0: 480x640 (no detections), 260.1ms\n",
      "0: 480x640 (no detections), 286.1ms\n",
      "0: 480x640 (no detections), 249.4ms\n",
      "0: 480x640 (no detections), 238.2ms\n",
      "0: 480x640 (no detections), 268.1ms\n",
      "0: 480x640 (no detections), 241.3ms\n",
      "0: 480x640 (no detections), 307.9ms\n",
      "0: 480x640 (no detections), 254.5ms\n",
      "0: 480x640 (no detections), 256.0ms\n",
      "0: 480x640 (no detections), 250.5ms\n",
      "0: 480x640 (no detections), 258.6ms\n",
      "0: 480x640 (no detections), 250.8ms\n",
      "0: 480x640 (no detections), 251.6ms\n",
      "0: 480x640 (no detections), 325.9ms\n",
      "0: 480x640 (no detections), 237.0ms\n",
      "0: 480x640 (no detections), 257.4ms\n",
      "0: 480x640 (no detections), 242.3ms\n",
      "0: 480x640 (no detections), 250.6ms\n",
      "0: 480x640 (no detections), 260.6ms\n",
      "0: 480x640 (no detections), 276.5ms\n",
      "0: 480x640 (no detections), 268.0ms\n",
      "0: 480x640 (no detections), 260.3ms\n",
      "0: 480x640 (no detections), 264.2ms\n",
      "0: 480x640 (no detections), 290.1ms\n",
      "0: 480x640 (no detections), 248.7ms\n",
      "0: 480x640 (no detections), 256.1ms\n",
      "0: 480x640 (no detections), 250.5ms\n",
      "0: 480x640 (no detections), 276.3ms\n",
      "0: 480x640 (no detections), 273.4ms\n",
      "0: 480x640 (no detections), 261.1ms\n",
      "0: 480x640 (no detections), 256.9ms\n",
      "0: 480x640 (no detections), 249.6ms\n",
      "0: 480x640 (no detections), 272.1ms\n",
      "0: 480x640 (no detections), 257.1ms\n",
      "0: 480x640 (no detections), 319.6ms\n",
      "0: 480x640 (no detections), 280.5ms\n",
      "0: 480x640 (no detections), 250.7ms\n",
      "0: 480x640 (no detections), 267.3ms\n",
      "0: 480x640 (no detections), 245.0ms\n",
      "0: 480x640 (no detections), 279.1ms\n",
      "0: 480x640 (no detections), 203.6ms\n",
      "0: 480x640 (no detections), 243.7ms\n",
      "0: 480x640 (no detections), 244.3ms\n",
      "0: 480x640 (no detections), 205.9ms\n",
      "0: 480x640 (no detections), 198.4ms\n",
      "0: 480x640 (no detections), 195.4ms\n",
      "0: 480x640 (no detections), 185.4ms\n",
      "0: 480x640 (no detections), 191.7ms\n",
      "0: 480x640 (no detections), 185.6ms\n",
      "0: 480x640 (no detections), 195.9ms\n",
      "0: 480x640 (no detections), 194.2ms\n",
      "0: 480x640 (no detections), 205.8ms\n",
      "0: 480x640 (no detections), 226.0ms\n",
      "0: 480x640 (no detections), 191.4ms\n",
      "0: 480x640 (no detections), 189.9ms\n",
      "0: 480x640 (no detections), 193.9ms\n",
      "0: 480x640 (no detections), 207.0ms\n",
      "0: 480x640 (no detections), 186.9ms\n",
      "0: 480x640 (no detections), 179.4ms\n",
      "0: 480x640 (no detections), 185.9ms\n",
      "0: 480x640 (no detections), 187.8ms\n",
      "0: 480x640 (no detections), 181.3ms\n",
      "0: 480x640 (no detections), 207.3ms\n",
      "0: 480x640 (no detections), 182.1ms\n",
      "0: 480x640 (no detections), 186.3ms\n",
      "0: 480x640 (no detections), 180.2ms\n",
      "0: 480x640 (no detections), 186.9ms\n",
      "0: 480x640 (no detections), 185.6ms\n",
      "0: 480x640 (no detections), 179.2ms\n",
      "0: 480x640 (no detections), 220.6ms\n",
      "0: 480x640 (no detections), 179.4ms\n",
      "0: 480x640 (no detections), 249.9ms\n",
      "0: 480x640 (no detections), 200.6ms\n",
      "0: 480x640 (no detections), 208.8ms\n",
      "0: 480x640 (no detections), 360.3ms\n",
      "0: 480x640 (no detections), 231.0ms\n",
      "0: 480x640 (no detections), 248.7ms\n",
      "0: 480x640 (no detections), 180.2ms\n",
      "0: 480x640 (no detections), 204.0ms\n",
      "0: 480x640 (no detections), 197.8ms\n",
      "0: 480x640 (no detections), 217.4ms\n",
      "0: 480x640 (no detections), 202.6ms\n",
      "0: 480x640 (no detections), 179.5ms\n",
      "0: 480x640 (no detections), 190.0ms\n",
      "0: 480x640 (no detections), 214.4ms\n",
      "0: 480x640 (no detections), 239.1ms\n",
      "0: 480x640 (no detections), 179.4ms\n",
      "0: 480x640 (no detections), 211.6ms\n",
      "0: 480x640 (no detections), 264.6ms\n",
      "0: 480x640 (no detections), 210.7ms\n",
      "0: 480x640 (no detections), 216.0ms\n",
      "0: 480x640 (no detections), 198.1ms\n",
      "0: 480x640 (no detections), 226.4ms\n",
      "0: 480x640 (no detections), 256.7ms\n",
      "0: 480x640 (no detections), 183.4ms\n",
      "0: 480x640 (no detections), 182.5ms\n",
      "0: 480x640 (no detections), 184.5ms\n",
      "0: 480x640 (no detections), 182.3ms\n",
      "0: 480x640 (no detections), 188.8ms\n",
      "0: 480x640 (no detections), 190.1ms\n",
      "0: 480x640 (no detections), 223.7ms\n",
      "0: 480x640 (no detections), 209.0ms\n",
      "0: 480x640 (no detections), 191.7ms\n",
      "0: 480x640 (no detections), 226.0ms\n",
      "0: 480x640 (no detections), 202.5ms\n",
      "0: 480x640 (no detections), 215.3ms\n",
      "0: 480x640 (no detections), 241.0ms\n",
      "0: 480x640 (no detections), 189.4ms\n",
      "0: 480x640 (no detections), 189.3ms\n",
      "0: 480x640 (no detections), 184.2ms\n",
      "0: 480x640 (no detections), 193.2ms\n",
      "0: 480x640 (no detections), 196.7ms\n",
      "0: 480x640 (no detections), 209.8ms\n",
      "0: 480x640 (no detections), 180.2ms\n",
      "0: 480x640 (no detections), 179.6ms\n",
      "0: 480x640 (no detections), 214.3ms\n",
      "0: 480x640 (no detections), 200.8ms\n",
      "0: 480x640 (no detections), 193.0ms\n",
      "0: 480x640 (no detections), 188.6ms\n",
      "0: 480x640 1 person, 1 potted plant, 1 clock, 198.5ms\n",
      "0: 480x640 1 person, 188.0ms\n",
      "0: 480x640 1 person, 212.4ms\n",
      "0: 480x640 1 person, 183.8ms\n",
      "0: 480x640 1 person, 237.2ms\n",
      "0: 480x640 1 person, 197.5ms\n",
      "0: 480x640 1 person, 183.4ms\n",
      "0: 480x640 1 person, 1 clock, 188.2ms\n",
      "0: 480x640 1 person, 1 clock, 187.9ms\n",
      "0: 480x640 1 person, 1 clock, 232.3ms\n",
      "0: 480x640 1 person, 1 clock, 264.5ms\n",
      "0: 480x640 1 person, 179.9ms\n",
      "0: 480x640 1 person, 181.5ms\n",
      "0: 480x640 1 person, 1 toothbrush, 225.1ms\n",
      "0: 480x640 1 person, 1 clock, 194.1ms\n",
      "0: 480x640 1 person, 1 clock, 179.4ms\n",
      "0: 480x640 1 person, 210.2ms\n",
      "0: 480x640 1 person, 190.7ms\n",
      "0: 480x640 1 person, 180.2ms\n",
      "0: 480x640 1 person, 194.6ms\n",
      "0: 480x640 1 person, 182.0ms\n",
      "0: 480x640 1 person, 185.2ms\n",
      "0: 480x640 2 persons, 187.4ms\n",
      "0: 480x640 1 person, 182.8ms\n",
      "0: 480x640 1 person, 1 vase, 188.8ms\n",
      "0: 480x640 1 person, 186.4ms\n",
      "0: 480x640 1 person, 1 bottle, 200.4ms\n",
      "0: 480x640 1 person, 1 clock, 190.3ms\n",
      "0: 480x640 1 person, 1 clock, 192.6ms\n",
      "0: 480x640 1 person, 1 clock, 181.0ms\n",
      "0: 480x640 1 person, 1 clock, 183.3ms\n",
      "0: 480x640 1 person, 1 chair, 1 clock, 188.4ms\n",
      "0: 480x640 1 person, 1 couch, 1 clock, 200.8ms\n",
      "0: 480x640 1 person, 1 clock, 198.4ms\n",
      "0: 480x640 1 person, 1 clock, 254.7ms\n",
      "0: 480x640 1 person, 1 clock, 198.6ms\n",
      "0: 480x640 1 person, 1 chair, 1 clock, 206.8ms\n",
      "0: 480x640 1 person, 1 clock, 188.0ms\n",
      "0: 480x640 1 person, 1 chair, 1 clock, 242.0ms\n",
      "0: 480x640 1 person, 1 chair, 1 clock, 185.1ms\n",
      "0: 480x640 1 person, 1 chair, 1 clock, 209.2ms\n",
      "0: 480x640 1 person, 1 chair, 1 clock, 197.9ms\n",
      "0: 480x640 1 person, 1 clock, 189.9ms\n",
      "0: 480x640 1 person, 1 chair, 1 clock, 181.1ms\n",
      "0: 480x640 1 person, 1 chair, 1 clock, 186.0ms\n",
      "0: 480x640 1 person, 1 clock, 194.7ms\n",
      "0: 480x640 1 person, 1 chair, 1 clock, 221.1ms\n",
      "0: 480x640 1 person, 1 clock, 183.8ms\n",
      "0: 480x640 1 person, 1 chair, 1 clock, 204.9ms\n",
      "0: 480x640 1 person, 1 clock, 185.2ms\n",
      "0: 480x640 1 person, 1 clock, 240.3ms\n",
      "0: 480x640 1 person, 2 chairs, 1 clock, 235.7ms\n",
      "0: 480x640 1 person, 1 chair, 1 clock, 185.4ms\n",
      "0: 480x640 1 person, 2 chairs, 1 clock, 219.9ms\n",
      "0: 480x640 1 person, 2 chairs, 1 clock, 219.0ms\n",
      "0: 480x640 1 person, 2 chairs, 1 clock, 192.9ms\n",
      "0: 480x640 1 person, 1 clock, 196.1ms\n",
      "0: 480x640 1 person, 1 chair, 1 clock, 244.3ms\n",
      "0: 480x640 1 person, 1 chair, 1 clock, 189.8ms\n",
      "0: 480x640 1 person, 1 chair, 1 clock, 183.2ms\n",
      "0: 480x640 1 person, 1 chair, 1 clock, 220.1ms\n",
      "0: 480x640 1 person, 1 chair, 1 clock, 196.7ms\n",
      "0: 480x640 1 person, 1 chair, 1 clock, 206.2ms\n",
      "0: 480x640 1 person, 1 chair, 1 clock, 204.0ms\n",
      "0: 480x640 1 person, 1 chair, 1 clock, 195.6ms\n",
      "0: 480x640 1 person, 1 chair, 1 clock, 227.4ms\n",
      "0: 480x640 1 person, 1 clock, 191.2ms\n",
      "0: 480x640 1 person, 2 chairs, 1 clock, 190.5ms\n",
      "0: 480x640 1 person, 1 clock, 189.5ms\n",
      "0: 480x640 1 person, 1 clock, 185.0ms\n",
      "0: 480x640 1 person, 2 chairs, 1 clock, 207.8ms\n",
      "0: 480x640 1 person, 1 chair, 1 clock, 201.5ms\n",
      "0: 480x640 1 person, 1 chair, 1 clock, 205.6ms\n",
      "0: 480x640 1 person, 2 chairs, 1 clock, 190.3ms\n",
      "0: 480x640 1 person, 1 chair, 1 clock, 201.0ms\n",
      "0: 480x640 1 person, 1 clock, 189.9ms\n",
      "0: 480x640 1 person, 1 chair, 1 clock, 193.3ms\n",
      "0: 480x640 1 person, 2 chairs, 1 clock, 194.4ms\n",
      "0: 480x640 1 person, 1 chair, 1 clock, 214.0ms\n",
      "0: 480x640 1 person, 1 chair, 1 clock, 205.5ms\n",
      "0: 480x640 1 person, 1 clock, 192.3ms\n",
      "0: 480x640 1 person, 1 chair, 1 clock, 191.5ms\n",
      "0: 480x640 1 person, 1 chair, 1 clock, 191.5ms\n",
      "0: 480x640 1 person, 1 chair, 1 clock, 198.6ms\n",
      "0: 480x640 1 person, 1 clock, 250.2ms\n",
      "0: 480x640 1 person, 1 chair, 1 clock, 195.1ms\n",
      "0: 480x640 1 person, 1 clock, 193.1ms\n",
      "0: 480x640 1 person, 1 chair, 1 clock, 185.9ms\n",
      "0: 480x640 1 person, 1 chair, 1 clock, 187.4ms\n",
      "0: 480x640 1 person, 1 chair, 1 clock, 190.6ms\n",
      "0: 480x640 1 person, 1 chair, 1 clock, 184.7ms\n",
      "0: 480x640 1 person, 1 chair, 1 clock, 227.2ms\n",
      "0: 480x640 1 person, 1 clock, 206.7ms\n",
      "0: 480x640 1 person, 1 chair, 1 clock, 204.0ms\n",
      "0: 480x640 1 person, 1 chair, 1 clock, 191.6ms\n",
      "0: 480x640 1 person, 1 chair, 1 clock, 209.4ms\n",
      "0: 480x640 1 person, 1 clock, 186.7ms\n",
      "0: 480x640 1 person, 1 chair, 1 clock, 197.1ms\n",
      "0: 480x640 1 person, 1 chair, 1 clock, 208.3ms\n",
      "0: 480x640 1 person, 1 chair, 1 clock, 207.8ms\n",
      "0: 480x640 1 person, 1 chair, 1 clock, 196.5ms\n",
      "0: 480x640 1 person, 2 chairs, 1 clock, 203.7ms\n",
      "0: 480x640 1 person, 1 chair, 1 clock, 199.0ms\n",
      "0: 480x640 1 person, 1 chair, 1 clock, 200.8ms\n",
      "0: 480x640 1 person, 2 chairs, 1 clock, 284.4ms\n",
      "0: 480x640 1 person, 2 chairs, 1 clock, 182.9ms\n",
      "0: 480x640 1 person, 2 chairs, 1 clock, 221.6ms\n",
      "0: 480x640 1 person, 2 chairs, 1 clock, 203.6ms\n",
      "0: 480x640 1 person, 1 chair, 1 clock, 195.5ms\n",
      "0: 480x640 1 person, 2 chairs, 1 clock, 196.5ms\n",
      "0: 480x640 1 person, 2 chairs, 1 clock, 204.2ms\n",
      "0: 480x640 1 person, 1 chair, 1 clock, 200.4ms\n",
      "0: 480x640 1 person, 2 chairs, 1 clock, 201.5ms\n",
      "0: 480x640 1 person, 3 chairs, 1 clock, 200.6ms\n",
      "0: 480x640 1 person, 3 chairs, 1 clock, 195.2ms\n",
      "0: 480x640 1 person, 2 chairs, 1 clock, 268.1ms\n",
      "0: 480x640 1 person, 2 chairs, 1 clock, 205.9ms\n",
      "0: 480x640 1 person, 2 chairs, 1 clock, 197.8ms\n",
      "0: 480x640 1 person, 2 chairs, 1 clock, 195.9ms\n",
      "0: 480x640 1 person, 3 chairs, 1 clock, 198.6ms\n",
      "0: 480x640 1 person, 1 chair, 1 clock, 187.3ms\n",
      "0: 480x640 1 person, 2 chairs, 1 clock, 203.4ms\n",
      "0: 480x640 1 person, 1 chair, 1 clock, 199.4ms\n",
      "0: 480x640 1 person, 1 chair, 1 clock, 185.7ms\n",
      "0: 480x640 1 person, 2 chairs, 1 clock, 188.1ms\n",
      "0: 480x640 1 person, 1 clock, 183.6ms\n",
      "0: 480x640 1 person, 2 chairs, 1 clock, 215.8ms\n",
      "0: 480x640 1 person, 1 chair, 1 clock, 203.9ms\n",
      "0: 480x640 1 person, 1 chair, 1 clock, 251.6ms\n",
      "0: 480x640 1 person, 2 chairs, 1 clock, 191.6ms\n",
      "0: 480x640 1 person, 1 clock, 198.6ms\n",
      "0: 480x640 1 person, 1 clock, 234.3ms\n",
      "0: 480x640 1 person, 1 clock, 200.1ms\n",
      "0: 480x640 1 person, 1 clock, 197.7ms\n",
      "0: 480x640 1 person, 1 clock, 201.6ms\n",
      "0: 480x640 1 person, 1 clock, 210.0ms\n",
      "0: 480x640 1 person, 1 clock, 192.7ms\n",
      "0: 480x640 1 person, 1 clock, 193.6ms\n",
      "0: 480x640 1 person, 1 clock, 247.4ms\n",
      "0: 480x640 1 person, 1 clock, 193.9ms\n",
      "0: 480x640 1 person, 1 clock, 205.8ms\n",
      "0: 480x640 1 person, 1 clock, 187.6ms\n",
      "0: 480x640 1 person, 1 chair, 1 clock, 187.9ms\n",
      "0: 480x640 1 person, 1 clock, 205.0ms\n",
      "0: 480x640 1 person, 1 clock, 191.7ms\n",
      "0: 480x640 1 person, 1 clock, 209.3ms\n",
      "0: 480x640 1 person, 1 clock, 200.4ms\n",
      "0: 480x640 1 person, 1 clock, 223.4ms\n",
      "0: 480x640 1 person, 1 chair, 1 clock, 196.4ms\n",
      "0: 480x640 1 person, 1 clock, 188.0ms\n",
      "0: 480x640 1 person, 1 chair, 1 clock, 255.7ms\n",
      "0: 480x640 1 person, 1 clock, 203.4ms\n",
      "0: 480x640 1 person, 2 chairs, 1 clock, 230.9ms\n",
      "0: 480x640 1 person, 1 clock, 201.4ms\n",
      "0: 480x640 1 person, 1 chair, 1 clock, 1 toothbrush, 203.1ms\n",
      "0: 480x640 1 person, 1 chair, 1 clock, 184.8ms\n",
      "0: 480x640 1 person, 1 chair, 1 clock, 195.4ms\n",
      "0: 480x640 1 person, 1 chair, 1 potted plant, 1 clock, 183.3ms\n",
      "0: 480x640 1 person, 1 chair, 1 clock, 1 toothbrush, 183.7ms\n",
      "0: 480x640 1 person, 1 chair, 1 clock, 1 toothbrush, 196.9ms\n",
      "0: 480x640 1 person, 1 clock, 187.2ms\n",
      "0: 480x640 1 person, 1 clock, 187.6ms\n",
      "0: 480x640 1 person, 1 clock, 240.6ms\n",
      "0: 480x640 1 person, 1 clock, 182.0ms\n",
      "0: 480x640 1 person, 1 clock, 211.6ms\n",
      "0: 480x640 1 person, 1 clock, 185.4ms\n",
      "0: 480x640 1 person, 1 clock, 197.3ms\n",
      "0: 480x640 1 person, 1 clock, 189.4ms\n",
      "0: 480x640 1 person, 1 clock, 187.9ms\n",
      "0: 480x640 1 person, 1 clock, 199.1ms\n",
      "0: 480x640 1 person, 1 clock, 236.0ms\n",
      "0: 480x640 1 person, 1 chair, 1 clock, 192.7ms\n",
      "0: 480x640 1 person, 1 clock, 206.0ms\n",
      "0: 480x640 1 person, 1 clock, 195.6ms\n",
      "0: 480x640 1 person, 1 clock, 192.0ms\n",
      "0: 480x640 1 person, 1 clock, 204.3ms\n",
      "0: 480x640 1 person, 1 clock, 210.5ms\n",
      "0: 480x640 1 person, 1 clock, 1 toothbrush, 199.0ms\n",
      "0: 480x640 1 person, 1 clock, 195.0ms\n",
      "0: 480x640 1 person, 1 clock, 187.4ms\n",
      "0: 480x640 1 person, 1 clock, 190.4ms\n",
      "0: 480x640 1 person, 1 clock, 1 toothbrush, 201.0ms\n",
      "0: 480x640 1 person, 1 clock, 1 toothbrush, 185.0ms\n",
      "0: 480x640 1 person, 1 clock, 185.3ms\n",
      "0: 480x640 1 person, 1 clock, 214.2ms\n",
      "0: 480x640 1 person, 1 clock, 202.6ms\n",
      "0: 480x640 1 person, 1 clock, 1 toothbrush, 229.7ms\n",
      "0: 480x640 1 person, 1 chair, 1 clock, 1 toothbrush, 185.8ms\n",
      "0: 480x640 1 person, 1 chair, 1 clock, 1 toothbrush, 186.0ms\n",
      "0: 480x640 1 person, 1 clock, 1 toothbrush, 187.1ms\n",
      "0: 480x640 1 person, 1 couch, 1 clock, 218.8ms\n",
      "0: 480x640 1 person, 1 clock, 186.4ms\n",
      "0: 480x640 1 person, 1 chair, 1 clock, 222.3ms\n",
      "0: 480x640 1 person, 1 chair, 1 clock, 187.0ms\n",
      "0: 480x640 1 person, 1 chair, 1 clock, 196.2ms\n",
      "0: 480x640 1 person, 1 chair, 1 clock, 1 toothbrush, 192.6ms\n",
      "0: 480x640 1 person, 1 chair, 1 clock, 1 toothbrush, 186.6ms\n",
      "0: 480x640 1 person, 1 clock, 1 toothbrush, 216.0ms\n",
      "0: 480x640 1 person, 1 chair, 1 clock, 1 toothbrush, 218.6ms\n",
      "0: 480x640 1 person, 1 chair, 1 clock, 1 toothbrush, 216.4ms\n",
      "0: 480x640 1 person, 1 chair, 1 clock, 1 toothbrush, 186.0ms\n",
      "0: 480x640 1 person, 1 chair, 1 clock, 1 toothbrush, 194.6ms\n",
      "0: 480x640 1 person, 1 chair, 1 clock, 1 toothbrush, 190.0ms\n",
      "0: 480x640 1 person, 1 chair, 1 clock, 193.0ms\n",
      "0: 480x640 1 person, 1 clock, 183.6ms\n",
      "0: 480x640 1 person, 1 clock, 217.2ms\n",
      "0: 480x640 1 person, 1 clock, 1 toothbrush, 192.6ms\n",
      "0: 480x640 1 person, 1 chair, 1 clock, 193.8ms\n",
      "0: 480x640 1 person, 1 clock, 189.6ms\n",
      "0: 480x640 1 person, 1 clock, 186.8ms\n",
      "0: 480x640 1 person, 1 clock, 188.6ms\n",
      "0: 480x640 1 person, 1 clock, 191.3ms\n",
      "0: 480x640 1 person, 1 clock, 190.6ms\n",
      "0: 480x640 1 person, 1 clock, 1 toothbrush, 194.6ms\n",
      "0: 480x640 1 person, 1 clock, 190.7ms\n",
      "0: 480x640 1 person, 1 clock, 188.7ms\n",
      "0: 480x640 1 person, 1 clock, 195.8ms\n",
      "0: 480x640 1 person, 1 clock, 1 toothbrush, 211.6ms\n",
      "0: 480x640 1 person, 1 clock, 191.6ms\n",
      "0: 480x640 1 person, 1 clock, 210.2ms\n",
      "0: 480x640 1 person, 1 clock, 205.2ms\n",
      "0: 480x640 1 person, 1 clock, 204.0ms\n",
      "0: 480x640 1 person, 1 clock, 207.3ms\n",
      "0: 480x640 1 person, 1 clock, 204.4ms\n",
      "0: 480x640 1 person, 1 clock, 228.5ms\n",
      "0: 480x640 1 person, 1 clock, 1 toothbrush, 220.7ms\n",
      "0: 480x640 1 person, 1 clock, 181.3ms\n",
      "0: 480x640 1 person, 1 clock, 232.8ms\n",
      "0: 480x640 1 person, 1 clock, 1 toothbrush, 194.0ms\n",
      "0: 480x640 1 person, 1 clock, 1 toothbrush, 197.0ms\n",
      "0: 480x640 1 person, 1 clock, 237.2ms\n",
      "0: 480x640 1 person, 1 clock, 193.8ms\n",
      "0: 480x640 1 person, 1 clock, 189.3ms\n",
      "0: 480x640 1 person, 1 clock, 205.9ms\n",
      "0: 480x640 1 person, 1 clock, 193.7ms\n",
      "0: 480x640 1 person, 1 clock, 195.9ms\n",
      "0: 480x640 1 person, 1 clock, 248.2ms\n",
      "0: 480x640 1 person, 1 clock, 263.2ms\n",
      "0: 480x640 1 person, 1 clock, 1 toothbrush, 253.2ms\n",
      "0: 480x640 1 person, 1 clock, 1 toothbrush, 238.0ms\n",
      "0: 480x640 1 person, 1 clock, 203.6ms\n",
      "0: 480x640 1 person, 1 chair, 1 clock, 195.8ms\n",
      "0: 480x640 1 person, 1 clock, 189.0ms\n",
      "0: 480x640 1 person, 1 clock, 208.2ms\n",
      "0: 480x640 1 person, 1 clock, 261.3ms\n",
      "0: 480x640 1 person, 1 chair, 1 clock, 185.2ms\n",
      "0: 480x640 1 person, 1 chair, 1 clock, 191.1ms\n",
      "0: 480x640 1 person, 1 clock, 236.1ms\n",
      "0: 480x640 1 person, 1 chair, 1 clock, 199.7ms\n",
      "0: 480x640 1 person, 1 chair, 1 clock, 200.7ms\n",
      "0: 480x640 1 person, 1 chair, 1 clock, 266.7ms\n",
      "0: 480x640 1 person, 1 chair, 1 clock, 200.6ms\n",
      "0: 480x640 1 person, 1 clock, 240.4ms\n",
      "0: 480x640 1 person, 1 clock, 189.6ms\n",
      "0: 480x640 1 person, 1 clock, 185.4ms\n",
      "0: 480x640 1 person, 1 clock, 197.8ms\n",
      "0: 480x640 1 person, 2 chairs, 1 clock, 214.5ms\n",
      "0: 480x640 1 person, 1 chair, 1 clock, 235.3ms\n",
      "0: 480x640 1 person, 1 cell phone, 1 clock, 202.4ms\n",
      "0: 480x640 1 person, 1 clock, 203.3ms\n",
      "0: 480x640 1 person, 1 clock, 205.5ms\n",
      "0: 480x640 1 person, 1 clock, 223.4ms\n",
      "0: 480x640 1 person, 1 clock, 196.8ms\n",
      "0: 480x640 1 person, 1 clock, 204.2ms\n",
      "0: 480x640 1 person, 1 chair, 1 clock, 190.9ms\n",
      "0: 480x640 1 person, 1 chair, 1 clock, 193.5ms\n",
      "0: 480x640 1 person, 1 chair, 1 clock, 192.7ms\n",
      "0: 480x640 1 person, 1 chair, 1 clock, 227.9ms\n",
      "0: 480x640 1 person, 1 chair, 1 clock, 226.9ms\n",
      "0: 480x640 1 person, 1 chair, 1 clock, 188.8ms\n",
      "0: 480x640 1 person, 1 clock, 193.0ms\n",
      "0: 480x640 1 person, 1 chair, 1 clock, 196.4ms\n",
      "0: 480x640 1 person, 1 chair, 1 clock, 213.1ms\n",
      "0: 480x640 1 person, 1 chair, 1 clock, 220.9ms\n",
      "0: 480x640 1 person, 1 chair, 1 clock, 208.6ms\n",
      "0: 480x640 1 person, 1 chair, 1 clock, 211.6ms\n",
      "0: 480x640 1 person, 1 clock, 221.1ms\n",
      "0: 480x640 1 person, 1 chair, 1 clock, 218.8ms\n",
      "0: 480x640 1 person, 1 clock, 190.0ms\n",
      "0: 480x640 1 person, 1 chair, 1 clock, 185.4ms\n",
      "0: 480x640 1 person, 2 chairs, 1 clock, 197.7ms\n",
      "0: 480x640 1 person, 1 chair, 1 clock, 235.8ms\n",
      "0: 480x640 1 person, 1 clock, 207.8ms\n",
      "0: 480x640 1 person, 1 chair, 1 clock, 243.7ms\n",
      "0: 480x640 1 person, 1 clock, 238.8ms\n",
      "0: 480x640 1 person, 1 clock, 241.9ms\n",
      "0: 480x640 1 person, 1 clock, 261.1ms\n",
      "0: 480x640 1 person, 1 chair, 248.8ms\n",
      "0: 480x640 1 person, 1 clock, 251.2ms\n",
      "0: 480x640 1 person, 1 chair, 1 clock, 260.3ms\n",
      "0: 480x640 1 person, 1 chair, 1 clock, 259.7ms\n",
      "0: 480x640 1 person, 1 clock, 209.8ms\n",
      "0: 480x640 1 person, 1 clock, 194.0ms\n",
      "0: 480x640 1 person, 1 chair, 1 clock, 199.3ms\n",
      "0: 480x640 1 person, 1 clock, 251.2ms\n",
      "0: 480x640 1 person, 1 clock, 201.3ms\n",
      "0: 480x640 1 person, 1 chair, 1 clock, 188.9ms\n",
      "0: 480x640 1 person, 1 chair, 1 clock, 219.4ms\n",
      "0: 480x640 1 person, 1 clock, 199.7ms\n",
      "0: 480x640 1 person, 1 clock, 194.6ms\n",
      "0: 480x640 1 person, 1 chair, 211.3ms\n",
      "0: 480x640 1 person, 1 chair, 205.7ms\n",
      "0: 480x640 1 person, 1 chair, 197.0ms\n",
      "0: 480x640 1 person, 1 chair, 189.5ms\n",
      "0: 480x640 1 person, 196.2ms\n",
      "0: 480x640 1 person, 1 chair, 191.9ms\n",
      "0: 480x640 1 person, 194.2ms\n",
      "0: 480x640 1 person, 220.0ms\n",
      "0: 480x640 1 person, 196.1ms\n",
      "0: 480x640 1 person, 192.5ms\n",
      "0: 480x640 1 person, 1 chair, 222.0ms\n",
      "0: 480x640 1 person, 198.6ms\n",
      "0: 480x640 1 person, 1 chair, 185.8ms\n",
      "0: 480x640 1 person, 1 chair, 194.1ms\n",
      "0: 480x640 1 person, 1 chair, 205.7ms\n",
      "0: 480x640 1 person, 1 chair, 187.9ms\n",
      "0: 480x640 1 person, 1 chair, 265.0ms\n",
      "0: 480x640 1 person, 1 chair, 201.1ms\n",
      "0: 480x640 1 person, 1 chair, 184.2ms\n",
      "0: 480x640 1 person, 191.0ms\n",
      "0: 480x640 1 person, 201.9ms\n",
      "0: 480x640 1 person, 1 chair, 213.8ms\n",
      "0: 480x640 1 person, 1 chair, 203.9ms\n",
      "0: 480x640 1 person, 258.1ms\n",
      "0: 480x640 1 person, 191.7ms\n",
      "0: 480x640 1 person, 205.3ms\n",
      "0: 480x640 1 person, 1 chair, 192.2ms\n",
      "0: 480x640 1 person, 209.0ms\n",
      "0: 480x640 1 person, 1 chair, 191.6ms\n",
      "0: 480x640 1 person, 1 chair, 214.8ms\n",
      "0: 480x640 1 person, 1 chair, 215.4ms\n",
      "0: 480x640 1 person, 1 chair, 216.4ms\n",
      "0: 480x640 1 person, 201.3ms\n",
      "0: 480x640 1 person, 1 chair, 207.6ms\n",
      "0: 480x640 1 person, 211.9ms\n",
      "0: 480x640 1 person, 1 chair, 225.6ms\n",
      "0: 480x640 1 person, 193.5ms\n",
      "0: 480x640 1 person, 200.3ms\n",
      "0: 480x640 1 person, 196.9ms\n",
      "0: 480x640 1 person, 187.3ms\n",
      "0: 480x640 1 person, 1 chair, 192.7ms\n",
      "0: 480x640 1 person, 1 chair, 200.0ms\n",
      "0: 480x640 1 person, 192.9ms\n",
      "0: 480x640 1 person, 231.1ms\n",
      "0: 480x640 1 person, 195.1ms\n",
      "0: 480x640 1 person, 198.6ms\n",
      "0: 480x640 1 person, 199.1ms\n",
      "0: 480x640 1 person, 198.3ms\n",
      "0: 480x640 1 person, 201.6ms\n",
      "0: 480x640 1 person, 1 chair, 185.2ms\n",
      "0: 480x640 1 person, 1 chair, 197.6ms\n",
      "0: 480x640 1 person, 209.9ms\n",
      "0: 480x640 1 person, 262.9ms\n",
      "0: 480x640 1 person, 228.9ms\n",
      "0: 480x640 1 person, 248.9ms\n",
      "0: 480x640 1 person, 1 chair, 211.9ms\n",
      "0: 480x640 1 person, 193.5ms\n",
      "0: 480x640 1 person, 234.7ms\n",
      "0: 480x640 1 person, 214.4ms\n",
      "0: 480x640 1 person, 193.5ms\n",
      "0: 480x640 1 person, 212.2ms\n",
      "0: 480x640 1 person, 236.2ms\n",
      "0: 480x640 1 person, 222.0ms\n",
      "0: 480x640 1 person, 213.6ms\n",
      "0: 480x640 1 person, 209.3ms\n",
      "0: 480x640 1 person, 228.5ms\n",
      "0: 480x640 1 person, 210.7ms\n",
      "0: 480x640 1 person, 216.3ms\n",
      "0: 480x640 1 person, 202.6ms\n",
      "0: 480x640 1 person, 1 chair, 223.6ms\n",
      "0: 480x640 1 person, 1 clock, 219.5ms\n",
      "0: 480x640 1 person, 1 clock, 217.0ms\n",
      "0: 480x640 1 person, 1 chair, 1 clock, 217.4ms\n",
      "0: 480x640 1 person, 1 clock, 225.0ms\n",
      "0: 480x640 1 person, 1 clock, 219.4ms\n",
      "0: 480x640 1 person, 1 chair, 1 clock, 253.2ms\n",
      "0: 480x640 1 person, 1 chair, 1 clock, 266.0ms\n",
      "0: 480x640 1 person, 1 chair, 1 clock, 237.9ms\n",
      "0: 480x640 1 person, 1 chair, 1 clock, 228.8ms\n",
      "0: 480x640 1 person, 1 chair, 1 clock, 304.8ms\n",
      "0: 480x640 1 person, 1 clock, 244.5ms\n",
      "0: 480x640 1 person, 2 chairs, 1 clock, 211.7ms\n",
      "0: 480x640 1 person, 3 chairs, 1 clock, 266.4ms\n",
      "0: 480x640 1 person, 3 chairs, 1 clock, 271.2ms\n",
      "0: 480x640 1 person, 3 chairs, 1 clock, 248.1ms\n",
      "0: 480x640 1 person, 2 chairs, 1 clock, 269.8ms\n",
      "0: 480x640 1 person, 2 chairs, 1 clock, 263.1ms\n",
      "0: 480x640 1 person, 2 chairs, 1 clock, 204.4ms\n",
      "0: 480x640 1 person, 4 chairs, 1 clock, 189.4ms\n",
      "0: 480x640 1 person, 2 chairs, 1 clock, 261.1ms\n",
      "0: 480x640 1 person, 2 chairs, 1 clock, 283.1ms\n",
      "0: 480x640 1 person, 2 chairs, 1 clock, 235.9ms\n",
      "0: 480x640 1 person, 3 chairs, 1 clock, 264.6ms\n",
      "0: 480x640 1 person, 2 chairs, 1 clock, 270.0ms\n",
      "0: 480x640 1 person, 2 chairs, 1 clock, 230.7ms\n",
      "0: 480x640 1 person, 1 chair, 1 clock, 202.2ms\n",
      "0: 480x640 1 person, 1 chair, 1 clock, 199.7ms\n",
      "0: 480x640 1 person, 1 clock, 201.0ms\n",
      "0: 480x640 1 person, 1 chair, 1 clock, 196.8ms\n",
      "0: 480x640 1 person, 1 chair, 1 clock, 194.0ms\n",
      "0: 480x640 1 person, 1 clock, 200.5ms\n",
      "0: 480x640 1 person, 1 chair, 1 clock, 232.5ms\n",
      "0: 480x640 1 person, 1 chair, 1 clock, 204.2ms\n",
      "0: 480x640 1 person, 1 clock, 198.4ms\n",
      "0: 480x640 1 person, 1 clock, 211.3ms\n",
      "0: 480x640 1 person, 1 clock, 233.9ms\n",
      "0: 480x640 1 person, 1 clock, 208.9ms\n",
      "0: 480x640 1 person, 1 clock, 198.2ms\n",
      "0: 480x640 1 person, 1 clock, 231.9ms\n",
      "0: 480x640 1 person, 1 chair, 1 clock, 204.3ms\n",
      "0: 480x640 1 person, 1 clock, 204.5ms\n",
      "0: 480x640 1 person, 1 clock, 231.2ms\n"
     ]
    },
    {
     "ename": "KeyboardInterrupt",
     "evalue": "",
     "output_type": "error",
     "traceback": [
      "\u001b[1;31m---------------------------------------------------------------------------\u001b[0m",
      "\u001b[1;31mKeyboardInterrupt\u001b[0m                         Traceback (most recent call last)",
      "Cell \u001b[1;32mIn[8], line 1\u001b[0m\n\u001b[1;32m----> 1\u001b[0m results \u001b[38;5;241m=\u001b[39m \u001b[43mmodel\u001b[49m\u001b[38;5;241;43m.\u001b[39;49m\u001b[43mpredict\u001b[49m\u001b[43m(\u001b[49m\u001b[43msource\u001b[49m\u001b[38;5;241;43m=\u001b[39;49m\u001b[38;5;124;43m\"\u001b[39;49m\u001b[38;5;124;43m0\u001b[39;49m\u001b[38;5;124;43m\"\u001b[39;49m\u001b[43m,\u001b[49m\u001b[43m \u001b[49m\u001b[43mshow\u001b[49m\u001b[43m \u001b[49m\u001b[38;5;241;43m=\u001b[39;49m\u001b[43m \u001b[49m\u001b[38;5;28;43;01mTrue\u001b[39;49;00m\u001b[43m)\u001b[49m \n",
      "File \u001b[1;32m~\\AppData\\Local\\Programs\\Python\\Python310\\lib\\site-packages\\ultralytics\\engine\\model.py:555\u001b[0m, in \u001b[0;36mModel.predict\u001b[1;34m(self, source, stream, predictor, **kwargs)\u001b[0m\n\u001b[0;32m    553\u001b[0m \u001b[38;5;28;01mif\u001b[39;00m prompts \u001b[38;5;129;01mand\u001b[39;00m \u001b[38;5;28mhasattr\u001b[39m(\u001b[38;5;28mself\u001b[39m\u001b[38;5;241m.\u001b[39mpredictor, \u001b[38;5;124m\"\u001b[39m\u001b[38;5;124mset_prompts\u001b[39m\u001b[38;5;124m\"\u001b[39m):  \u001b[38;5;66;03m# for SAM-type models\u001b[39;00m\n\u001b[0;32m    554\u001b[0m     \u001b[38;5;28mself\u001b[39m\u001b[38;5;241m.\u001b[39mpredictor\u001b[38;5;241m.\u001b[39mset_prompts(prompts)\n\u001b[1;32m--> 555\u001b[0m \u001b[38;5;28;01mreturn\u001b[39;00m \u001b[38;5;28mself\u001b[39m\u001b[38;5;241m.\u001b[39mpredictor\u001b[38;5;241m.\u001b[39mpredict_cli(source\u001b[38;5;241m=\u001b[39msource) \u001b[38;5;28;01mif\u001b[39;00m is_cli \u001b[38;5;28;01melse\u001b[39;00m \u001b[38;5;28;43mself\u001b[39;49m\u001b[38;5;241;43m.\u001b[39;49m\u001b[43mpredictor\u001b[49m\u001b[43m(\u001b[49m\u001b[43msource\u001b[49m\u001b[38;5;241;43m=\u001b[39;49m\u001b[43msource\u001b[49m\u001b[43m,\u001b[49m\u001b[43m \u001b[49m\u001b[43mstream\u001b[49m\u001b[38;5;241;43m=\u001b[39;49m\u001b[43mstream\u001b[49m\u001b[43m)\u001b[49m\n",
      "File \u001b[1;32m~\\AppData\\Local\\Programs\\Python\\Python310\\lib\\site-packages\\ultralytics\\engine\\predictor.py:227\u001b[0m, in \u001b[0;36mBasePredictor.__call__\u001b[1;34m(self, source, model, stream, *args, **kwargs)\u001b[0m\n\u001b[0;32m    225\u001b[0m     \u001b[38;5;28;01mreturn\u001b[39;00m \u001b[38;5;28mself\u001b[39m\u001b[38;5;241m.\u001b[39mstream_inference(source, model, \u001b[38;5;241m*\u001b[39margs, \u001b[38;5;241m*\u001b[39m\u001b[38;5;241m*\u001b[39mkwargs)\n\u001b[0;32m    226\u001b[0m \u001b[38;5;28;01melse\u001b[39;00m:\n\u001b[1;32m--> 227\u001b[0m     \u001b[38;5;28;01mreturn\u001b[39;00m \u001b[38;5;28;43mlist\u001b[39;49m\u001b[43m(\u001b[49m\u001b[38;5;28;43mself\u001b[39;49m\u001b[38;5;241;43m.\u001b[39;49m\u001b[43mstream_inference\u001b[49m\u001b[43m(\u001b[49m\u001b[43msource\u001b[49m\u001b[43m,\u001b[49m\u001b[43m \u001b[49m\u001b[43mmodel\u001b[49m\u001b[43m,\u001b[49m\u001b[43m \u001b[49m\u001b[38;5;241;43m*\u001b[39;49m\u001b[43margs\u001b[49m\u001b[43m,\u001b[49m\u001b[43m \u001b[49m\u001b[38;5;241;43m*\u001b[39;49m\u001b[38;5;241;43m*\u001b[39;49m\u001b[43mkwargs\u001b[49m\u001b[43m)\u001b[49m\u001b[43m)\u001b[49m\n",
      "File \u001b[1;32m~\\AppData\\Local\\Programs\\Python\\Python310\\lib\\site-packages\\torch\\utils\\_contextlib.py:57\u001b[0m, in \u001b[0;36m_wrap_generator.<locals>.generator_context\u001b[1;34m(*args, **kwargs)\u001b[0m\n\u001b[0;32m     54\u001b[0m         \u001b[38;5;28;01melse\u001b[39;00m:\n\u001b[0;32m     55\u001b[0m             \u001b[38;5;66;03m# Pass the last request to the generator and get its response\u001b[39;00m\n\u001b[0;32m     56\u001b[0m             \u001b[38;5;28;01mwith\u001b[39;00m ctx_factory():\n\u001b[1;32m---> 57\u001b[0m                 response \u001b[38;5;241m=\u001b[39m \u001b[43mgen\u001b[49m\u001b[38;5;241;43m.\u001b[39;49m\u001b[43msend\u001b[49m\u001b[43m(\u001b[49m\u001b[43mrequest\u001b[49m\u001b[43m)\u001b[49m\n\u001b[0;32m     59\u001b[0m \u001b[38;5;66;03m# We let the exceptions raised above by the generator's `.throw` or\u001b[39;00m\n\u001b[0;32m     60\u001b[0m \u001b[38;5;66;03m# `.send` methods bubble up to our caller, except for StopIteration\u001b[39;00m\n\u001b[0;32m     61\u001b[0m \u001b[38;5;28;01mexcept\u001b[39;00m \u001b[38;5;167;01mStopIteration\u001b[39;00m \u001b[38;5;28;01mas\u001b[39;00m e:\n\u001b[0;32m     62\u001b[0m     \u001b[38;5;66;03m# The generator informed us that it is done: take whatever its\u001b[39;00m\n\u001b[0;32m     63\u001b[0m     \u001b[38;5;66;03m# returned value (if any) was and indicate that we're done too\u001b[39;00m\n\u001b[0;32m     64\u001b[0m     \u001b[38;5;66;03m# by returning it (see docs for python's return-statement).\u001b[39;00m\n",
      "File \u001b[1;32m~\\AppData\\Local\\Programs\\Python\\Python310\\lib\\site-packages\\ultralytics\\engine\\predictor.py:330\u001b[0m, in \u001b[0;36mBasePredictor.stream_inference\u001b[1;34m(self, source, model, *args, **kwargs)\u001b[0m\n\u001b[0;32m    328\u001b[0m \u001b[38;5;66;03m# Inference\u001b[39;00m\n\u001b[0;32m    329\u001b[0m \u001b[38;5;28;01mwith\u001b[39;00m profilers[\u001b[38;5;241m1\u001b[39m]:\n\u001b[1;32m--> 330\u001b[0m     preds \u001b[38;5;241m=\u001b[39m \u001b[38;5;28mself\u001b[39m\u001b[38;5;241m.\u001b[39minference(im, \u001b[38;5;241m*\u001b[39margs, \u001b[38;5;241m*\u001b[39m\u001b[38;5;241m*\u001b[39mkwargs)\n\u001b[0;32m    331\u001b[0m     \u001b[38;5;28;01mif\u001b[39;00m \u001b[38;5;28mself\u001b[39m\u001b[38;5;241m.\u001b[39margs\u001b[38;5;241m.\u001b[39membed:\n\u001b[0;32m    332\u001b[0m         \u001b[38;5;28;01myield from\u001b[39;00m [preds] \u001b[38;5;28;01mif\u001b[39;00m \u001b[38;5;28misinstance\u001b[39m(preds, torch\u001b[38;5;241m.\u001b[39mTensor) \u001b[38;5;28;01melse\u001b[39;00m preds  \u001b[38;5;66;03m# yield embedding tensors\u001b[39;00m\n",
      "File \u001b[1;32m~\\AppData\\Local\\Programs\\Python\\Python310\\lib\\site-packages\\ultralytics\\engine\\predictor.py:182\u001b[0m, in \u001b[0;36mBasePredictor.inference\u001b[1;34m(self, im, *args, **kwargs)\u001b[0m\n\u001b[0;32m    176\u001b[0m \u001b[38;5;250m\u001b[39m\u001b[38;5;124;03m\"\"\"Run inference on a given image using the specified model and arguments.\"\"\"\u001b[39;00m\n\u001b[0;32m    177\u001b[0m visualize \u001b[38;5;241m=\u001b[39m (\n\u001b[0;32m    178\u001b[0m     increment_path(\u001b[38;5;28mself\u001b[39m\u001b[38;5;241m.\u001b[39msave_dir \u001b[38;5;241m/\u001b[39m Path(\u001b[38;5;28mself\u001b[39m\u001b[38;5;241m.\u001b[39mbatch[\u001b[38;5;241m0\u001b[39m][\u001b[38;5;241m0\u001b[39m])\u001b[38;5;241m.\u001b[39mstem, mkdir\u001b[38;5;241m=\u001b[39m\u001b[38;5;28;01mTrue\u001b[39;00m)\n\u001b[0;32m    179\u001b[0m     \u001b[38;5;28;01mif\u001b[39;00m \u001b[38;5;28mself\u001b[39m\u001b[38;5;241m.\u001b[39margs\u001b[38;5;241m.\u001b[39mvisualize \u001b[38;5;129;01mand\u001b[39;00m (\u001b[38;5;129;01mnot\u001b[39;00m \u001b[38;5;28mself\u001b[39m\u001b[38;5;241m.\u001b[39msource_type\u001b[38;5;241m.\u001b[39mtensor)\n\u001b[0;32m    180\u001b[0m     \u001b[38;5;28;01melse\u001b[39;00m \u001b[38;5;28;01mFalse\u001b[39;00m\n\u001b[0;32m    181\u001b[0m )\n\u001b[1;32m--> 182\u001b[0m \u001b[38;5;28;01mreturn\u001b[39;00m \u001b[38;5;28mself\u001b[39m\u001b[38;5;241m.\u001b[39mmodel(im, augment\u001b[38;5;241m=\u001b[39m\u001b[38;5;28mself\u001b[39m\u001b[38;5;241m.\u001b[39margs\u001b[38;5;241m.\u001b[39maugment, visualize\u001b[38;5;241m=\u001b[39mvisualize, embed\u001b[38;5;241m=\u001b[39m\u001b[38;5;28mself\u001b[39m\u001b[38;5;241m.\u001b[39margs\u001b[38;5;241m.\u001b[39membed, \u001b[38;5;241m*\u001b[39margs, \u001b[38;5;241m*\u001b[39m\u001b[38;5;241m*\u001b[39mkwargs)\n",
      "File \u001b[1;32m~\\AppData\\Local\\Programs\\Python\\Python310\\lib\\site-packages\\torch\\nn\\modules\\module.py:1751\u001b[0m, in \u001b[0;36mModule._wrapped_call_impl\u001b[1;34m(self, *args, **kwargs)\u001b[0m\n\u001b[0;32m   1749\u001b[0m     \u001b[38;5;28;01mreturn\u001b[39;00m \u001b[38;5;28mself\u001b[39m\u001b[38;5;241m.\u001b[39m_compiled_call_impl(\u001b[38;5;241m*\u001b[39margs, \u001b[38;5;241m*\u001b[39m\u001b[38;5;241m*\u001b[39mkwargs)  \u001b[38;5;66;03m# type: ignore[misc]\u001b[39;00m\n\u001b[0;32m   1750\u001b[0m \u001b[38;5;28;01melse\u001b[39;00m:\n\u001b[1;32m-> 1751\u001b[0m     \u001b[38;5;28;01mreturn\u001b[39;00m \u001b[38;5;28mself\u001b[39m\u001b[38;5;241m.\u001b[39m_call_impl(\u001b[38;5;241m*\u001b[39margs, \u001b[38;5;241m*\u001b[39m\u001b[38;5;241m*\u001b[39mkwargs)\n",
      "File \u001b[1;32m~\\AppData\\Local\\Programs\\Python\\Python310\\lib\\site-packages\\torch\\nn\\modules\\module.py:1762\u001b[0m, in \u001b[0;36mModule._call_impl\u001b[1;34m(self, *args, **kwargs)\u001b[0m\n\u001b[0;32m   1757\u001b[0m \u001b[38;5;66;03m# If we don't have any hooks, we want to skip the rest of the logic in\u001b[39;00m\n\u001b[0;32m   1758\u001b[0m \u001b[38;5;66;03m# this function, and just call forward.\u001b[39;00m\n\u001b[0;32m   1759\u001b[0m \u001b[38;5;28;01mif\u001b[39;00m \u001b[38;5;129;01mnot\u001b[39;00m (\u001b[38;5;28mself\u001b[39m\u001b[38;5;241m.\u001b[39m_backward_hooks \u001b[38;5;129;01mor\u001b[39;00m \u001b[38;5;28mself\u001b[39m\u001b[38;5;241m.\u001b[39m_backward_pre_hooks \u001b[38;5;129;01mor\u001b[39;00m \u001b[38;5;28mself\u001b[39m\u001b[38;5;241m.\u001b[39m_forward_hooks \u001b[38;5;129;01mor\u001b[39;00m \u001b[38;5;28mself\u001b[39m\u001b[38;5;241m.\u001b[39m_forward_pre_hooks\n\u001b[0;32m   1760\u001b[0m         \u001b[38;5;129;01mor\u001b[39;00m _global_backward_pre_hooks \u001b[38;5;129;01mor\u001b[39;00m _global_backward_hooks\n\u001b[0;32m   1761\u001b[0m         \u001b[38;5;129;01mor\u001b[39;00m _global_forward_hooks \u001b[38;5;129;01mor\u001b[39;00m _global_forward_pre_hooks):\n\u001b[1;32m-> 1762\u001b[0m     \u001b[38;5;28;01mreturn\u001b[39;00m forward_call(\u001b[38;5;241m*\u001b[39margs, \u001b[38;5;241m*\u001b[39m\u001b[38;5;241m*\u001b[39mkwargs)\n\u001b[0;32m   1764\u001b[0m result \u001b[38;5;241m=\u001b[39m \u001b[38;5;28;01mNone\u001b[39;00m\n\u001b[0;32m   1765\u001b[0m called_always_called_hooks \u001b[38;5;241m=\u001b[39m \u001b[38;5;28mset\u001b[39m()\n",
      "File \u001b[1;32m~\\AppData\\Local\\Programs\\Python\\Python310\\lib\\site-packages\\ultralytics\\nn\\autobackend.py:636\u001b[0m, in \u001b[0;36mAutoBackend.forward\u001b[1;34m(self, im, augment, visualize, embed, **kwargs)\u001b[0m\n\u001b[0;32m    634\u001b[0m \u001b[38;5;66;03m# PyTorch\u001b[39;00m\n\u001b[0;32m    635\u001b[0m \u001b[38;5;28;01mif\u001b[39;00m \u001b[38;5;28mself\u001b[39m\u001b[38;5;241m.\u001b[39mpt \u001b[38;5;129;01mor\u001b[39;00m \u001b[38;5;28mself\u001b[39m\u001b[38;5;241m.\u001b[39mnn_module:\n\u001b[1;32m--> 636\u001b[0m     y \u001b[38;5;241m=\u001b[39m \u001b[38;5;28mself\u001b[39m\u001b[38;5;241m.\u001b[39mmodel(im, augment\u001b[38;5;241m=\u001b[39maugment, visualize\u001b[38;5;241m=\u001b[39mvisualize, embed\u001b[38;5;241m=\u001b[39membed, \u001b[38;5;241m*\u001b[39m\u001b[38;5;241m*\u001b[39mkwargs)\n\u001b[0;32m    638\u001b[0m \u001b[38;5;66;03m# TorchScript\u001b[39;00m\n\u001b[0;32m    639\u001b[0m \u001b[38;5;28;01melif\u001b[39;00m \u001b[38;5;28mself\u001b[39m\u001b[38;5;241m.\u001b[39mjit:\n",
      "File \u001b[1;32m~\\AppData\\Local\\Programs\\Python\\Python310\\lib\\site-packages\\torch\\nn\\modules\\module.py:1751\u001b[0m, in \u001b[0;36mModule._wrapped_call_impl\u001b[1;34m(self, *args, **kwargs)\u001b[0m\n\u001b[0;32m   1749\u001b[0m     \u001b[38;5;28;01mreturn\u001b[39;00m \u001b[38;5;28mself\u001b[39m\u001b[38;5;241m.\u001b[39m_compiled_call_impl(\u001b[38;5;241m*\u001b[39margs, \u001b[38;5;241m*\u001b[39m\u001b[38;5;241m*\u001b[39mkwargs)  \u001b[38;5;66;03m# type: ignore[misc]\u001b[39;00m\n\u001b[0;32m   1750\u001b[0m \u001b[38;5;28;01melse\u001b[39;00m:\n\u001b[1;32m-> 1751\u001b[0m     \u001b[38;5;28;01mreturn\u001b[39;00m \u001b[38;5;28mself\u001b[39m\u001b[38;5;241m.\u001b[39m_call_impl(\u001b[38;5;241m*\u001b[39margs, \u001b[38;5;241m*\u001b[39m\u001b[38;5;241m*\u001b[39mkwargs)\n",
      "File \u001b[1;32m~\\AppData\\Local\\Programs\\Python\\Python310\\lib\\site-packages\\torch\\nn\\modules\\module.py:1762\u001b[0m, in \u001b[0;36mModule._call_impl\u001b[1;34m(self, *args, **kwargs)\u001b[0m\n\u001b[0;32m   1757\u001b[0m \u001b[38;5;66;03m# If we don't have any hooks, we want to skip the rest of the logic in\u001b[39;00m\n\u001b[0;32m   1758\u001b[0m \u001b[38;5;66;03m# this function, and just call forward.\u001b[39;00m\n\u001b[0;32m   1759\u001b[0m \u001b[38;5;28;01mif\u001b[39;00m \u001b[38;5;129;01mnot\u001b[39;00m (\u001b[38;5;28mself\u001b[39m\u001b[38;5;241m.\u001b[39m_backward_hooks \u001b[38;5;129;01mor\u001b[39;00m \u001b[38;5;28mself\u001b[39m\u001b[38;5;241m.\u001b[39m_backward_pre_hooks \u001b[38;5;129;01mor\u001b[39;00m \u001b[38;5;28mself\u001b[39m\u001b[38;5;241m.\u001b[39m_forward_hooks \u001b[38;5;129;01mor\u001b[39;00m \u001b[38;5;28mself\u001b[39m\u001b[38;5;241m.\u001b[39m_forward_pre_hooks\n\u001b[0;32m   1760\u001b[0m         \u001b[38;5;129;01mor\u001b[39;00m _global_backward_pre_hooks \u001b[38;5;129;01mor\u001b[39;00m _global_backward_hooks\n\u001b[0;32m   1761\u001b[0m         \u001b[38;5;129;01mor\u001b[39;00m _global_forward_hooks \u001b[38;5;129;01mor\u001b[39;00m _global_forward_pre_hooks):\n\u001b[1;32m-> 1762\u001b[0m     \u001b[38;5;28;01mreturn\u001b[39;00m forward_call(\u001b[38;5;241m*\u001b[39margs, \u001b[38;5;241m*\u001b[39m\u001b[38;5;241m*\u001b[39mkwargs)\n\u001b[0;32m   1764\u001b[0m result \u001b[38;5;241m=\u001b[39m \u001b[38;5;28;01mNone\u001b[39;00m\n\u001b[0;32m   1765\u001b[0m called_always_called_hooks \u001b[38;5;241m=\u001b[39m \u001b[38;5;28mset\u001b[39m()\n",
      "File \u001b[1;32m~\\AppData\\Local\\Programs\\Python\\Python310\\lib\\site-packages\\ultralytics\\nn\\tasks.py:138\u001b[0m, in \u001b[0;36mBaseModel.forward\u001b[1;34m(self, x, *args, **kwargs)\u001b[0m\n\u001b[0;32m    136\u001b[0m \u001b[38;5;28;01mif\u001b[39;00m \u001b[38;5;28misinstance\u001b[39m(x, \u001b[38;5;28mdict\u001b[39m):  \u001b[38;5;66;03m# for cases of training and validating while training.\u001b[39;00m\n\u001b[0;32m    137\u001b[0m     \u001b[38;5;28;01mreturn\u001b[39;00m \u001b[38;5;28mself\u001b[39m\u001b[38;5;241m.\u001b[39mloss(x, \u001b[38;5;241m*\u001b[39margs, \u001b[38;5;241m*\u001b[39m\u001b[38;5;241m*\u001b[39mkwargs)\n\u001b[1;32m--> 138\u001b[0m \u001b[38;5;28;01mreturn\u001b[39;00m \u001b[38;5;28mself\u001b[39m\u001b[38;5;241m.\u001b[39mpredict(x, \u001b[38;5;241m*\u001b[39margs, \u001b[38;5;241m*\u001b[39m\u001b[38;5;241m*\u001b[39mkwargs)\n",
      "File \u001b[1;32m~\\AppData\\Local\\Programs\\Python\\Python310\\lib\\site-packages\\ultralytics\\nn\\tasks.py:156\u001b[0m, in \u001b[0;36mBaseModel.predict\u001b[1;34m(self, x, profile, visualize, augment, embed)\u001b[0m\n\u001b[0;32m    154\u001b[0m \u001b[38;5;28;01mif\u001b[39;00m augment:\n\u001b[0;32m    155\u001b[0m     \u001b[38;5;28;01mreturn\u001b[39;00m \u001b[38;5;28mself\u001b[39m\u001b[38;5;241m.\u001b[39m_predict_augment(x)\n\u001b[1;32m--> 156\u001b[0m \u001b[38;5;28;01mreturn\u001b[39;00m \u001b[38;5;28;43mself\u001b[39;49m\u001b[38;5;241;43m.\u001b[39;49m\u001b[43m_predict_once\u001b[49m\u001b[43m(\u001b[49m\u001b[43mx\u001b[49m\u001b[43m,\u001b[49m\u001b[43m \u001b[49m\u001b[43mprofile\u001b[49m\u001b[43m,\u001b[49m\u001b[43m \u001b[49m\u001b[43mvisualize\u001b[49m\u001b[43m,\u001b[49m\u001b[43m \u001b[49m\u001b[43membed\u001b[49m\u001b[43m)\u001b[49m\n",
      "File \u001b[1;32m~\\AppData\\Local\\Programs\\Python\\Python310\\lib\\site-packages\\ultralytics\\nn\\tasks.py:179\u001b[0m, in \u001b[0;36mBaseModel._predict_once\u001b[1;34m(self, x, profile, visualize, embed)\u001b[0m\n\u001b[0;32m    177\u001b[0m \u001b[38;5;28;01mif\u001b[39;00m profile:\n\u001b[0;32m    178\u001b[0m     \u001b[38;5;28mself\u001b[39m\u001b[38;5;241m.\u001b[39m_profile_one_layer(m, x, dt)\n\u001b[1;32m--> 179\u001b[0m x \u001b[38;5;241m=\u001b[39m \u001b[43mm\u001b[49m\u001b[43m(\u001b[49m\u001b[43mx\u001b[49m\u001b[43m)\u001b[49m  \u001b[38;5;66;03m# run\u001b[39;00m\n\u001b[0;32m    180\u001b[0m y\u001b[38;5;241m.\u001b[39mappend(x \u001b[38;5;28;01mif\u001b[39;00m m\u001b[38;5;241m.\u001b[39mi \u001b[38;5;129;01min\u001b[39;00m \u001b[38;5;28mself\u001b[39m\u001b[38;5;241m.\u001b[39msave \u001b[38;5;28;01melse\u001b[39;00m \u001b[38;5;28;01mNone\u001b[39;00m)  \u001b[38;5;66;03m# save output\u001b[39;00m\n\u001b[0;32m    181\u001b[0m \u001b[38;5;28;01mif\u001b[39;00m visualize:\n",
      "File \u001b[1;32m~\\AppData\\Local\\Programs\\Python\\Python310\\lib\\site-packages\\torch\\nn\\modules\\module.py:1751\u001b[0m, in \u001b[0;36mModule._wrapped_call_impl\u001b[1;34m(self, *args, **kwargs)\u001b[0m\n\u001b[0;32m   1749\u001b[0m     \u001b[38;5;28;01mreturn\u001b[39;00m \u001b[38;5;28mself\u001b[39m\u001b[38;5;241m.\u001b[39m_compiled_call_impl(\u001b[38;5;241m*\u001b[39margs, \u001b[38;5;241m*\u001b[39m\u001b[38;5;241m*\u001b[39mkwargs)  \u001b[38;5;66;03m# type: ignore[misc]\u001b[39;00m\n\u001b[0;32m   1750\u001b[0m \u001b[38;5;28;01melse\u001b[39;00m:\n\u001b[1;32m-> 1751\u001b[0m     \u001b[38;5;28;01mreturn\u001b[39;00m \u001b[38;5;28mself\u001b[39m\u001b[38;5;241m.\u001b[39m_call_impl(\u001b[38;5;241m*\u001b[39margs, \u001b[38;5;241m*\u001b[39m\u001b[38;5;241m*\u001b[39mkwargs)\n",
      "File \u001b[1;32m~\\AppData\\Local\\Programs\\Python\\Python310\\lib\\site-packages\\torch\\nn\\modules\\module.py:1762\u001b[0m, in \u001b[0;36mModule._call_impl\u001b[1;34m(self, *args, **kwargs)\u001b[0m\n\u001b[0;32m   1757\u001b[0m \u001b[38;5;66;03m# If we don't have any hooks, we want to skip the rest of the logic in\u001b[39;00m\n\u001b[0;32m   1758\u001b[0m \u001b[38;5;66;03m# this function, and just call forward.\u001b[39;00m\n\u001b[0;32m   1759\u001b[0m \u001b[38;5;28;01mif\u001b[39;00m \u001b[38;5;129;01mnot\u001b[39;00m (\u001b[38;5;28mself\u001b[39m\u001b[38;5;241m.\u001b[39m_backward_hooks \u001b[38;5;129;01mor\u001b[39;00m \u001b[38;5;28mself\u001b[39m\u001b[38;5;241m.\u001b[39m_backward_pre_hooks \u001b[38;5;129;01mor\u001b[39;00m \u001b[38;5;28mself\u001b[39m\u001b[38;5;241m.\u001b[39m_forward_hooks \u001b[38;5;129;01mor\u001b[39;00m \u001b[38;5;28mself\u001b[39m\u001b[38;5;241m.\u001b[39m_forward_pre_hooks\n\u001b[0;32m   1760\u001b[0m         \u001b[38;5;129;01mor\u001b[39;00m _global_backward_pre_hooks \u001b[38;5;129;01mor\u001b[39;00m _global_backward_hooks\n\u001b[0;32m   1761\u001b[0m         \u001b[38;5;129;01mor\u001b[39;00m _global_forward_hooks \u001b[38;5;129;01mor\u001b[39;00m _global_forward_pre_hooks):\n\u001b[1;32m-> 1762\u001b[0m     \u001b[38;5;28;01mreturn\u001b[39;00m forward_call(\u001b[38;5;241m*\u001b[39margs, \u001b[38;5;241m*\u001b[39m\u001b[38;5;241m*\u001b[39mkwargs)\n\u001b[0;32m   1764\u001b[0m result \u001b[38;5;241m=\u001b[39m \u001b[38;5;28;01mNone\u001b[39;00m\n\u001b[0;32m   1765\u001b[0m called_always_called_hooks \u001b[38;5;241m=\u001b[39m \u001b[38;5;28mset\u001b[39m()\n",
      "File \u001b[1;32m~\\AppData\\Local\\Programs\\Python\\Python310\\lib\\site-packages\\ultralytics\\nn\\modules\\block.py:318\u001b[0m, in \u001b[0;36mC2f.forward\u001b[1;34m(self, x)\u001b[0m\n\u001b[0;32m    316\u001b[0m \u001b[38;5;250m\u001b[39m\u001b[38;5;124;03m\"\"\"Forward pass through C2f layer.\"\"\"\u001b[39;00m\n\u001b[0;32m    317\u001b[0m y \u001b[38;5;241m=\u001b[39m \u001b[38;5;28mlist\u001b[39m(\u001b[38;5;28mself\u001b[39m\u001b[38;5;241m.\u001b[39mcv1(x)\u001b[38;5;241m.\u001b[39mchunk(\u001b[38;5;241m2\u001b[39m, \u001b[38;5;241m1\u001b[39m))\n\u001b[1;32m--> 318\u001b[0m \u001b[43my\u001b[49m\u001b[38;5;241;43m.\u001b[39;49m\u001b[43mextend\u001b[49m\u001b[43m(\u001b[49m\u001b[43mm\u001b[49m\u001b[43m(\u001b[49m\u001b[43my\u001b[49m\u001b[43m[\u001b[49m\u001b[38;5;241;43m-\u001b[39;49m\u001b[38;5;241;43m1\u001b[39;49m\u001b[43m]\u001b[49m\u001b[43m)\u001b[49m\u001b[43m \u001b[49m\u001b[38;5;28;43;01mfor\u001b[39;49;00m\u001b[43m \u001b[49m\u001b[43mm\u001b[49m\u001b[43m \u001b[49m\u001b[38;5;129;43;01min\u001b[39;49;00m\u001b[43m \u001b[49m\u001b[38;5;28;43mself\u001b[39;49m\u001b[38;5;241;43m.\u001b[39;49m\u001b[43mm\u001b[49m\u001b[43m)\u001b[49m\n\u001b[0;32m    319\u001b[0m \u001b[38;5;28;01mreturn\u001b[39;00m \u001b[38;5;28mself\u001b[39m\u001b[38;5;241m.\u001b[39mcv2(torch\u001b[38;5;241m.\u001b[39mcat(y, \u001b[38;5;241m1\u001b[39m))\n",
      "File \u001b[1;32m~\\AppData\\Local\\Programs\\Python\\Python310\\lib\\site-packages\\ultralytics\\nn\\modules\\block.py:318\u001b[0m, in \u001b[0;36m<genexpr>\u001b[1;34m(.0)\u001b[0m\n\u001b[0;32m    316\u001b[0m \u001b[38;5;250m\u001b[39m\u001b[38;5;124;03m\"\"\"Forward pass through C2f layer.\"\"\"\u001b[39;00m\n\u001b[0;32m    317\u001b[0m y \u001b[38;5;241m=\u001b[39m \u001b[38;5;28mlist\u001b[39m(\u001b[38;5;28mself\u001b[39m\u001b[38;5;241m.\u001b[39mcv1(x)\u001b[38;5;241m.\u001b[39mchunk(\u001b[38;5;241m2\u001b[39m, \u001b[38;5;241m1\u001b[39m))\n\u001b[1;32m--> 318\u001b[0m y\u001b[38;5;241m.\u001b[39mextend(\u001b[43mm\u001b[49m\u001b[43m(\u001b[49m\u001b[43my\u001b[49m\u001b[43m[\u001b[49m\u001b[38;5;241;43m-\u001b[39;49m\u001b[38;5;241;43m1\u001b[39;49m\u001b[43m]\u001b[49m\u001b[43m)\u001b[49m \u001b[38;5;28;01mfor\u001b[39;00m m \u001b[38;5;129;01min\u001b[39;00m \u001b[38;5;28mself\u001b[39m\u001b[38;5;241m.\u001b[39mm)\n\u001b[0;32m    319\u001b[0m \u001b[38;5;28;01mreturn\u001b[39;00m \u001b[38;5;28mself\u001b[39m\u001b[38;5;241m.\u001b[39mcv2(torch\u001b[38;5;241m.\u001b[39mcat(y, \u001b[38;5;241m1\u001b[39m))\n",
      "File \u001b[1;32m~\\AppData\\Local\\Programs\\Python\\Python310\\lib\\site-packages\\torch\\nn\\modules\\module.py:1751\u001b[0m, in \u001b[0;36mModule._wrapped_call_impl\u001b[1;34m(self, *args, **kwargs)\u001b[0m\n\u001b[0;32m   1749\u001b[0m     \u001b[38;5;28;01mreturn\u001b[39;00m \u001b[38;5;28mself\u001b[39m\u001b[38;5;241m.\u001b[39m_compiled_call_impl(\u001b[38;5;241m*\u001b[39margs, \u001b[38;5;241m*\u001b[39m\u001b[38;5;241m*\u001b[39mkwargs)  \u001b[38;5;66;03m# type: ignore[misc]\u001b[39;00m\n\u001b[0;32m   1750\u001b[0m \u001b[38;5;28;01melse\u001b[39;00m:\n\u001b[1;32m-> 1751\u001b[0m     \u001b[38;5;28;01mreturn\u001b[39;00m \u001b[38;5;28mself\u001b[39m\u001b[38;5;241m.\u001b[39m_call_impl(\u001b[38;5;241m*\u001b[39margs, \u001b[38;5;241m*\u001b[39m\u001b[38;5;241m*\u001b[39mkwargs)\n",
      "File \u001b[1;32m~\\AppData\\Local\\Programs\\Python\\Python310\\lib\\site-packages\\torch\\nn\\modules\\module.py:1762\u001b[0m, in \u001b[0;36mModule._call_impl\u001b[1;34m(self, *args, **kwargs)\u001b[0m\n\u001b[0;32m   1757\u001b[0m \u001b[38;5;66;03m# If we don't have any hooks, we want to skip the rest of the logic in\u001b[39;00m\n\u001b[0;32m   1758\u001b[0m \u001b[38;5;66;03m# this function, and just call forward.\u001b[39;00m\n\u001b[0;32m   1759\u001b[0m \u001b[38;5;28;01mif\u001b[39;00m \u001b[38;5;129;01mnot\u001b[39;00m (\u001b[38;5;28mself\u001b[39m\u001b[38;5;241m.\u001b[39m_backward_hooks \u001b[38;5;129;01mor\u001b[39;00m \u001b[38;5;28mself\u001b[39m\u001b[38;5;241m.\u001b[39m_backward_pre_hooks \u001b[38;5;129;01mor\u001b[39;00m \u001b[38;5;28mself\u001b[39m\u001b[38;5;241m.\u001b[39m_forward_hooks \u001b[38;5;129;01mor\u001b[39;00m \u001b[38;5;28mself\u001b[39m\u001b[38;5;241m.\u001b[39m_forward_pre_hooks\n\u001b[0;32m   1760\u001b[0m         \u001b[38;5;129;01mor\u001b[39;00m _global_backward_pre_hooks \u001b[38;5;129;01mor\u001b[39;00m _global_backward_hooks\n\u001b[0;32m   1761\u001b[0m         \u001b[38;5;129;01mor\u001b[39;00m _global_forward_hooks \u001b[38;5;129;01mor\u001b[39;00m _global_forward_pre_hooks):\n\u001b[1;32m-> 1762\u001b[0m     \u001b[38;5;28;01mreturn\u001b[39;00m forward_call(\u001b[38;5;241m*\u001b[39margs, \u001b[38;5;241m*\u001b[39m\u001b[38;5;241m*\u001b[39mkwargs)\n\u001b[0;32m   1764\u001b[0m result \u001b[38;5;241m=\u001b[39m \u001b[38;5;28;01mNone\u001b[39;00m\n\u001b[0;32m   1765\u001b[0m called_always_called_hooks \u001b[38;5;241m=\u001b[39m \u001b[38;5;28mset\u001b[39m()\n",
      "File \u001b[1;32m~\\AppData\\Local\\Programs\\Python\\Python310\\lib\\site-packages\\ultralytics\\nn\\modules\\block.py:495\u001b[0m, in \u001b[0;36mBottleneck.forward\u001b[1;34m(self, x)\u001b[0m\n\u001b[0;32m    493\u001b[0m \u001b[38;5;28;01mdef\u001b[39;00m\u001b[38;5;250m \u001b[39m\u001b[38;5;21mforward\u001b[39m(\u001b[38;5;28mself\u001b[39m, x: torch\u001b[38;5;241m.\u001b[39mTensor) \u001b[38;5;241m-\u001b[39m\u001b[38;5;241m>\u001b[39m torch\u001b[38;5;241m.\u001b[39mTensor:\n\u001b[0;32m    494\u001b[0m \u001b[38;5;250m    \u001b[39m\u001b[38;5;124;03m\"\"\"Apply bottleneck with optional shortcut connection.\"\"\"\u001b[39;00m\n\u001b[1;32m--> 495\u001b[0m     \u001b[38;5;28;01mreturn\u001b[39;00m x \u001b[38;5;241m+\u001b[39m \u001b[38;5;28;43mself\u001b[39;49m\u001b[38;5;241;43m.\u001b[39;49m\u001b[43mcv2\u001b[49m\u001b[43m(\u001b[49m\u001b[38;5;28;43mself\u001b[39;49m\u001b[38;5;241;43m.\u001b[39;49m\u001b[43mcv1\u001b[49m\u001b[43m(\u001b[49m\u001b[43mx\u001b[49m\u001b[43m)\u001b[49m\u001b[43m)\u001b[49m \u001b[38;5;28;01mif\u001b[39;00m \u001b[38;5;28mself\u001b[39m\u001b[38;5;241m.\u001b[39madd \u001b[38;5;28;01melse\u001b[39;00m \u001b[38;5;28mself\u001b[39m\u001b[38;5;241m.\u001b[39mcv2(\u001b[38;5;28mself\u001b[39m\u001b[38;5;241m.\u001b[39mcv1(x))\n",
      "File \u001b[1;32m~\\AppData\\Local\\Programs\\Python\\Python310\\lib\\site-packages\\torch\\nn\\modules\\module.py:1751\u001b[0m, in \u001b[0;36mModule._wrapped_call_impl\u001b[1;34m(self, *args, **kwargs)\u001b[0m\n\u001b[0;32m   1749\u001b[0m     \u001b[38;5;28;01mreturn\u001b[39;00m \u001b[38;5;28mself\u001b[39m\u001b[38;5;241m.\u001b[39m_compiled_call_impl(\u001b[38;5;241m*\u001b[39margs, \u001b[38;5;241m*\u001b[39m\u001b[38;5;241m*\u001b[39mkwargs)  \u001b[38;5;66;03m# type: ignore[misc]\u001b[39;00m\n\u001b[0;32m   1750\u001b[0m \u001b[38;5;28;01melse\u001b[39;00m:\n\u001b[1;32m-> 1751\u001b[0m     \u001b[38;5;28;01mreturn\u001b[39;00m \u001b[38;5;28mself\u001b[39m\u001b[38;5;241m.\u001b[39m_call_impl(\u001b[38;5;241m*\u001b[39margs, \u001b[38;5;241m*\u001b[39m\u001b[38;5;241m*\u001b[39mkwargs)\n",
      "File \u001b[1;32m~\\AppData\\Local\\Programs\\Python\\Python310\\lib\\site-packages\\torch\\nn\\modules\\module.py:1762\u001b[0m, in \u001b[0;36mModule._call_impl\u001b[1;34m(self, *args, **kwargs)\u001b[0m\n\u001b[0;32m   1757\u001b[0m \u001b[38;5;66;03m# If we don't have any hooks, we want to skip the rest of the logic in\u001b[39;00m\n\u001b[0;32m   1758\u001b[0m \u001b[38;5;66;03m# this function, and just call forward.\u001b[39;00m\n\u001b[0;32m   1759\u001b[0m \u001b[38;5;28;01mif\u001b[39;00m \u001b[38;5;129;01mnot\u001b[39;00m (\u001b[38;5;28mself\u001b[39m\u001b[38;5;241m.\u001b[39m_backward_hooks \u001b[38;5;129;01mor\u001b[39;00m \u001b[38;5;28mself\u001b[39m\u001b[38;5;241m.\u001b[39m_backward_pre_hooks \u001b[38;5;129;01mor\u001b[39;00m \u001b[38;5;28mself\u001b[39m\u001b[38;5;241m.\u001b[39m_forward_hooks \u001b[38;5;129;01mor\u001b[39;00m \u001b[38;5;28mself\u001b[39m\u001b[38;5;241m.\u001b[39m_forward_pre_hooks\n\u001b[0;32m   1760\u001b[0m         \u001b[38;5;129;01mor\u001b[39;00m _global_backward_pre_hooks \u001b[38;5;129;01mor\u001b[39;00m _global_backward_hooks\n\u001b[0;32m   1761\u001b[0m         \u001b[38;5;129;01mor\u001b[39;00m _global_forward_hooks \u001b[38;5;129;01mor\u001b[39;00m _global_forward_pre_hooks):\n\u001b[1;32m-> 1762\u001b[0m     \u001b[38;5;28;01mreturn\u001b[39;00m forward_call(\u001b[38;5;241m*\u001b[39margs, \u001b[38;5;241m*\u001b[39m\u001b[38;5;241m*\u001b[39mkwargs)\n\u001b[0;32m   1764\u001b[0m result \u001b[38;5;241m=\u001b[39m \u001b[38;5;28;01mNone\u001b[39;00m\n\u001b[0;32m   1765\u001b[0m called_always_called_hooks \u001b[38;5;241m=\u001b[39m \u001b[38;5;28mset\u001b[39m()\n",
      "File \u001b[1;32m~\\AppData\\Local\\Programs\\Python\\Python310\\lib\\site-packages\\ultralytics\\nn\\modules\\conv.py:92\u001b[0m, in \u001b[0;36mConv.forward_fuse\u001b[1;34m(self, x)\u001b[0m\n\u001b[0;32m     82\u001b[0m \u001b[38;5;28;01mdef\u001b[39;00m\u001b[38;5;250m \u001b[39m\u001b[38;5;21mforward_fuse\u001b[39m(\u001b[38;5;28mself\u001b[39m, x):\n\u001b[0;32m     83\u001b[0m \u001b[38;5;250m    \u001b[39m\u001b[38;5;124;03m\"\"\"\u001b[39;00m\n\u001b[0;32m     84\u001b[0m \u001b[38;5;124;03m    Apply convolution and activation without batch normalization.\u001b[39;00m\n\u001b[0;32m     85\u001b[0m \n\u001b[1;32m   (...)\u001b[0m\n\u001b[0;32m     90\u001b[0m \u001b[38;5;124;03m        (torch.Tensor): Output tensor.\u001b[39;00m\n\u001b[0;32m     91\u001b[0m \u001b[38;5;124;03m    \"\"\"\u001b[39;00m\n\u001b[1;32m---> 92\u001b[0m     \u001b[38;5;28;01mreturn\u001b[39;00m \u001b[38;5;28;43mself\u001b[39;49m\u001b[38;5;241;43m.\u001b[39;49m\u001b[43mact\u001b[49m\u001b[43m(\u001b[49m\u001b[38;5;28;43mself\u001b[39;49m\u001b[38;5;241;43m.\u001b[39;49m\u001b[43mconv\u001b[49m\u001b[43m(\u001b[49m\u001b[43mx\u001b[49m\u001b[43m)\u001b[49m\u001b[43m)\u001b[49m\n",
      "File \u001b[1;32m~\\AppData\\Local\\Programs\\Python\\Python310\\lib\\site-packages\\torch\\nn\\modules\\module.py:1751\u001b[0m, in \u001b[0;36mModule._wrapped_call_impl\u001b[1;34m(self, *args, **kwargs)\u001b[0m\n\u001b[0;32m   1749\u001b[0m     \u001b[38;5;28;01mreturn\u001b[39;00m \u001b[38;5;28mself\u001b[39m\u001b[38;5;241m.\u001b[39m_compiled_call_impl(\u001b[38;5;241m*\u001b[39margs, \u001b[38;5;241m*\u001b[39m\u001b[38;5;241m*\u001b[39mkwargs)  \u001b[38;5;66;03m# type: ignore[misc]\u001b[39;00m\n\u001b[0;32m   1750\u001b[0m \u001b[38;5;28;01melse\u001b[39;00m:\n\u001b[1;32m-> 1751\u001b[0m     \u001b[38;5;28;01mreturn\u001b[39;00m \u001b[38;5;28mself\u001b[39m\u001b[38;5;241m.\u001b[39m_call_impl(\u001b[38;5;241m*\u001b[39margs, \u001b[38;5;241m*\u001b[39m\u001b[38;5;241m*\u001b[39mkwargs)\n",
      "File \u001b[1;32m~\\AppData\\Local\\Programs\\Python\\Python310\\lib\\site-packages\\torch\\nn\\modules\\module.py:1762\u001b[0m, in \u001b[0;36mModule._call_impl\u001b[1;34m(self, *args, **kwargs)\u001b[0m\n\u001b[0;32m   1757\u001b[0m \u001b[38;5;66;03m# If we don't have any hooks, we want to skip the rest of the logic in\u001b[39;00m\n\u001b[0;32m   1758\u001b[0m \u001b[38;5;66;03m# this function, and just call forward.\u001b[39;00m\n\u001b[0;32m   1759\u001b[0m \u001b[38;5;28;01mif\u001b[39;00m \u001b[38;5;129;01mnot\u001b[39;00m (\u001b[38;5;28mself\u001b[39m\u001b[38;5;241m.\u001b[39m_backward_hooks \u001b[38;5;129;01mor\u001b[39;00m \u001b[38;5;28mself\u001b[39m\u001b[38;5;241m.\u001b[39m_backward_pre_hooks \u001b[38;5;129;01mor\u001b[39;00m \u001b[38;5;28mself\u001b[39m\u001b[38;5;241m.\u001b[39m_forward_hooks \u001b[38;5;129;01mor\u001b[39;00m \u001b[38;5;28mself\u001b[39m\u001b[38;5;241m.\u001b[39m_forward_pre_hooks\n\u001b[0;32m   1760\u001b[0m         \u001b[38;5;129;01mor\u001b[39;00m _global_backward_pre_hooks \u001b[38;5;129;01mor\u001b[39;00m _global_backward_hooks\n\u001b[0;32m   1761\u001b[0m         \u001b[38;5;129;01mor\u001b[39;00m _global_forward_hooks \u001b[38;5;129;01mor\u001b[39;00m _global_forward_pre_hooks):\n\u001b[1;32m-> 1762\u001b[0m     \u001b[38;5;28;01mreturn\u001b[39;00m forward_call(\u001b[38;5;241m*\u001b[39margs, \u001b[38;5;241m*\u001b[39m\u001b[38;5;241m*\u001b[39mkwargs)\n\u001b[0;32m   1764\u001b[0m result \u001b[38;5;241m=\u001b[39m \u001b[38;5;28;01mNone\u001b[39;00m\n\u001b[0;32m   1765\u001b[0m called_always_called_hooks \u001b[38;5;241m=\u001b[39m \u001b[38;5;28mset\u001b[39m()\n",
      "File \u001b[1;32m~\\AppData\\Local\\Programs\\Python\\Python310\\lib\\site-packages\\torch\\nn\\modules\\activation.py:432\u001b[0m, in \u001b[0;36mSiLU.forward\u001b[1;34m(self, input)\u001b[0m\n\u001b[0;32m    431\u001b[0m \u001b[38;5;28;01mdef\u001b[39;00m\u001b[38;5;250m \u001b[39m\u001b[38;5;21mforward\u001b[39m(\u001b[38;5;28mself\u001b[39m, \u001b[38;5;28minput\u001b[39m: Tensor) \u001b[38;5;241m-\u001b[39m\u001b[38;5;241m>\u001b[39m Tensor:\n\u001b[1;32m--> 432\u001b[0m     \u001b[38;5;28;01mreturn\u001b[39;00m \u001b[43mF\u001b[49m\u001b[38;5;241;43m.\u001b[39;49m\u001b[43msilu\u001b[49m\u001b[43m(\u001b[49m\u001b[38;5;28;43minput\u001b[39;49m\u001b[43m,\u001b[49m\u001b[43m \u001b[49m\u001b[43minplace\u001b[49m\u001b[38;5;241;43m=\u001b[39;49m\u001b[38;5;28;43mself\u001b[39;49m\u001b[38;5;241;43m.\u001b[39;49m\u001b[43minplace\u001b[49m\u001b[43m)\u001b[49m\n",
      "File \u001b[1;32m~\\AppData\\Local\\Programs\\Python\\Python310\\lib\\site-packages\\torch\\nn\\functional.py:2379\u001b[0m, in \u001b[0;36msilu\u001b[1;34m(input, inplace)\u001b[0m\n\u001b[0;32m   2377\u001b[0m     \u001b[38;5;28;01mreturn\u001b[39;00m handle_torch_function(silu, (\u001b[38;5;28minput\u001b[39m,), \u001b[38;5;28minput\u001b[39m, inplace\u001b[38;5;241m=\u001b[39minplace)\n\u001b[0;32m   2378\u001b[0m \u001b[38;5;28;01mif\u001b[39;00m inplace:\n\u001b[1;32m-> 2379\u001b[0m     \u001b[38;5;28;01mreturn\u001b[39;00m \u001b[43mtorch\u001b[49m\u001b[38;5;241;43m.\u001b[39;49m\u001b[43m_C\u001b[49m\u001b[38;5;241;43m.\u001b[39;49m\u001b[43m_nn\u001b[49m\u001b[38;5;241;43m.\u001b[39;49m\u001b[43msilu_\u001b[49m\u001b[43m(\u001b[49m\u001b[38;5;28;43minput\u001b[39;49m\u001b[43m)\u001b[49m\n\u001b[0;32m   2380\u001b[0m \u001b[38;5;28;01mreturn\u001b[39;00m torch\u001b[38;5;241m.\u001b[39m_C\u001b[38;5;241m.\u001b[39m_nn\u001b[38;5;241m.\u001b[39msilu(\u001b[38;5;28minput\u001b[39m)\n",
      "\u001b[1;31mKeyboardInterrupt\u001b[0m: "
     ]
    }
   ],
   "source": [
    "results = model.predict(source=\"0\", show = True) "
   ]
  },
  {
   "cell_type": "code",
   "execution_count": 9,
   "id": "03f6e84a-4fc7-498b-8f0d-d3a6542086ed",
   "metadata": {
    "scrolled": true
   },
   "outputs": [
    {
     "name": "stdout",
     "output_type": "stream",
     "text": [
      "\n",
      "image 1/1 D:\\yolo_project\\dog.png: 448x640 1 dog, 215.6ms\n",
      "Speed: 7.9ms preprocess, 215.6ms inference, 2.5ms postprocess per image at shape (1, 3, 448, 640)\n"
     ]
    },
    {
     "data": {
      "text/plain": [
       "[ultralytics.engine.results.Results object with attributes:\n",
       " \n",
       " boxes: ultralytics.engine.results.Boxes object\n",
       " keypoints: None\n",
       " masks: None\n",
       " names: {0: 'person', 1: 'bicycle', 2: 'car', 3: 'motorcycle', 4: 'airplane', 5: 'bus', 6: 'train', 7: 'truck', 8: 'boat', 9: 'traffic light', 10: 'fire hydrant', 11: 'stop sign', 12: 'parking meter', 13: 'bench', 14: 'bird', 15: 'cat', 16: 'dog', 17: 'horse', 18: 'sheep', 19: 'cow', 20: 'elephant', 21: 'bear', 22: 'zebra', 23: 'giraffe', 24: 'backpack', 25: 'umbrella', 26: 'handbag', 27: 'tie', 28: 'suitcase', 29: 'frisbee', 30: 'skis', 31: 'snowboard', 32: 'sports ball', 33: 'kite', 34: 'baseball bat', 35: 'baseball glove', 36: 'skateboard', 37: 'surfboard', 38: 'tennis racket', 39: 'bottle', 40: 'wine glass', 41: 'cup', 42: 'fork', 43: 'knife', 44: 'spoon', 45: 'bowl', 46: 'banana', 47: 'apple', 48: 'sandwich', 49: 'orange', 50: 'broccoli', 51: 'carrot', 52: 'hot dog', 53: 'pizza', 54: 'donut', 55: 'cake', 56: 'chair', 57: 'couch', 58: 'potted plant', 59: 'bed', 60: 'dining table', 61: 'toilet', 62: 'tv', 63: 'laptop', 64: 'mouse', 65: 'remote', 66: 'keyboard', 67: 'cell phone', 68: 'microwave', 69: 'oven', 70: 'toaster', 71: 'sink', 72: 'refrigerator', 73: 'book', 74: 'clock', 75: 'vase', 76: 'scissors', 77: 'teddy bear', 78: 'hair drier', 79: 'toothbrush'}\n",
       " obb: None\n",
       " orig_img: array([[[248, 248, 248],\n",
       "         [247, 247, 247],\n",
       "         [247, 247, 247],\n",
       "         ...,\n",
       "         [247, 247, 247],\n",
       "         [247, 247, 247],\n",
       "         [247, 247, 247]],\n",
       " \n",
       "        [[247, 247, 247],\n",
       "         [246, 246, 246],\n",
       "         [246, 246, 246],\n",
       "         ...,\n",
       "         [246, 246, 246],\n",
       "         [246, 246, 246],\n",
       "         [247, 247, 247]],\n",
       " \n",
       "        [[247, 247, 247],\n",
       "         [246, 246, 246],\n",
       "         [246, 246, 246],\n",
       "         ...,\n",
       "         [246, 246, 246],\n",
       "         [246, 246, 246],\n",
       "         [247, 247, 247]],\n",
       " \n",
       "        ...,\n",
       " \n",
       "        [[247, 247, 247],\n",
       "         [246, 246, 246],\n",
       "         [246, 246, 246],\n",
       "         ...,\n",
       "         [246, 246, 246],\n",
       "         [246, 246, 246],\n",
       "         [247, 247, 247]],\n",
       " \n",
       "        [[246, 246, 246],\n",
       "         [246, 246, 246],\n",
       "         [246, 246, 246],\n",
       "         ...,\n",
       "         [246, 246, 246],\n",
       "         [246, 246, 246],\n",
       "         [247, 247, 247]],\n",
       " \n",
       "        [[248, 248, 248],\n",
       "         [247, 247, 247],\n",
       "         [247, 247, 247],\n",
       "         ...,\n",
       "         [247, 247, 247],\n",
       "         [247, 247, 247],\n",
       "         [247, 247, 247]]], shape=(567, 820, 3), dtype=uint8)\n",
       " orig_shape: (567, 820)\n",
       " path: 'D:\\\\yolo_project\\\\dog.png'\n",
       " probs: None\n",
       " save_dir: 'runs\\\\detect\\\\predict'\n",
       " speed: {'preprocess': 7.88070002454333, 'inference': 215.6484000151977, 'postprocess': 2.5022999907378107}]"
      ]
     },
     "execution_count": 9,
     "metadata": {},
     "output_type": "execute_result"
    }
   ],
   "source": [
    "results_1 = model.predict(\"dog.png\")\n",
    "results_1"
   ]
  },
  {
   "cell_type": "code",
   "execution_count": 10,
   "id": "8a409a1e-bb16-4dae-9224-649c6b2f7a86",
   "metadata": {},
   "outputs": [
    {
     "data": {
      "text/plain": [
       "ultralytics.engine.results.Boxes object with attributes:\n",
       "\n",
       "cls: tensor([16.])\n",
       "conf: tensor([0.9404])\n",
       "data: tensor([[211.0779,  38.8330, 631.3774, 527.7109,   0.9404,  16.0000]])\n",
       "id: None\n",
       "is_track: False\n",
       "orig_shape: (567, 820)\n",
       "shape: torch.Size([1, 6])\n",
       "xywh: tensor([[421.2277, 283.2719, 420.2995, 488.8780]])\n",
       "xywhn: tensor([[0.5137, 0.4996, 0.5126, 0.8622]])\n",
       "xyxy: tensor([[211.0779,  38.8330, 631.3774, 527.7109]])\n",
       "xyxyn: tensor([[0.2574, 0.0685, 0.7700, 0.9307]])"
      ]
     },
     "execution_count": 10,
     "metadata": {},
     "output_type": "execute_result"
    }
   ],
   "source": [
    "results_1[0].boxes"
   ]
  },
  {
   "cell_type": "code",
   "execution_count": 13,
   "id": "c2fba285-5158-47b2-8ad8-f7c8b7a4b3f2",
   "metadata": {},
   "outputs": [
    {
     "name": "stdout",
     "output_type": "stream",
     "text": [
      "Detected dog with confidence 0.94\n"
     ]
    }
   ],
   "source": [
    "for box in results_1[0].boxes:\n",
    "    cls_id = int(box.cls) # Class index\n",
    "    conf = float(box.conf) # Confidence\n",
    "    label = results_1[0].names[cls_id]# Class name\n",
    "    print(f\"Detected {label} with confidence {conf:.2f}\")\n"
   ]
  },
  {
   "cell_type": "code",
   "execution_count": 16,
   "id": "1dde3e60-e863-40f3-ba2c-691019d03ba3",
   "metadata": {},
   "outputs": [
    {
     "name": "stdout",
     "output_type": "stream",
     "text": [
      "\n",
      "image 1/1 D:\\yolo_project\\sky.jpg: 384x640 1 airplane, 262.0ms\n",
      "Speed: 4.8ms preprocess, 262.0ms inference, 2.6ms postprocess per image at shape (1, 3, 384, 640)\n"
     ]
    }
   ],
   "source": [
    "results_2 = model.predict(\"sky.jpg\")"
   ]
  },
  {
   "cell_type": "code",
   "execution_count": 17,
   "id": "bcf829ee-2ae2-4bb4-9d62-c674d336b842",
   "metadata": {},
   "outputs": [
    {
     "name": "stdout",
     "output_type": "stream",
     "text": [
      "Detected airplane with confidence 0.93\n"
     ]
    }
   ],
   "source": [
    "for box in results_2[0].boxes:\n",
    "    cls_id = int(box.cls) # Class index\n",
    "    conf = float(box.conf) # Confidence\n",
    "    label = results_2[0].names[cls_id]# Class name\n",
    "    print(f\"Detected {label} with confidence {conf:.2f}\")\n"
   ]
  },
  {
   "cell_type": "code",
   "execution_count": 18,
   "id": "18f4703c-73b1-4f74-9b6c-853710f47513",
   "metadata": {
    "scrolled": true
   },
   "outputs": [
    {
     "name": "stdout",
     "output_type": "stream",
     "text": [
      "\n",
      "WARNING \n",
      "inference results will accumulate in RAM unless `stream=True` is passed, causing potential out-of-memory\n",
      "errors for large sources or long-running streams and videos. See https://docs.ultralytics.com/modes/predict/ for help.\n",
      "\n",
      "Example:\n",
      "    results = model(source=..., stream=True)  # generator of Results objects\n",
      "    for r in results:\n",
      "        boxes = r.boxes  # Boxes object for bbox outputs\n",
      "        masks = r.masks  # Masks object for segment masks outputs\n",
      "        probs = r.probs  # Class probabilities for classification outputs\n",
      "\n",
      "video 1/1 (frame 1/166) D:\\yolo_project\\smooth_traffic.mp4: 640x384 9 cars, 1 bus, 1 truck, 203.3ms\n",
      "video 1/1 (frame 2/166) D:\\yolo_project\\smooth_traffic.mp4: 640x384 9 cars, 2 buss, 1 truck, 167.4ms\n",
      "video 1/1 (frame 3/166) D:\\yolo_project\\smooth_traffic.mp4: 640x384 1 person, 9 cars, 2 buss, 160.7ms\n",
      "video 1/1 (frame 4/166) D:\\yolo_project\\smooth_traffic.mp4: 640x384 1 person, 9 cars, 2 buss, 167.4ms\n",
      "video 1/1 (frame 5/166) D:\\yolo_project\\smooth_traffic.mp4: 640x384 1 person, 9 cars, 2 buss, 212.0ms\n",
      "video 1/1 (frame 6/166) D:\\yolo_project\\smooth_traffic.mp4: 640x384 1 person, 8 cars, 2 buss, 201.4ms\n",
      "video 1/1 (frame 7/166) D:\\yolo_project\\smooth_traffic.mp4: 640x384 1 person, 8 cars, 2 buss, 159.0ms\n",
      "video 1/1 (frame 8/166) D:\\yolo_project\\smooth_traffic.mp4: 640x384 1 person, 9 cars, 2 buss, 1 truck, 161.6ms\n",
      "video 1/1 (frame 9/166) D:\\yolo_project\\smooth_traffic.mp4: 640x384 1 person, 9 cars, 1 bus, 1 truck, 175.1ms\n",
      "video 1/1 (frame 10/166) D:\\yolo_project\\smooth_traffic.mp4: 640x384 1 person, 8 cars, 3 buss, 1 truck, 223.0ms\n",
      "video 1/1 (frame 11/166) D:\\yolo_project\\smooth_traffic.mp4: 640x384 1 person, 9 cars, 4 buss, 163.1ms\n",
      "video 1/1 (frame 12/166) D:\\yolo_project\\smooth_traffic.mp4: 640x384 1 person, 10 cars, 2 buss, 1 truck, 182.3ms\n",
      "video 1/1 (frame 13/166) D:\\yolo_project\\smooth_traffic.mp4: 640x384 1 person, 10 cars, 2 buss, 1 truck, 186.7ms\n",
      "video 1/1 (frame 14/166) D:\\yolo_project\\smooth_traffic.mp4: 640x384 1 person, 11 cars, 178.3ms\n",
      "video 1/1 (frame 15/166) D:\\yolo_project\\smooth_traffic.mp4: 640x384 1 person, 11 cars, 2 buss, 1 truck, 209.0ms\n",
      "video 1/1 (frame 16/166) D:\\yolo_project\\smooth_traffic.mp4: 640x384 10 cars, 2 buss, 2 trucks, 171.8ms\n",
      "video 1/1 (frame 17/166) D:\\yolo_project\\smooth_traffic.mp4: 640x384 1 person, 11 cars, 1 bus, 2 trucks, 167.9ms\n",
      "video 1/1 (frame 18/166) D:\\yolo_project\\smooth_traffic.mp4: 640x384 1 person, 9 cars, 2 buss, 1 truck, 187.5ms\n",
      "video 1/1 (frame 19/166) D:\\yolo_project\\smooth_traffic.mp4: 640x384 1 person, 8 cars, 3 buss, 1 truck, 177.8ms\n",
      "video 1/1 (frame 20/166) D:\\yolo_project\\smooth_traffic.mp4: 640x384 1 person, 10 cars, 2 buss, 1 truck, 174.4ms\n",
      "video 1/1 (frame 21/166) D:\\yolo_project\\smooth_traffic.mp4: 640x384 1 person, 10 cars, 2 buss, 1 truck, 169.7ms\n",
      "video 1/1 (frame 22/166) D:\\yolo_project\\smooth_traffic.mp4: 640x384 1 person, 12 cars, 2 buss, 167.4ms\n",
      "video 1/1 (frame 23/166) D:\\yolo_project\\smooth_traffic.mp4: 640x384 1 person, 12 cars, 2 buss, 170.5ms\n",
      "video 1/1 (frame 24/166) D:\\yolo_project\\smooth_traffic.mp4: 640x384 1 person, 12 cars, 2 buss, 155.1ms\n",
      "video 1/1 (frame 25/166) D:\\yolo_project\\smooth_traffic.mp4: 640x384 1 person, 11 cars, 2 buss, 1 toilet, 197.4ms\n",
      "video 1/1 (frame 26/166) D:\\yolo_project\\smooth_traffic.mp4: 640x384 1 person, 11 cars, 2 buss, 1 toilet, 167.0ms\n",
      "video 1/1 (frame 27/166) D:\\yolo_project\\smooth_traffic.mp4: 640x384 1 person, 10 cars, 2 buss, 1 toilet, 158.0ms\n",
      "video 1/1 (frame 28/166) D:\\yolo_project\\smooth_traffic.mp4: 640x384 1 person, 12 cars, 2 buss, 184.0ms\n",
      "video 1/1 (frame 29/166) D:\\yolo_project\\smooth_traffic.mp4: 640x384 1 person, 11 cars, 1 bus, 157.4ms\n",
      "video 1/1 (frame 30/166) D:\\yolo_project\\smooth_traffic.mp4: 640x384 1 person, 11 cars, 2 buss, 165.0ms\n",
      "video 1/1 (frame 31/166) D:\\yolo_project\\smooth_traffic.mp4: 640x384 1 person, 11 cars, 1 bus, 191.6ms\n",
      "video 1/1 (frame 32/166) D:\\yolo_project\\smooth_traffic.mp4: 640x384 1 person, 11 cars, 1 bus, 221.3ms\n",
      "video 1/1 (frame 33/166) D:\\yolo_project\\smooth_traffic.mp4: 640x384 1 person, 11 cars, 1 bus, 164.3ms\n",
      "video 1/1 (frame 34/166) D:\\yolo_project\\smooth_traffic.mp4: 640x384 1 person, 9 cars, 1 bus, 1 dining table, 158.8ms\n",
      "video 1/1 (frame 35/166) D:\\yolo_project\\smooth_traffic.mp4: 640x384 1 person, 10 cars, 1 bus, 175.0ms\n",
      "video 1/1 (frame 36/166) D:\\yolo_project\\smooth_traffic.mp4: 640x384 1 person, 10 cars, 1 bus, 1 truck, 277.3ms\n",
      "video 1/1 (frame 37/166) D:\\yolo_project\\smooth_traffic.mp4: 640x384 1 person, 10 cars, 1 bus, 1 truck, 230.8ms\n",
      "video 1/1 (frame 38/166) D:\\yolo_project\\smooth_traffic.mp4: 640x384 1 person, 11 cars, 1 bus, 1 truck, 208.6ms\n",
      "video 1/1 (frame 39/166) D:\\yolo_project\\smooth_traffic.mp4: 640x384 1 person, 12 cars, 1 bus, 1 truck, 180.8ms\n",
      "video 1/1 (frame 40/166) D:\\yolo_project\\smooth_traffic.mp4: 640x384 1 person, 10 cars, 2 buss, 1 truck, 1 chair, 158.1ms\n",
      "video 1/1 (frame 41/166) D:\\yolo_project\\smooth_traffic.mp4: 640x384 1 person, 10 cars, 1 bus, 155.8ms\n",
      "video 1/1 (frame 42/166) D:\\yolo_project\\smooth_traffic.mp4: 640x384 1 person, 10 cars, 1 bus, 155.8ms\n",
      "video 1/1 (frame 43/166) D:\\yolo_project\\smooth_traffic.mp4: 640x384 1 person, 11 cars, 1 bus, 179.2ms\n",
      "video 1/1 (frame 44/166) D:\\yolo_project\\smooth_traffic.mp4: 640x384 1 person, 11 cars, 1 bus, 1 truck, 190.1ms\n",
      "video 1/1 (frame 45/166) D:\\yolo_project\\smooth_traffic.mp4: 640x384 1 person, 10 cars, 2 buss, 1 truck, 249.3ms\n",
      "video 1/1 (frame 46/166) D:\\yolo_project\\smooth_traffic.mp4: 640x384 1 person, 10 cars, 3 buss, 1 truck, 182.1ms\n",
      "video 1/1 (frame 47/166) D:\\yolo_project\\smooth_traffic.mp4: 640x384 9 cars, 2 buss, 1 truck, 182.3ms\n",
      "video 1/1 (frame 48/166) D:\\yolo_project\\smooth_traffic.mp4: 640x384 9 cars, 2 buss, 170.5ms\n",
      "video 1/1 (frame 49/166) D:\\yolo_project\\smooth_traffic.mp4: 640x384 9 cars, 2 buss, 150.3ms\n",
      "video 1/1 (frame 50/166) D:\\yolo_project\\smooth_traffic.mp4: 640x384 2 persons, 9 cars, 2 buss, 167.1ms\n",
      "video 1/1 (frame 51/166) D:\\yolo_project\\smooth_traffic.mp4: 640x384 2 persons, 11 cars, 3 buss, 1 truck, 187.2ms\n",
      "video 1/1 (frame 52/166) D:\\yolo_project\\smooth_traffic.mp4: 640x384 2 persons, 9 cars, 3 buss, 1 truck, 159.2ms\n",
      "video 1/1 (frame 53/166) D:\\yolo_project\\smooth_traffic.mp4: 640x384 2 persons, 10 cars, 3 buss, 155.0ms\n",
      "video 1/1 (frame 54/166) D:\\yolo_project\\smooth_traffic.mp4: 640x384 1 person, 9 cars, 2 buss, 1 truck, 160.8ms\n",
      "video 1/1 (frame 55/166) D:\\yolo_project\\smooth_traffic.mp4: 640x384 1 person, 10 cars, 2 buss, 170.3ms\n",
      "video 1/1 (frame 56/166) D:\\yolo_project\\smooth_traffic.mp4: 640x384 1 person, 8 cars, 3 buss, 209.2ms\n",
      "video 1/1 (frame 57/166) D:\\yolo_project\\smooth_traffic.mp4: 640x384 2 persons, 7 cars, 3 buss, 171.0ms\n",
      "video 1/1 (frame 58/166) D:\\yolo_project\\smooth_traffic.mp4: 640x384 1 person, 8 cars, 3 buss, 163.7ms\n",
      "video 1/1 (frame 59/166) D:\\yolo_project\\smooth_traffic.mp4: 640x384 1 person, 8 cars, 3 buss, 161.4ms\n",
      "video 1/1 (frame 60/166) D:\\yolo_project\\smooth_traffic.mp4: 640x384 1 person, 9 cars, 2 buss, 155.7ms\n",
      "video 1/1 (frame 61/166) D:\\yolo_project\\smooth_traffic.mp4: 640x384 1 person, 9 cars, 3 buss, 180.9ms\n",
      "video 1/1 (frame 62/166) D:\\yolo_project\\smooth_traffic.mp4: 640x384 1 person, 9 cars, 3 buss, 205.4ms\n",
      "video 1/1 (frame 63/166) D:\\yolo_project\\smooth_traffic.mp4: 640x384 1 person, 9 cars, 3 buss, 168.3ms\n",
      "video 1/1 (frame 64/166) D:\\yolo_project\\smooth_traffic.mp4: 640x384 1 person, 9 cars, 3 buss, 1 truck, 196.3ms\n",
      "video 1/1 (frame 65/166) D:\\yolo_project\\smooth_traffic.mp4: 640x384 1 person, 11 cars, 3 buss, 175.0ms\n",
      "video 1/1 (frame 66/166) D:\\yolo_project\\smooth_traffic.mp4: 640x384 1 person, 9 cars, 2 buss, 174.0ms\n",
      "video 1/1 (frame 67/166) D:\\yolo_project\\smooth_traffic.mp4: 640x384 1 person, 12 cars, 2 buss, 178.1ms\n",
      "video 1/1 (frame 68/166) D:\\yolo_project\\smooth_traffic.mp4: 640x384 1 person, 12 cars, 3 buss, 172.9ms\n",
      "video 1/1 (frame 69/166) D:\\yolo_project\\smooth_traffic.mp4: 640x384 1 person, 12 cars, 2 buss, 184.1ms\n",
      "video 1/1 (frame 70/166) D:\\yolo_project\\smooth_traffic.mp4: 640x384 1 person, 13 cars, 2 buss, 207.5ms\n",
      "video 1/1 (frame 71/166) D:\\yolo_project\\smooth_traffic.mp4: 640x384 1 person, 10 cars, 2 buss, 156.6ms\n",
      "video 1/1 (frame 72/166) D:\\yolo_project\\smooth_traffic.mp4: 640x384 10 cars, 3 buss, 184.0ms\n",
      "video 1/1 (frame 73/166) D:\\yolo_project\\smooth_traffic.mp4: 640x384 10 cars, 2 buss, 179.7ms\n",
      "video 1/1 (frame 74/166) D:\\yolo_project\\smooth_traffic.mp4: 640x384 1 person, 10 cars, 2 buss, 167.3ms\n",
      "video 1/1 (frame 75/166) D:\\yolo_project\\smooth_traffic.mp4: 640x384 1 person, 11 cars, 2 buss, 163.8ms\n",
      "video 1/1 (frame 76/166) D:\\yolo_project\\smooth_traffic.mp4: 640x384 1 person, 9 cars, 4 buss, 163.8ms\n",
      "video 1/1 (frame 77/166) D:\\yolo_project\\smooth_traffic.mp4: 640x384 1 person, 9 cars, 4 buss, 153.1ms\n",
      "video 1/1 (frame 78/166) D:\\yolo_project\\smooth_traffic.mp4: 640x384 1 person, 10 cars, 4 buss, 176.6ms\n",
      "video 1/1 (frame 79/166) D:\\yolo_project\\smooth_traffic.mp4: 640x384 11 cars, 4 buss, 273.1ms\n",
      "video 1/1 (frame 80/166) D:\\yolo_project\\smooth_traffic.mp4: 640x384 1 person, 11 cars, 2 buss, 165.5ms\n",
      "video 1/1 (frame 81/166) D:\\yolo_project\\smooth_traffic.mp4: 640x384 10 cars, 3 buss, 175.6ms\n",
      "video 1/1 (frame 82/166) D:\\yolo_project\\smooth_traffic.mp4: 640x384 11 cars, 2 buss, 1 truck, 173.1ms\n",
      "video 1/1 (frame 83/166) D:\\yolo_project\\smooth_traffic.mp4: 640x384 11 cars, 2 buss, 1 truck, 152.2ms\n",
      "video 1/1 (frame 84/166) D:\\yolo_project\\smooth_traffic.mp4: 640x384 12 cars, 1 bus, 208.4ms\n",
      "video 1/1 (frame 85/166) D:\\yolo_project\\smooth_traffic.mp4: 640x384 11 cars, 1 bus, 172.4ms\n",
      "video 1/1 (frame 86/166) D:\\yolo_project\\smooth_traffic.mp4: 640x384 10 cars, 2 buss, 2 trucks, 159.6ms\n",
      "video 1/1 (frame 87/166) D:\\yolo_project\\smooth_traffic.mp4: 640x384 11 cars, 2 buss, 1 truck, 225.0ms\n",
      "video 1/1 (frame 88/166) D:\\yolo_project\\smooth_traffic.mp4: 640x384 1 person, 11 cars, 2 buss, 1 truck, 201.3ms\n",
      "video 1/1 (frame 89/166) D:\\yolo_project\\smooth_traffic.mp4: 640x384 1 person, 9 cars, 2 buss, 1 truck, 1 chair, 1 dining table, 245.6ms\n",
      "video 1/1 (frame 90/166) D:\\yolo_project\\smooth_traffic.mp4: 640x384 1 person, 9 cars, 2 buss, 212.8ms\n",
      "video 1/1 (frame 91/166) D:\\yolo_project\\smooth_traffic.mp4: 640x384 1 person, 9 cars, 2 buss, 1 chair, 1 dining table, 216.8ms\n",
      "video 1/1 (frame 92/166) D:\\yolo_project\\smooth_traffic.mp4: 640x384 1 person, 9 cars, 2 buss, 1 chair, 215.1ms\n",
      "video 1/1 (frame 93/166) D:\\yolo_project\\smooth_traffic.mp4: 640x384 1 person, 9 cars, 2 buss, 1 chair, 1 dining table, 164.3ms\n",
      "video 1/1 (frame 94/166) D:\\yolo_project\\smooth_traffic.mp4: 640x384 9 cars, 2 buss, 186.8ms\n",
      "video 1/1 (frame 95/166) D:\\yolo_project\\smooth_traffic.mp4: 640x384 9 cars, 2 buss, 198.9ms\n",
      "video 1/1 (frame 96/166) D:\\yolo_project\\smooth_traffic.mp4: 640x384 9 cars, 2 buss, 203.0ms\n",
      "video 1/1 (frame 97/166) D:\\yolo_project\\smooth_traffic.mp4: 640x384 9 cars, 1 bus, 167.7ms\n",
      "video 1/1 (frame 98/166) D:\\yolo_project\\smooth_traffic.mp4: 640x384 9 cars, 1 bus, 165.9ms\n",
      "video 1/1 (frame 99/166) D:\\yolo_project\\smooth_traffic.mp4: 640x384 9 cars, 1 bus, 158.8ms\n",
      "video 1/1 (frame 100/166) D:\\yolo_project\\smooth_traffic.mp4: 640x384 9 cars, 1 bus, 151.9ms\n",
      "video 1/1 (frame 101/166) D:\\yolo_project\\smooth_traffic.mp4: 640x384 9 cars, 1 bus, 167.2ms\n",
      "video 1/1 (frame 102/166) D:\\yolo_project\\smooth_traffic.mp4: 640x384 9 cars, 1 bus, 156.3ms\n",
      "video 1/1 (frame 103/166) D:\\yolo_project\\smooth_traffic.mp4: 640x384 9 cars, 1 bus, 164.3ms\n",
      "video 1/1 (frame 104/166) D:\\yolo_project\\smooth_traffic.mp4: 640x384 9 cars, 1 bus, 157.0ms\n",
      "video 1/1 (frame 105/166) D:\\yolo_project\\smooth_traffic.mp4: 640x384 9 cars, 1 bus, 169.5ms\n",
      "video 1/1 (frame 106/166) D:\\yolo_project\\smooth_traffic.mp4: 640x384 9 cars, 1 bus, 157.6ms\n",
      "video 1/1 (frame 107/166) D:\\yolo_project\\smooth_traffic.mp4: 640x384 10 cars, 2 buss, 159.8ms\n",
      "video 1/1 (frame 108/166) D:\\yolo_project\\smooth_traffic.mp4: 640x384 10 cars, 1 bus, 1 truck, 152.6ms\n",
      "video 1/1 (frame 109/166) D:\\yolo_project\\smooth_traffic.mp4: 640x384 9 cars, 1 bus, 1 truck, 159.1ms\n",
      "video 1/1 (frame 110/166) D:\\yolo_project\\smooth_traffic.mp4: 640x384 9 cars, 1 bus, 1 truck, 156.2ms\n",
      "video 1/1 (frame 111/166) D:\\yolo_project\\smooth_traffic.mp4: 640x384 9 cars, 1 bus, 157.4ms\n",
      "video 1/1 (frame 112/166) D:\\yolo_project\\smooth_traffic.mp4: 640x384 9 cars, 1 bus, 189.7ms\n",
      "video 1/1 (frame 113/166) D:\\yolo_project\\smooth_traffic.mp4: 640x384 9 cars, 1 bus, 1 truck, 158.8ms\n",
      "video 1/1 (frame 114/166) D:\\yolo_project\\smooth_traffic.mp4: 640x384 10 cars, 2 buss, 158.5ms\n",
      "video 1/1 (frame 115/166) D:\\yolo_project\\smooth_traffic.mp4: 640x384 9 cars, 1 bus, 158.9ms\n",
      "video 1/1 (frame 116/166) D:\\yolo_project\\smooth_traffic.mp4: 640x384 8 cars, 2 buss, 160.5ms\n",
      "video 1/1 (frame 117/166) D:\\yolo_project\\smooth_traffic.mp4: 640x384 9 cars, 2 buss, 273.6ms\n",
      "video 1/1 (frame 118/166) D:\\yolo_project\\smooth_traffic.mp4: 640x384 9 cars, 1 bus, 159.0ms\n",
      "video 1/1 (frame 119/166) D:\\yolo_project\\smooth_traffic.mp4: 640x384 9 cars, 1 bus, 162.1ms\n",
      "video 1/1 (frame 120/166) D:\\yolo_project\\smooth_traffic.mp4: 640x384 9 cars, 2 buss, 163.6ms\n",
      "video 1/1 (frame 121/166) D:\\yolo_project\\smooth_traffic.mp4: 640x384 9 cars, 2 buss, 167.5ms\n",
      "video 1/1 (frame 122/166) D:\\yolo_project\\smooth_traffic.mp4: 640x384 9 cars, 1 bus, 156.9ms\n",
      "video 1/1 (frame 123/166) D:\\yolo_project\\smooth_traffic.mp4: 640x384 9 cars, 1 bus, 154.2ms\n",
      "video 1/1 (frame 124/166) D:\\yolo_project\\smooth_traffic.mp4: 640x384 9 cars, 1 bus, 161.7ms\n",
      "video 1/1 (frame 125/166) D:\\yolo_project\\smooth_traffic.mp4: 640x384 9 cars, 1 bus, 156.0ms\n",
      "video 1/1 (frame 126/166) D:\\yolo_project\\smooth_traffic.mp4: 640x384 9 cars, 1 bus, 157.5ms\n",
      "video 1/1 (frame 127/166) D:\\yolo_project\\smooth_traffic.mp4: 640x384 8 cars, 2 buss, 158.2ms\n",
      "video 1/1 (frame 128/166) D:\\yolo_project\\smooth_traffic.mp4: 640x384 9 cars, 3 buss, 164.9ms\n",
      "video 1/1 (frame 129/166) D:\\yolo_project\\smooth_traffic.mp4: 640x384 9 cars, 2 buss, 1 truck, 164.4ms\n",
      "video 1/1 (frame 130/166) D:\\yolo_project\\smooth_traffic.mp4: 640x384 9 cars, 2 buss, 1 truck, 157.2ms\n",
      "video 1/1 (frame 131/166) D:\\yolo_project\\smooth_traffic.mp4: 640x384 9 cars, 2 buss, 156.8ms\n",
      "video 1/1 (frame 132/166) D:\\yolo_project\\smooth_traffic.mp4: 640x384 9 cars, 1 bus, 1 truck, 154.9ms\n",
      "video 1/1 (frame 133/166) D:\\yolo_project\\smooth_traffic.mp4: 640x384 9 cars, 2 buss, 1 truck, 155.8ms\n",
      "video 1/1 (frame 134/166) D:\\yolo_project\\smooth_traffic.mp4: 640x384 9 cars, 2 buss, 156.9ms\n",
      "video 1/1 (frame 135/166) D:\\yolo_project\\smooth_traffic.mp4: 640x384 8 cars, 2 buss, 162.5ms\n",
      "video 1/1 (frame 136/166) D:\\yolo_project\\smooth_traffic.mp4: 640x384 8 cars, 3 buss, 161.8ms\n",
      "video 1/1 (frame 137/166) D:\\yolo_project\\smooth_traffic.mp4: 640x384 1 person, 8 cars, 3 buss, 159.6ms\n",
      "video 1/1 (frame 138/166) D:\\yolo_project\\smooth_traffic.mp4: 640x384 8 cars, 3 buss, 158.3ms\n",
      "video 1/1 (frame 139/166) D:\\yolo_project\\smooth_traffic.mp4: 640x384 8 cars, 3 buss, 212.4ms\n",
      "video 1/1 (frame 140/166) D:\\yolo_project\\smooth_traffic.mp4: 640x384 8 cars, 3 buss, 163.0ms\n",
      "video 1/1 (frame 141/166) D:\\yolo_project\\smooth_traffic.mp4: 640x384 8 cars, 4 buss, 198.7ms\n",
      "video 1/1 (frame 142/166) D:\\yolo_project\\smooth_traffic.mp4: 640x384 8 cars, 4 buss, 160.4ms\n",
      "video 1/1 (frame 143/166) D:\\yolo_project\\smooth_traffic.mp4: 640x384 8 cars, 4 buss, 160.5ms\n",
      "video 1/1 (frame 144/166) D:\\yolo_project\\smooth_traffic.mp4: 640x384 8 cars, 4 buss, 155.8ms\n",
      "video 1/1 (frame 145/166) D:\\yolo_project\\smooth_traffic.mp4: 640x384 8 cars, 2 buss, 189.6ms\n",
      "video 1/1 (frame 146/166) D:\\yolo_project\\smooth_traffic.mp4: 640x384 8 cars, 2 buss, 161.3ms\n",
      "video 1/1 (frame 147/166) D:\\yolo_project\\smooth_traffic.mp4: 640x384 9 cars, 3 buss, 152.9ms\n",
      "video 1/1 (frame 148/166) D:\\yolo_project\\smooth_traffic.mp4: 640x384 8 cars, 3 buss, 169.7ms\n",
      "video 1/1 (frame 149/166) D:\\yolo_project\\smooth_traffic.mp4: 640x384 8 cars, 2 buss, 157.6ms\n",
      "video 1/1 (frame 150/166) D:\\yolo_project\\smooth_traffic.mp4: 640x384 7 cars, 3 buss, 161.8ms\n",
      "video 1/1 (frame 151/166) D:\\yolo_project\\smooth_traffic.mp4: 640x384 8 cars, 2 buss, 157.2ms\n",
      "video 1/1 (frame 152/166) D:\\yolo_project\\smooth_traffic.mp4: 640x384 8 cars, 2 buss, 160.2ms\n",
      "video 1/1 (frame 153/166) D:\\yolo_project\\smooth_traffic.mp4: 640x384 8 cars, 3 buss, 163.0ms\n",
      "video 1/1 (frame 154/166) D:\\yolo_project\\smooth_traffic.mp4: 640x384 8 cars, 3 buss, 169.2ms\n",
      "video 1/1 (frame 155/166) D:\\yolo_project\\smooth_traffic.mp4: 640x384 8 cars, 3 buss, 179.9ms\n",
      "video 1/1 (frame 156/166) D:\\yolo_project\\smooth_traffic.mp4: 640x384 7 cars, 3 buss, 261.3ms\n",
      "video 1/1 (frame 157/166) D:\\yolo_project\\smooth_traffic.mp4: 640x384 8 cars, 2 buss, 239.2ms\n",
      "video 1/1 (frame 158/166) D:\\yolo_project\\smooth_traffic.mp4: 640x384 8 cars, 2 buss, 210.1ms\n",
      "video 1/1 (frame 159/166) D:\\yolo_project\\smooth_traffic.mp4: 640x384 8 cars, 2 buss, 214.2ms\n",
      "video 1/1 (frame 160/166) D:\\yolo_project\\smooth_traffic.mp4: 640x384 7 cars, 2 buss, 1 chair, 1 dining table, 282.7ms\n",
      "video 1/1 (frame 161/166) D:\\yolo_project\\smooth_traffic.mp4: 640x384 7 cars, 1 bus, 2 chairs, 1 dining table, 218.6ms\n",
      "video 1/1 (frame 162/166) D:\\yolo_project\\smooth_traffic.mp4: 640x384 8 cars, 1 bus, 2 chairs, 1 dining table, 199.1ms\n",
      "video 1/1 (frame 163/166) D:\\yolo_project\\smooth_traffic.mp4: 640x384 7 cars, 1 bus, 3 chairs, 1 dining table, 213.8ms\n",
      "video 1/1 (frame 164/166) D:\\yolo_project\\smooth_traffic.mp4: 640x384 8 cars, 1 bus, 1 chair, 1 dining table, 225.5ms\n",
      "video 1/1 (frame 165/166) D:\\yolo_project\\smooth_traffic.mp4: 640x384 8 cars, 1 bus, 1 chair, 203.4ms\n",
      "video 1/1 (frame 166/166) D:\\yolo_project\\smooth_traffic.mp4: 640x384 6 cars, 1 bus, 1 truck, 2 chairs, 205.1ms\n",
      "Speed: 3.0ms preprocess, 178.9ms inference, 2.3ms postprocess per image at shape (1, 3, 640, 384)\n"
     ]
    }
   ],
   "source": [
    "results_video_1 = model.predict(source=\"smooth_traffic.mp4\")  "
   ]
  },
  {
   "cell_type": "code",
   "execution_count": 19,
   "id": "36215b05-a61e-40cc-b74b-ede32291c0ae",
   "metadata": {},
   "outputs": [
    {
     "name": "stdout",
     "output_type": "stream",
     "text": [
      "Detected car with confidence 0.78\n",
      "Detected car with confidence 0.68\n",
      "Detected car with confidence 0.66\n",
      "Detected car with confidence 0.64\n",
      "Detected truck with confidence 0.63\n",
      "Detected car with confidence 0.52\n",
      "Detected bus with confidence 0.50\n",
      "Detected car with confidence 0.50\n",
      "Detected car with confidence 0.47\n",
      "Detected car with confidence 0.38\n",
      "Detected car with confidence 0.27\n"
     ]
    }
   ],
   "source": [
    "for box in results_video_1[0].boxes:\n",
    "    cls_id = int(box.cls) # Class index\n",
    "    conf = float(box.conf) # Confidence\n",
    "    label = results_video_1[0].names[cls_id]# Class name\n",
    "    print(f\"Detected {label} with confidence {conf:.2f}\")\n"
   ]
  },
  {
   "cell_type": "markdown",
   "id": "11e2b0fd-3df4-4527-9a06-c30c446d2e1a",
   "metadata": {},
   "source": [
    "# Training on a Custom Dataset"
   ]
  },
  {
   "cell_type": "code",
   "execution_count": null,
   "id": "80eeb606-e472-4564-b99c-38e4a07d7246",
   "metadata": {},
   "outputs": [
    {
     "name": "stdout",
     "output_type": "stream",
     "text": [
      "Ultralytics 8.3.147  Python-3.10.0 torch-2.7.0+cpu CPU (AMD FX(tm)-8350 Eight-Core Processor)\n",
      "\u001b[34m\u001b[1mengine\\trainer: \u001b[0magnostic_nms=False, amp=True, augment=False, auto_augment=randaugment, batch=8, bgr=0.0, box=7.5, cache=False, cfg=None, classes=None, close_mosaic=10, cls=0.5, conf=None, copy_paste=0.0, copy_paste_mode=flip, cos_lr=False, cutmix=0.0, data=D:/yolo_project/firearm_detection_yolov8/data.yaml, degrees=0.0, deterministic=True, device=cpu, dfl=1.5, dnn=False, dropout=0.0, dynamic=False, embed=None, epochs=50, erasing=0.4, exist_ok=False, fliplr=0.5, flipud=0.0, format=torchscript, fraction=1.0, freeze=None, half=False, hsv_h=0.015, hsv_s=0.7, hsv_v=0.4, imgsz=640, int8=False, iou=0.7, keras=False, kobj=1.0, line_width=None, lr0=0.01, lrf=0.01, mask_ratio=4, max_det=300, mixup=0.0, mode=train, model=yolov8n.pt, momentum=0.937, mosaic=1.0, multi_scale=False, name=train3, nbs=64, nms=False, opset=None, optimize=False, optimizer=auto, overlap_mask=True, patience=100, perspective=0.0, plots=True, pose=12.0, pretrained=True, profile=False, project=None, rect=False, resume=False, retina_masks=False, save=True, save_conf=False, save_crop=False, save_dir=runs\\detect\\train3, save_frames=False, save_json=False, save_period=-1, save_txt=False, scale=0.5, seed=0, shear=0.0, show=False, show_boxes=True, show_conf=True, show_labels=True, simplify=True, single_cls=False, source=None, split=val, stream_buffer=False, task=detect, time=None, tracker=botsort.yaml, translate=0.1, val=True, verbose=True, vid_stride=1, visualize=False, warmup_bias_lr=0.1, warmup_epochs=3.0, warmup_momentum=0.8, weight_decay=0.0005, workers=8, workspace=None\n",
      "Downloading https://ultralytics.com/assets/Arial.ttf to 'C:\\Users\\csume\\AppData\\Roaming\\Ultralytics\\Arial.ttf'...\n"
     ]
    },
    {
     "name": "stderr",
     "output_type": "stream",
     "text": [
      "100%|██████████| 755k/755k [00:00<00:00, 20.4MB/s]"
     ]
    },
    {
     "name": "stdout",
     "output_type": "stream",
     "text": [
      "Overriding model.yaml nc=80 with nc=3\n",
      "\n",
      "                   from  n    params  module                                       arguments                     \n",
      "  0                  -1  1       464  ultralytics.nn.modules.conv.Conv             [3, 16, 3, 2]                 \n",
      "  1                  -1  1      4672  ultralytics.nn.modules.conv.Conv             [16, 32, 3, 2]                \n",
      "  2                  -1  1      7360  ultralytics.nn.modules.block.C2f             [32, 32, 1, True]             \n",
      "  3                  -1  1     18560  ultralytics.nn.modules.conv.Conv             [32, 64, 3, 2]                \n",
      "  4                  -1  2     49664  ultralytics.nn.modules.block.C2f             [64, 64, 2, True]             \n",
      "  5                  -1  1     73984  ultralytics.nn.modules.conv.Conv             [64, 128, 3, 2]               \n",
      "  6                  -1  2    197632  ultralytics.nn.modules.block.C2f             [128, 128, 2, True]           \n",
      "  7                  -1  1    295424  ultralytics.nn.modules.conv.Conv             [128, 256, 3, 2]              \n",
      "  8                  -1  1    460288  ultralytics.nn.modules.block.C2f             [256, 256, 1, True]           \n",
      "  9                  -1  1    164608  ultralytics.nn.modules.block.SPPF            [256, 256, 5]                 \n",
      " 10                  -1  1         0  torch.nn.modules.upsampling.Upsample         [None, 2, 'nearest']          \n",
      " 11             [-1, 6]  1         0  ultralytics.nn.modules.conv.Concat           [1]                           \n",
      " 12                  -1  1    148224  ultralytics.nn.modules.block.C2f             [384, 128, 1]                 \n",
      " 13                  -1  1         0  torch.nn.modules.upsampling.Upsample         [None, 2, 'nearest']          \n",
      " 14             [-1, 4]  1         0  ultralytics.nn.modules.conv.Concat           [1]                           \n",
      " 15                  -1  1     37248  ultralytics.nn.modules.block.C2f             [192, 64, 1]                  \n",
      " 16                  -1  1     36992  ultralytics.nn.modules.conv.Conv             [64, 64, 3, 2]                \n",
      " 17            [-1, 12]  1         0  ultralytics.nn.modules.conv.Concat           [1]                           \n",
      " 18                  -1  1    123648  ultralytics.nn.modules.block.C2f             [192, 128, 1]                 \n",
      " 19                  -1  1    147712  ultralytics.nn.modules.conv.Conv             [128, 128, 3, 2]              \n",
      " 20             [-1, 9]  1         0  ultralytics.nn.modules.conv.Concat           [1]                           \n",
      " 21                  -1  1    493056  ultralytics.nn.modules.block.C2f             [384, 256, 1]                 \n"
     ]
    },
    {
     "name": "stderr",
     "output_type": "stream",
     "text": [
      "\n"
     ]
    },
    {
     "name": "stdout",
     "output_type": "stream",
     "text": [
      " 22        [15, 18, 21]  1    751897  ultralytics.nn.modules.head.Detect           [3, [64, 128, 256]]           \n",
      "Model summary: 129 layers, 3,011,433 parameters, 3,011,417 gradients, 8.2 GFLOPs\n",
      "\n",
      "Transferred 319/355 items from pretrained weights\n",
      "Freezing layer 'model.22.dfl.conv.weight'\n",
      "\u001b[34m\u001b[1mtrain: \u001b[0mFast image access  (ping: 0.30.1 ms, read: 5.22.0 MB/s, size: 65.8 KB)\n"
     ]
    },
    {
     "name": "stderr",
     "output_type": "stream",
     "text": [
      "\u001b[34m\u001b[1mtrain: \u001b[0mScanning D:\\yolo_project\\firearm_detection_yolov8\\train\\labels... 1789 images, 0 backgrounds, 0 corrupt: 100%|██████████| 1789/1789 [00:07<00:00, 229.15it/s]\n"
     ]
    },
    {
     "name": "stdout",
     "output_type": "stream",
     "text": [
      "\u001b[34m\u001b[1mtrain: \u001b[0mNew cache created: D:\\yolo_project\\firearm_detection_yolov8\\train\\labels.cache\n",
      "\u001b[34m\u001b[1mval: \u001b[0mFast image access  (ping: 0.20.0 ms, read: 3.71.5 MB/s, size: 42.2 KB)\n"
     ]
    },
    {
     "name": "stderr",
     "output_type": "stream",
     "text": [
      "c:\\Users\\csume\\AppData\\Local\\Programs\\Python\\Python310\\lib\\site-packages\\torch\\utils\\data\\dataloader.py:665: UserWarning: 'pin_memory' argument is set as true but no accelerator is found, then device pinned memory won't be used.\n",
      "  warnings.warn(warn_msg)\n",
      "\u001b[34m\u001b[1mval: \u001b[0mScanning D:\\yolo_project\\firearm_detection_yolov8\\valid\\labels... 510 images, 0 backgrounds, 0 corrupt: 100%|██████████| 510/510 [00:02<00:00, 247.57it/s]\n"
     ]
    },
    {
     "name": "stdout",
     "output_type": "stream",
     "text": [
      "\u001b[34m\u001b[1mval: \u001b[0mNew cache created: D:\\yolo_project\\firearm_detection_yolov8\\valid\\labels.cache\n"
     ]
    },
    {
     "name": "stderr",
     "output_type": "stream",
     "text": [
      "c:\\Users\\csume\\AppData\\Local\\Programs\\Python\\Python310\\lib\\site-packages\\torch\\utils\\data\\dataloader.py:665: UserWarning: 'pin_memory' argument is set as true but no accelerator is found, then device pinned memory won't be used.\n",
      "  warnings.warn(warn_msg)\n"
     ]
    },
    {
     "name": "stdout",
     "output_type": "stream",
     "text": [
      "Plotting labels to runs\\detect\\train3\\labels.jpg... \n",
      "\u001b[34m\u001b[1moptimizer:\u001b[0m 'optimizer=auto' found, ignoring 'lr0=0.01' and 'momentum=0.937' and determining best 'optimizer', 'lr0' and 'momentum' automatically... \n",
      "\u001b[34m\u001b[1moptimizer:\u001b[0m AdamW(lr=0.001429, momentum=0.9) with parameter groups 57 weight(decay=0.0), 64 weight(decay=0.0005), 63 bias(decay=0.0)\n",
      "Image sizes 640 train, 640 val\n",
      "Using 0 dataloader workers\n",
      "Logging results to \u001b[1mruns\\detect\\train3\u001b[0m\n",
      "Starting training for 50 epochs...\n",
      "\n",
      "      Epoch    GPU_mem   box_loss   cls_loss   dfl_loss  Instances       Size\n"
     ]
    },
    {
     "name": "stderr",
     "output_type": "stream",
     "text": [
      "       1/50         0G      1.225       2.93      1.376         10        640: 100%|██████████| 224/224 [30:00<00:00,  8.04s/it]\n",
      "                 Class     Images  Instances      Box(P          R      mAP50  mAP50-95): 100%|██████████| 32/32 [02:38<00:00,  4.94s/it]\n"
     ]
    },
    {
     "name": "stdout",
     "output_type": "stream",
     "text": [
      "                   all        510        510      0.673      0.541      0.592      0.375\n",
      "\n",
      "      Epoch    GPU_mem   box_loss   cls_loss   dfl_loss  Instances       Size\n"
     ]
    },
    {
     "name": "stderr",
     "output_type": "stream",
     "text": [
      "       2/50         0G      1.327      2.424      1.458         11        640: 100%|██████████| 224/224 [29:19<00:00,  7.86s/it]\n",
      "                 Class     Images  Instances      Box(P          R      mAP50  mAP50-95): 100%|██████████| 32/32 [02:29<00:00,  4.66s/it]\n"
     ]
    },
    {
     "name": "stdout",
     "output_type": "stream",
     "text": [
      "                   all        510        510      0.467      0.486      0.454      0.262\n",
      "\n",
      "      Epoch    GPU_mem   box_loss   cls_loss   dfl_loss  Instances       Size\n"
     ]
    },
    {
     "name": "stderr",
     "output_type": "stream",
     "text": [
      "       3/50         0G       1.38      2.142      1.485         10        640: 100%|██████████| 224/224 [29:42<00:00,  7.96s/it]\n",
      "                 Class     Images  Instances      Box(P          R      mAP50  mAP50-95): 100%|██████████| 32/32 [02:30<00:00,  4.70s/it]\n"
     ]
    },
    {
     "name": "stdout",
     "output_type": "stream",
     "text": [
      "                   all        510        510      0.482       0.49      0.457      0.259\n",
      "\n",
      "      Epoch    GPU_mem   box_loss   cls_loss   dfl_loss  Instances       Size\n"
     ]
    },
    {
     "name": "stderr",
     "output_type": "stream",
     "text": [
      "       4/50         0G      1.414      2.024      1.512         12        640: 100%|██████████| 224/224 [29:18<00:00,  7.85s/it]\n",
      "                 Class     Images  Instances      Box(P          R      mAP50  mAP50-95): 100%|██████████| 32/32 [02:24<00:00,  4.53s/it]"
     ]
    },
    {
     "name": "stdout",
     "output_type": "stream",
     "text": [
      "                   all        510        510      0.643      0.518      0.602      0.354\n"
     ]
    },
    {
     "name": "stderr",
     "output_type": "stream",
     "text": [
      "\n"
     ]
    },
    {
     "name": "stdout",
     "output_type": "stream",
     "text": [
      "\n",
      "      Epoch    GPU_mem   box_loss   cls_loss   dfl_loss  Instances       Size\n"
     ]
    },
    {
     "name": "stderr",
     "output_type": "stream",
     "text": [
      "       5/50         0G      1.353      1.813      1.501         11        640: 100%|██████████| 224/224 [28:57<00:00,  7.75s/it]\n",
      "                 Class     Images  Instances      Box(P          R      mAP50  mAP50-95): 100%|██████████| 32/32 [02:52<00:00,  5.40s/it]"
     ]
    },
    {
     "name": "stdout",
     "output_type": "stream",
     "text": [
      "                   all        510        510      0.593      0.613      0.612      0.389\n"
     ]
    },
    {
     "name": "stderr",
     "output_type": "stream",
     "text": [
      "\n"
     ]
    },
    {
     "name": "stdout",
     "output_type": "stream",
     "text": [
      "\n",
      "      Epoch    GPU_mem   box_loss   cls_loss   dfl_loss  Instances       Size\n"
     ]
    },
    {
     "name": "stderr",
     "output_type": "stream",
     "text": [
      "       6/50         0G      1.288      1.669      1.415          7        640: 100%|██████████| 224/224 [32:00<00:00,  8.58s/it]\n",
      "                 Class     Images  Instances      Box(P          R      mAP50  mAP50-95): 100%|██████████| 32/32 [02:30<00:00,  4.70s/it]"
     ]
    },
    {
     "name": "stdout",
     "output_type": "stream",
     "text": [
      "                   all        510        510       0.69      0.639      0.691      0.396\n"
     ]
    },
    {
     "name": "stderr",
     "output_type": "stream",
     "text": [
      "\n"
     ]
    },
    {
     "name": "stdout",
     "output_type": "stream",
     "text": [
      "\n",
      "      Epoch    GPU_mem   box_loss   cls_loss   dfl_loss  Instances       Size\n"
     ]
    },
    {
     "name": "stderr",
     "output_type": "stream",
     "text": [
      "       7/50         0G      1.265      1.592      1.411          6        640: 100%|██████████| 224/224 [30:24<00:00,  8.14s/it]\n",
      "                 Class     Images  Instances      Box(P          R      mAP50  mAP50-95): 100%|██████████| 32/32 [02:39<00:00,  4.99s/it]"
     ]
    },
    {
     "name": "stdout",
     "output_type": "stream",
     "text": [
      "                   all        510        510      0.678      0.658      0.701      0.462\n"
     ]
    },
    {
     "name": "stderr",
     "output_type": "stream",
     "text": [
      "\n"
     ]
    },
    {
     "name": "stdout",
     "output_type": "stream",
     "text": [
      "\n",
      "      Epoch    GPU_mem   box_loss   cls_loss   dfl_loss  Instances       Size\n"
     ]
    },
    {
     "name": "stderr",
     "output_type": "stream",
     "text": [
      "       8/50         0G      1.199       1.49      1.372          5        640: 100%|██████████| 224/224 [30:53<00:00,  8.28s/it]\n",
      "                 Class     Images  Instances      Box(P          R      mAP50  mAP50-95): 100%|██████████| 32/32 [02:17<00:00,  4.31s/it]"
     ]
    },
    {
     "name": "stdout",
     "output_type": "stream",
     "text": [
      "                   all        510        510      0.821      0.657      0.779      0.525\n"
     ]
    },
    {
     "name": "stderr",
     "output_type": "stream",
     "text": [
      "\n"
     ]
    },
    {
     "name": "stdout",
     "output_type": "stream",
     "text": [
      "\n",
      "      Epoch    GPU_mem   box_loss   cls_loss   dfl_loss  Instances       Size\n"
     ]
    },
    {
     "name": "stderr",
     "output_type": "stream",
     "text": [
      "       9/50         0G      1.159      1.404      1.339          3        640: 100%|██████████| 224/224 [27:33<00:00,  7.38s/it]\n",
      "                 Class     Images  Instances      Box(P          R      mAP50  mAP50-95): 100%|██████████| 32/32 [02:31<00:00,  4.73s/it]"
     ]
    },
    {
     "name": "stdout",
     "output_type": "stream",
     "text": [
      "                   all        510        510      0.865      0.724      0.828      0.572\n"
     ]
    },
    {
     "name": "stderr",
     "output_type": "stream",
     "text": [
      "\n"
     ]
    },
    {
     "name": "stdout",
     "output_type": "stream",
     "text": [
      "\n",
      "      Epoch    GPU_mem   box_loss   cls_loss   dfl_loss  Instances       Size\n"
     ]
    },
    {
     "name": "stderr",
     "output_type": "stream",
     "text": [
      "      10/50         0G      1.139      1.377      1.325         13        640: 100%|██████████| 224/224 [31:52<00:00,  8.54s/it]\n",
      "                 Class     Images  Instances      Box(P          R      mAP50  mAP50-95): 100%|██████████| 32/32 [02:42<00:00,  5.06s/it]"
     ]
    },
    {
     "name": "stdout",
     "output_type": "stream",
     "text": [
      "                   all        510        510      0.793      0.713      0.792      0.554\n"
     ]
    },
    {
     "name": "stderr",
     "output_type": "stream",
     "text": [
      "\n"
     ]
    },
    {
     "name": "stdout",
     "output_type": "stream",
     "text": [
      "\n",
      "      Epoch    GPU_mem   box_loss   cls_loss   dfl_loss  Instances       Size\n"
     ]
    },
    {
     "name": "stderr",
     "output_type": "stream",
     "text": [
      "      11/50         0G      1.115      1.307      1.304          8        640: 100%|██████████| 224/224 [30:06<00:00,  8.06s/it]\n",
      "                 Class     Images  Instances      Box(P          R      mAP50  mAP50-95): 100%|██████████| 32/32 [02:20<00:00,  4.40s/it]"
     ]
    },
    {
     "name": "stdout",
     "output_type": "stream",
     "text": [
      "                   all        510        510       0.85      0.791      0.856      0.603\n"
     ]
    },
    {
     "name": "stderr",
     "output_type": "stream",
     "text": [
      "\n"
     ]
    },
    {
     "name": "stdout",
     "output_type": "stream",
     "text": [
      "\n",
      "      Epoch    GPU_mem   box_loss   cls_loss   dfl_loss  Instances       Size\n"
     ]
    },
    {
     "name": "stderr",
     "output_type": "stream",
     "text": [
      "      12/50         0G      1.109      1.277      1.311          8        640: 100%|██████████| 224/224 [31:24<00:00,  8.41s/it]\n",
      "                 Class     Images  Instances      Box(P          R      mAP50  mAP50-95): 100%|██████████| 32/32 [02:33<00:00,  4.80s/it]"
     ]
    },
    {
     "name": "stdout",
     "output_type": "stream",
     "text": [
      "                   all        510        510      0.881      0.772      0.878      0.621\n"
     ]
    },
    {
     "name": "stderr",
     "output_type": "stream",
     "text": [
      "\n"
     ]
    },
    {
     "name": "stdout",
     "output_type": "stream",
     "text": [
      "\n",
      "      Epoch    GPU_mem   box_loss   cls_loss   dfl_loss  Instances       Size\n"
     ]
    },
    {
     "name": "stderr",
     "output_type": "stream",
     "text": [
      "      13/50         0G      1.079      1.191      1.275         10        640: 100%|██████████| 224/224 [29:57<00:00,  8.03s/it]\n",
      "                 Class     Images  Instances      Box(P          R      mAP50  mAP50-95): 100%|██████████| 32/32 [02:23<00:00,  4.47s/it]"
     ]
    },
    {
     "name": "stdout",
     "output_type": "stream",
     "text": [
      "                   all        510        510      0.853      0.813      0.876      0.621\n"
     ]
    },
    {
     "name": "stderr",
     "output_type": "stream",
     "text": [
      "\n"
     ]
    },
    {
     "name": "stdout",
     "output_type": "stream",
     "text": [
      "\n",
      "      Epoch    GPU_mem   box_loss   cls_loss   dfl_loss  Instances       Size\n"
     ]
    },
    {
     "name": "stderr",
     "output_type": "stream",
     "text": [
      "      14/50         0G      1.043      1.159      1.255          6        640: 100%|██████████| 224/224 [29:38<00:00,  7.94s/it]\n",
      "                 Class     Images  Instances      Box(P          R      mAP50  mAP50-95): 100%|██████████| 32/32 [02:27<00:00,  4.62s/it]"
     ]
    },
    {
     "name": "stdout",
     "output_type": "stream",
     "text": [
      "                   all        510        510      0.859      0.812      0.895      0.644\n"
     ]
    },
    {
     "name": "stderr",
     "output_type": "stream",
     "text": [
      "\n"
     ]
    },
    {
     "name": "stdout",
     "output_type": "stream",
     "text": [
      "\n",
      "      Epoch    GPU_mem   box_loss   cls_loss   dfl_loss  Instances       Size\n"
     ]
    },
    {
     "name": "stderr",
     "output_type": "stream",
     "text": [
      "      15/50         0G      1.013      1.106      1.234          9        640: 100%|██████████| 224/224 [27:54<00:00,  7.48s/it]\n",
      "                 Class     Images  Instances      Box(P          R      mAP50  mAP50-95): 100%|██████████| 32/32 [02:18<00:00,  4.33s/it]"
     ]
    },
    {
     "name": "stdout",
     "output_type": "stream",
     "text": [
      "                   all        510        510      0.904      0.813      0.894      0.656\n"
     ]
    },
    {
     "name": "stderr",
     "output_type": "stream",
     "text": [
      "\n"
     ]
    },
    {
     "name": "stdout",
     "output_type": "stream",
     "text": [
      "\n",
      "      Epoch    GPU_mem   box_loss   cls_loss   dfl_loss  Instances       Size\n"
     ]
    },
    {
     "name": "stderr",
     "output_type": "stream",
     "text": [
      "      16/50         0G      1.015       1.11       1.23         11        640: 100%|██████████| 224/224 [26:56<00:00,  7.21s/it]\n",
      "                 Class     Images  Instances      Box(P          R      mAP50  mAP50-95): 100%|██████████| 32/32 [02:21<00:00,  4.43s/it]"
     ]
    },
    {
     "name": "stdout",
     "output_type": "stream",
     "text": [
      "                   all        510        510      0.922      0.833      0.897      0.662\n"
     ]
    },
    {
     "name": "stderr",
     "output_type": "stream",
     "text": [
      "\n"
     ]
    },
    {
     "name": "stdout",
     "output_type": "stream",
     "text": [
      "\n",
      "      Epoch    GPU_mem   box_loss   cls_loss   dfl_loss  Instances       Size\n"
     ]
    },
    {
     "name": "stderr",
     "output_type": "stream",
     "text": [
      "      17/50         0G     0.9873      1.064      1.229         10        640: 100%|██████████| 224/224 [26:44<00:00,  7.16s/it]\n",
      "                 Class     Images  Instances      Box(P          R      mAP50  mAP50-95): 100%|██████████| 32/32 [02:24<00:00,  4.50s/it]"
     ]
    },
    {
     "name": "stdout",
     "output_type": "stream",
     "text": [
      "                   all        510        510      0.874      0.823      0.899      0.664\n"
     ]
    },
    {
     "name": "stderr",
     "output_type": "stream",
     "text": [
      "\n"
     ]
    },
    {
     "name": "stdout",
     "output_type": "stream",
     "text": [
      "\n",
      "      Epoch    GPU_mem   box_loss   cls_loss   dfl_loss  Instances       Size\n"
     ]
    },
    {
     "name": "stderr",
     "output_type": "stream",
     "text": [
      "      18/50         0G      1.005      1.056      1.233          7        640: 100%|██████████| 224/224 [26:25<00:00,  7.08s/it]\n",
      "                 Class     Images  Instances      Box(P          R      mAP50  mAP50-95): 100%|██████████| 32/32 [02:18<00:00,  4.32s/it]"
     ]
    },
    {
     "name": "stdout",
     "output_type": "stream",
     "text": [
      "                   all        510        510      0.921      0.839      0.923      0.688\n"
     ]
    },
    {
     "name": "stderr",
     "output_type": "stream",
     "text": [
      "\n"
     ]
    },
    {
     "name": "stdout",
     "output_type": "stream",
     "text": [
      "\n",
      "      Epoch    GPU_mem   box_loss   cls_loss   dfl_loss  Instances       Size\n"
     ]
    },
    {
     "name": "stderr",
     "output_type": "stream",
     "text": [
      "      19/50         0G     0.9604      1.018      1.211          6        640: 100%|██████████| 224/224 [27:38<00:00,  7.40s/it]\n",
      "                 Class     Images  Instances      Box(P          R      mAP50  mAP50-95): 100%|██████████| 32/32 [02:21<00:00,  4.43s/it]"
     ]
    },
    {
     "name": "stdout",
     "output_type": "stream",
     "text": [
      "                   all        510        510      0.868       0.85      0.902      0.685\n"
     ]
    },
    {
     "name": "stderr",
     "output_type": "stream",
     "text": [
      "\n"
     ]
    },
    {
     "name": "stdout",
     "output_type": "stream",
     "text": [
      "\n",
      "      Epoch    GPU_mem   box_loss   cls_loss   dfl_loss  Instances       Size\n"
     ]
    },
    {
     "name": "stderr",
     "output_type": "stream",
     "text": [
      "      20/50         0G     0.9464     0.9568      1.201          5        640: 100%|██████████| 224/224 [26:28<00:00,  7.09s/it]\n",
      "                 Class     Images  Instances      Box(P          R      mAP50  mAP50-95): 100%|██████████| 32/32 [02:24<00:00,  4.52s/it]"
     ]
    },
    {
     "name": "stdout",
     "output_type": "stream",
     "text": [
      "                   all        510        510      0.881      0.881      0.931      0.699\n"
     ]
    },
    {
     "name": "stderr",
     "output_type": "stream",
     "text": [
      "\n"
     ]
    },
    {
     "name": "stdout",
     "output_type": "stream",
     "text": [
      "\n",
      "      Epoch    GPU_mem   box_loss   cls_loss   dfl_loss  Instances       Size\n"
     ]
    },
    {
     "name": "stderr",
     "output_type": "stream",
     "text": [
      "      21/50         0G     0.9045     0.9311      1.162          8        640: 100%|██████████| 224/224 [26:38<00:00,  7.14s/it]\n",
      "                 Class     Images  Instances      Box(P          R      mAP50  mAP50-95): 100%|██████████| 32/32 [02:21<00:00,  4.41s/it]"
     ]
    },
    {
     "name": "stdout",
     "output_type": "stream",
     "text": [
      "                   all        510        510      0.919      0.845      0.924      0.714\n"
     ]
    },
    {
     "name": "stderr",
     "output_type": "stream",
     "text": [
      "\n"
     ]
    },
    {
     "name": "stdout",
     "output_type": "stream",
     "text": [
      "\n",
      "      Epoch    GPU_mem   box_loss   cls_loss   dfl_loss  Instances       Size\n"
     ]
    },
    {
     "name": "stderr",
     "output_type": "stream",
     "text": [
      "      22/50         0G     0.9048      0.944      1.169          9        640: 100%|██████████| 224/224 [26:21<00:00,  7.06s/it]\n",
      "                 Class     Images  Instances      Box(P          R      mAP50  mAP50-95): 100%|██████████| 32/32 [02:19<00:00,  4.36s/it]"
     ]
    },
    {
     "name": "stdout",
     "output_type": "stream",
     "text": [
      "                   all        510        510      0.913       0.86      0.933      0.724\n"
     ]
    },
    {
     "name": "stderr",
     "output_type": "stream",
     "text": [
      "\n"
     ]
    },
    {
     "name": "stdout",
     "output_type": "stream",
     "text": [
      "\n",
      "      Epoch    GPU_mem   box_loss   cls_loss   dfl_loss  Instances       Size\n"
     ]
    },
    {
     "name": "stderr",
     "output_type": "stream",
     "text": [
      "      23/50         0G       0.92     0.9058      1.181         11        640: 100%|██████████| 224/224 [26:26<00:00,  7.08s/it]\n",
      "                 Class     Images  Instances      Box(P          R      mAP50  mAP50-95): 100%|██████████| 32/32 [02:18<00:00,  4.33s/it]"
     ]
    },
    {
     "name": "stdout",
     "output_type": "stream",
     "text": [
      "                   all        510        510      0.888      0.884      0.927      0.712\n"
     ]
    },
    {
     "name": "stderr",
     "output_type": "stream",
     "text": [
      "\n"
     ]
    },
    {
     "name": "stdout",
     "output_type": "stream",
     "text": [
      "\n",
      "      Epoch    GPU_mem   box_loss   cls_loss   dfl_loss  Instances       Size\n"
     ]
    },
    {
     "name": "stderr",
     "output_type": "stream",
     "text": [
      "      24/50         0G     0.8879      0.883      1.154          9        640: 100%|██████████| 224/224 [26:19<00:00,  7.05s/it]\n",
      "                 Class     Images  Instances      Box(P          R      mAP50  mAP50-95): 100%|██████████| 32/32 [02:21<00:00,  4.42s/it]"
     ]
    },
    {
     "name": "stdout",
     "output_type": "stream",
     "text": [
      "                   all        510        510      0.892      0.879      0.942      0.731\n"
     ]
    },
    {
     "name": "stderr",
     "output_type": "stream",
     "text": [
      "\n"
     ]
    },
    {
     "name": "stdout",
     "output_type": "stream",
     "text": [
      "\n",
      "      Epoch    GPU_mem   box_loss   cls_loss   dfl_loss  Instances       Size\n"
     ]
    },
    {
     "name": "stderr",
     "output_type": "stream",
     "text": [
      "      25/50         0G     0.8781     0.8846      1.158          8        640: 100%|██████████| 224/224 [26:17<00:00,  7.04s/it]\n",
      "                 Class     Images  Instances      Box(P          R      mAP50  mAP50-95): 100%|██████████| 32/32 [02:22<00:00,  4.45s/it]"
     ]
    },
    {
     "name": "stdout",
     "output_type": "stream",
     "text": [
      "                   all        510        510      0.935      0.873      0.932      0.735\n"
     ]
    },
    {
     "name": "stderr",
     "output_type": "stream",
     "text": [
      "\n"
     ]
    },
    {
     "name": "stdout",
     "output_type": "stream",
     "text": [
      "\n",
      "      Epoch    GPU_mem   box_loss   cls_loss   dfl_loss  Instances       Size\n"
     ]
    },
    {
     "name": "stderr",
     "output_type": "stream",
     "text": [
      "      26/50         0G     0.8732     0.8522      1.157         10        640: 100%|██████████| 224/224 [26:38<00:00,  7.14s/it]\n",
      "                 Class     Images  Instances      Box(P          R      mAP50  mAP50-95): 100%|██████████| 32/32 [02:20<00:00,  4.39s/it]"
     ]
    },
    {
     "name": "stdout",
     "output_type": "stream",
     "text": [
      "                   all        510        510      0.914      0.889      0.939      0.742\n"
     ]
    },
    {
     "name": "stderr",
     "output_type": "stream",
     "text": [
      "\n"
     ]
    },
    {
     "name": "stdout",
     "output_type": "stream",
     "text": [
      "\n",
      "      Epoch    GPU_mem   box_loss   cls_loss   dfl_loss  Instances       Size\n"
     ]
    },
    {
     "name": "stderr",
     "output_type": "stream",
     "text": [
      "      27/50         0G     0.8781      0.868       1.16          7        640: 100%|██████████| 224/224 [26:46<00:00,  7.17s/it]\n",
      "                 Class     Images  Instances      Box(P          R      mAP50  mAP50-95): 100%|██████████| 32/32 [02:21<00:00,  4.41s/it]"
     ]
    },
    {
     "name": "stdout",
     "output_type": "stream",
     "text": [
      "                   all        510        510       0.92       0.88      0.942      0.726\n"
     ]
    },
    {
     "name": "stderr",
     "output_type": "stream",
     "text": [
      "\n"
     ]
    },
    {
     "name": "stdout",
     "output_type": "stream",
     "text": [
      "\n",
      "      Epoch    GPU_mem   box_loss   cls_loss   dfl_loss  Instances       Size\n"
     ]
    },
    {
     "name": "stderr",
     "output_type": "stream",
     "text": [
      "      28/50         0G     0.8612     0.8335       1.15         13        640: 100%|██████████| 224/224 [26:44<00:00,  7.16s/it]\n",
      "                 Class     Images  Instances      Box(P          R      mAP50  mAP50-95): 100%|██████████| 32/32 [02:25<00:00,  4.55s/it]"
     ]
    },
    {
     "name": "stdout",
     "output_type": "stream",
     "text": [
      "                   all        510        510      0.909      0.917      0.946      0.747\n"
     ]
    },
    {
     "name": "stderr",
     "output_type": "stream",
     "text": [
      "\n"
     ]
    },
    {
     "name": "stdout",
     "output_type": "stream",
     "text": [
      "\n",
      "      Epoch    GPU_mem   box_loss   cls_loss   dfl_loss  Instances       Size\n"
     ]
    },
    {
     "name": "stderr",
     "output_type": "stream",
     "text": [
      "      29/50         0G     0.8285     0.8114      1.128          7        640: 100%|██████████| 224/224 [26:23<00:00,  7.07s/it]\n",
      "                 Class     Images  Instances      Box(P          R      mAP50  mAP50-95): 100%|██████████| 32/32 [02:18<00:00,  4.32s/it]"
     ]
    },
    {
     "name": "stdout",
     "output_type": "stream",
     "text": [
      "                   all        510        510      0.929      0.899       0.94      0.733\n"
     ]
    },
    {
     "name": "stderr",
     "output_type": "stream",
     "text": [
      "\n"
     ]
    },
    {
     "name": "stdout",
     "output_type": "stream",
     "text": [
      "\n",
      "      Epoch    GPU_mem   box_loss   cls_loss   dfl_loss  Instances       Size\n"
     ]
    },
    {
     "name": "stderr",
     "output_type": "stream",
     "text": [
      "      30/50         0G     0.8318     0.8104      1.134          7        640: 100%|██████████| 224/224 [26:19<00:00,  7.05s/it]\n",
      "                 Class     Images  Instances      Box(P          R      mAP50  mAP50-95): 100%|██████████| 32/32 [02:22<00:00,  4.44s/it]"
     ]
    },
    {
     "name": "stdout",
     "output_type": "stream",
     "text": [
      "                   all        510        510      0.908       0.91       0.95      0.749\n"
     ]
    },
    {
     "name": "stderr",
     "output_type": "stream",
     "text": [
      "\n"
     ]
    },
    {
     "name": "stdout",
     "output_type": "stream",
     "text": [
      "\n",
      "      Epoch    GPU_mem   box_loss   cls_loss   dfl_loss  Instances       Size\n"
     ]
    },
    {
     "name": "stderr",
     "output_type": "stream",
     "text": [
      "      31/50         0G     0.8369     0.7952      1.131         15        640: 100%|██████████| 224/224 [26:29<00:00,  7.09s/it]\n",
      "                 Class     Images  Instances      Box(P          R      mAP50  mAP50-95): 100%|██████████| 32/32 [02:23<00:00,  4.47s/it]"
     ]
    },
    {
     "name": "stdout",
     "output_type": "stream",
     "text": [
      "                   all        510        510      0.916      0.909      0.954      0.767\n"
     ]
    },
    {
     "name": "stderr",
     "output_type": "stream",
     "text": [
      "\n"
     ]
    },
    {
     "name": "stdout",
     "output_type": "stream",
     "text": [
      "\n",
      "      Epoch    GPU_mem   box_loss   cls_loss   dfl_loss  Instances       Size\n"
     ]
    },
    {
     "name": "stderr",
     "output_type": "stream",
     "text": [
      "      32/50         0G     0.7959     0.7857      1.111          8        640: 100%|██████████| 224/224 [26:23<00:00,  7.07s/it]\n",
      "                 Class     Images  Instances      Box(P          R      mAP50  mAP50-95): 100%|██████████| 32/32 [02:25<00:00,  4.55s/it]"
     ]
    },
    {
     "name": "stdout",
     "output_type": "stream",
     "text": [
      "                   all        510        510      0.925      0.896       0.95      0.758\n"
     ]
    },
    {
     "name": "stderr",
     "output_type": "stream",
     "text": [
      "\n"
     ]
    },
    {
     "name": "stdout",
     "output_type": "stream",
     "text": [
      "\n",
      "      Epoch    GPU_mem   box_loss   cls_loss   dfl_loss  Instances       Size\n"
     ]
    },
    {
     "name": "stderr",
     "output_type": "stream",
     "text": [
      "      33/50         0G     0.7934     0.7792      1.116          6        640: 100%|██████████| 224/224 [26:39<00:00,  7.14s/it]\n",
      "                 Class     Images  Instances      Box(P          R      mAP50  mAP50-95): 100%|██████████| 32/32 [02:21<00:00,  4.44s/it]"
     ]
    },
    {
     "name": "stdout",
     "output_type": "stream",
     "text": [
      "                   all        510        510      0.934      0.918      0.958      0.762\n"
     ]
    },
    {
     "name": "stderr",
     "output_type": "stream",
     "text": [
      "\n"
     ]
    },
    {
     "name": "stdout",
     "output_type": "stream",
     "text": [
      "\n",
      "      Epoch    GPU_mem   box_loss   cls_loss   dfl_loss  Instances       Size\n"
     ]
    },
    {
     "name": "stderr",
     "output_type": "stream",
     "text": [
      "      34/50         0G     0.7812     0.7333      1.104          8        640: 100%|██████████| 224/224 [26:52<00:00,  7.20s/it]\n",
      "                 Class     Images  Instances      Box(P          R      mAP50  mAP50-95): 100%|██████████| 32/32 [02:23<00:00,  4.48s/it]"
     ]
    },
    {
     "name": "stdout",
     "output_type": "stream",
     "text": [
      "                   all        510        510      0.947      0.899      0.956      0.765\n"
     ]
    },
    {
     "name": "stderr",
     "output_type": "stream",
     "text": [
      "\n"
     ]
    },
    {
     "name": "stdout",
     "output_type": "stream",
     "text": [
      "\n",
      "      Epoch    GPU_mem   box_loss   cls_loss   dfl_loss  Instances       Size\n"
     ]
    },
    {
     "name": "stderr",
     "output_type": "stream",
     "text": [
      "      35/50         0G     0.7782      0.731      1.096         11        640: 100%|██████████| 224/224 [26:52<00:00,  7.20s/it]\n",
      "                 Class     Images  Instances      Box(P          R      mAP50  mAP50-95): 100%|██████████| 32/32 [02:24<00:00,  4.52s/it]"
     ]
    },
    {
     "name": "stdout",
     "output_type": "stream",
     "text": [
      "                   all        510        510      0.961      0.891      0.958      0.775\n"
     ]
    },
    {
     "name": "stderr",
     "output_type": "stream",
     "text": [
      "\n"
     ]
    },
    {
     "name": "stdout",
     "output_type": "stream",
     "text": [
      "\n",
      "      Epoch    GPU_mem   box_loss   cls_loss   dfl_loss  Instances       Size\n"
     ]
    },
    {
     "name": "stderr",
     "output_type": "stream",
     "text": [
      "      36/50         0G     0.7868     0.7505      1.106          8        640: 100%|██████████| 224/224 [26:55<00:00,  7.21s/it]\n",
      "                 Class     Images  Instances      Box(P          R      mAP50  mAP50-95): 100%|██████████| 32/32 [02:27<00:00,  4.61s/it]"
     ]
    },
    {
     "name": "stdout",
     "output_type": "stream",
     "text": [
      "                   all        510        510      0.937      0.908      0.954      0.766\n"
     ]
    },
    {
     "name": "stderr",
     "output_type": "stream",
     "text": [
      "\n"
     ]
    },
    {
     "name": "stdout",
     "output_type": "stream",
     "text": [
      "\n",
      "      Epoch    GPU_mem   box_loss   cls_loss   dfl_loss  Instances       Size\n"
     ]
    },
    {
     "name": "stderr",
     "output_type": "stream",
     "text": [
      "      37/50         0G       0.76     0.7001       1.09         10        640: 100%|██████████| 224/224 [29:06<00:00,  7.80s/it]\n",
      "                 Class     Images  Instances      Box(P          R      mAP50  mAP50-95): 100%|██████████| 32/32 [02:32<00:00,  4.78s/it]"
     ]
    },
    {
     "name": "stdout",
     "output_type": "stream",
     "text": [
      "                   all        510        510      0.937      0.918      0.953       0.77\n"
     ]
    },
    {
     "name": "stderr",
     "output_type": "stream",
     "text": [
      "\n"
     ]
    },
    {
     "name": "stdout",
     "output_type": "stream",
     "text": [
      "\n",
      "      Epoch    GPU_mem   box_loss   cls_loss   dfl_loss  Instances       Size\n"
     ]
    },
    {
     "name": "stderr",
     "output_type": "stream",
     "text": [
      "      38/50         0G     0.7497     0.6726      1.088         10        640: 100%|██████████| 224/224 [30:35<00:00,  8.20s/it]\n",
      "                 Class     Images  Instances      Box(P          R      mAP50  mAP50-95): 100%|██████████| 32/32 [02:32<00:00,  4.78s/it]"
     ]
    },
    {
     "name": "stdout",
     "output_type": "stream",
     "text": [
      "                   all        510        510      0.943      0.913      0.964      0.785\n"
     ]
    },
    {
     "name": "stderr",
     "output_type": "stream",
     "text": [
      "\n"
     ]
    },
    {
     "name": "stdout",
     "output_type": "stream",
     "text": [
      "\n",
      "      Epoch    GPU_mem   box_loss   cls_loss   dfl_loss  Instances       Size\n"
     ]
    },
    {
     "name": "stderr",
     "output_type": "stream",
     "text": [
      "      39/50         0G     0.7423     0.6601      1.068         15        640:  26%|██▌       | 58/224 [07:57<23:43,  8.57s/it]"
     ]
    }
   ],
   "source": [
    "model.train(data=\"D:/yolo_project/firearm_detection_yolov8/data.yaml\", epochs=50, imgsz=640, batch=8)\n",
    "model = YOLO(\"runs/detect/train/weights/best.pt\")\n",
    "results_firearm = model.predict(source=\"D:/yolo_project/firearm_detection_yolov8/test/images\", save=True)"
   ]
  },
  {
   "cell_type": "code",
   "execution_count": null,
   "id": "ec11fc99",
   "metadata": {},
   "outputs": [],
   "source": []
  }
 ],
 "metadata": {
  "kernelspec": {
   "display_name": "Python 3",
   "language": "python",
   "name": "python3"
  },
  "language_info": {
   "codemirror_mode": {
    "name": "ipython",
    "version": 3
   },
   "file_extension": ".py",
   "mimetype": "text/x-python",
   "name": "python",
   "nbconvert_exporter": "python",
   "pygments_lexer": "ipython3",
   "version": "3.10.0"
  }
 },
 "nbformat": 4,
 "nbformat_minor": 5
}
